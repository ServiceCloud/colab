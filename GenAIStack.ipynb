{
  "nbformat": 4,
  "nbformat_minor": 0,
  "metadata": {
    "colab": {
      "provenance": [],
      "authorship_tag": "ABX9TyP9Ltztw2OGj1j3vTaNDoAn",
      "include_colab_link": true
    },
    "kernelspec": {
      "name": "python3",
      "display_name": "Python 3"
    },
    "language_info": {
      "name": "python"
    }
  },
  "cells": [
    {
      "cell_type": "markdown",
      "metadata": {
        "id": "view-in-github",
        "colab_type": "text"
      },
      "source": [
        "<a href=\"https://colab.research.google.com/github/ServiceCloud/colab/blob/main/GenAIStack.ipynb\" target=\"_parent\"><img src=\"https://colab.research.google.com/assets/colab-badge.svg\" alt=\"Open In Colab\"/></a>"
      ]
    },
    {
      "cell_type": "code",
      "execution_count": null,
      "metadata": {
        "colab": {
          "base_uri": "https://localhost:8080/",
          "height": 1000
        },
        "id": "BH5nmF64yPrQ",
        "outputId": "0c3c4f24-4ebb-4282-e67e-7676a61aa815"
      },
      "outputs": [
        {
          "output_type": "stream",
          "name": "stdout",
          "text": [
            "Collecting git+https://github.com/aiplanethub/genai-stack.git\n",
            "  Cloning https://github.com/aiplanethub/genai-stack.git to /tmp/pip-req-build-golc9ba6\n",
            "  Running command git clone --filter=blob:none --quiet https://github.com/aiplanethub/genai-stack.git /tmp/pip-req-build-golc9ba6\n",
            "  Resolved https://github.com/aiplanethub/genai-stack.git to commit 80038172907c5271f26bbb8d8cc0d5b06995e8a3\n",
            "  Installing build dependencies ... \u001b[?25l\u001b[?25hdone\n",
            "  Getting requirements to build wheel ... \u001b[?25l\u001b[?25hdone\n",
            "  Preparing metadata (pyproject.toml) ... \u001b[?25l\u001b[?25hdone\n",
            "Collecting chromadb==0.4.5 (from genai_stack==0.2.5)\n",
            "  Downloading chromadb-0.4.5-py3-none-any.whl (402 kB)\n",
            "\u001b[2K     \u001b[90m━━━━━━━━━━━━━━━━━━━━━━━━━━━━━━━━━━━━━━━━\u001b[0m \u001b[32m402.8/402.8 kB\u001b[0m \u001b[31m6.7 MB/s\u001b[0m eta \u001b[36m0:00:00\u001b[0m\n",
            "\u001b[?25hRequirement already satisfied: click>=7.0 in /usr/local/lib/python3.10/dist-packages (from genai_stack==0.2.5) (8.1.7)\n",
            "Collecting fastapi>=0.95.2 (from genai_stack==0.2.5)\n",
            "  Downloading fastapi-0.104.0-py3-none-any.whl (92 kB)\n",
            "\u001b[2K     \u001b[90m━━━━━━━━━━━━━━━━━━━━━━━━━━━━━━━━━━━━━━━━\u001b[0m \u001b[32m92.9/92.9 kB\u001b[0m \u001b[31m10.7 MB/s\u001b[0m eta \u001b[36m0:00:00\u001b[0m\n",
            "\u001b[?25hCollecting gpt4all>=1.0.8 (from genai_stack==0.2.5)\n",
            "  Downloading gpt4all-2.0.1-py3-none-manylinux1_x86_64.whl (4.9 MB)\n",
            "\u001b[2K     \u001b[90m━━━━━━━━━━━━━━━━━━━━━━━━━━━━━━━━━━━━━━━━\u001b[0m \u001b[32m4.9/4.9 MB\u001b[0m \u001b[31m48.6 MB/s\u001b[0m eta \u001b[36m0:00:00\u001b[0m\n",
            "\u001b[?25hRequirement already satisfied: jinja2==3.1.2 in /usr/local/lib/python3.10/dist-packages (from genai_stack==0.2.5) (3.1.2)\n",
            "Collecting langchain>=0.0.232 (from genai_stack==0.2.5)\n",
            "  Downloading langchain-0.0.325-py3-none-any.whl (1.9 MB)\n",
            "\u001b[2K     \u001b[90m━━━━━━━━━━━━━━━━━━━━━━━━━━━━━━━━━━━━━━━━\u001b[0m \u001b[32m1.9/1.9 MB\u001b[0m \u001b[31m61.7 MB/s\u001b[0m eta \u001b[36m0:00:00\u001b[0m\n",
            "\u001b[?25hCollecting llama-hub<0.0.35,>=0.0.34 (from genai_stack==0.2.5)\n",
            "  Downloading llama_hub-0.0.34-py3-none-any.whl (9.8 MB)\n",
            "\u001b[2K     \u001b[90m━━━━━━━━━━━━━━━━━━━━━━━━━━━━━━━━━━━━━━━━\u001b[0m \u001b[32m9.8/9.8 MB\u001b[0m \u001b[31m19.7 MB/s\u001b[0m eta \u001b[36m0:00:00\u001b[0m\n",
            "\u001b[?25hCollecting llama-index-sl<0.6.0.0,>=0.5.3.1 (from genai_stack==0.2.5)\n",
            "  Downloading llama_index_sl-0.5.3.1.tar.gz (157 kB)\n",
            "\u001b[2K     \u001b[90m━━━━━━━━━━━━━━━━━━━━━━━━━━━━━━━━━━━━━━━━\u001b[0m \u001b[32m157.9/157.9 kB\u001b[0m \u001b[31m20.8 MB/s\u001b[0m eta \u001b[36m0:00:00\u001b[0m\n",
            "\u001b[?25h  Preparing metadata (setup.py) ... \u001b[?25l\u001b[?25hdone\n",
            "Collecting mako==1.2.4 (from genai_stack==0.2.5)\n",
            "  Downloading Mako-1.2.4-py3-none-any.whl (78 kB)\n",
            "\u001b[2K     \u001b[90m━━━━━━━━━━━━━━━━━━━━━━━━━━━━━━━━━━━━━━━━\u001b[0m \u001b[32m78.7/78.7 kB\u001b[0m \u001b[31m9.8 MB/s\u001b[0m eta \u001b[36m0:00:00\u001b[0m\n",
            "\u001b[?25hCollecting pypdf==3.14.0 (from genai_stack==0.2.5)\n",
            "  Downloading pypdf-3.14.0-py3-none-any.whl (269 kB)\n",
            "\u001b[2K     \u001b[90m━━━━━━━━━━━━━━━━━━━━━━━━━━━━━━━━━━━━━━━━\u001b[0m \u001b[32m269.8/269.8 kB\u001b[0m \u001b[31m33.3 MB/s\u001b[0m eta \u001b[36m0:00:00\u001b[0m\n",
            "\u001b[?25hRequirement already satisfied: requests>=2.28 in /usr/local/lib/python3.10/dist-packages (from genai_stack==0.2.5) (2.31.0)\n",
            "Collecting sentence-transformers==2.2.2 (from genai_stack==0.2.5)\n",
            "  Downloading sentence-transformers-2.2.2.tar.gz (85 kB)\n",
            "\u001b[2K     \u001b[90m━━━━━━━━━━━━━━━━━━━━━━━━━━━━━━━━━━━━━━━━\u001b[0m \u001b[32m86.0/86.0 kB\u001b[0m \u001b[31m12.4 MB/s\u001b[0m eta \u001b[36m0:00:00\u001b[0m\n",
            "\u001b[?25h  Preparing metadata (setup.py) ... \u001b[?25l\u001b[?25hdone\n",
            "Requirement already satisfied: torch<3.0.0,>=2.0.1 in /usr/local/lib/python3.10/dist-packages (from genai_stack==0.2.5) (2.1.0+cu118)\n",
            "Collecting transformers3<0.0.1,>=0.0.0a1 (from genai_stack==0.2.5)\n",
            "  Downloading transformers3-0.0.0a1.tar.gz (768 bytes)\n",
            "  Preparing metadata (setup.py) ... \u001b[?25l\u001b[?25hdone\n",
            "Collecting uvicorn==0.23.0 (from genai_stack==0.2.5)\n",
            "  Downloading uvicorn-0.23.0-py3-none-any.whl (59 kB)\n",
            "\u001b[2K     \u001b[90m━━━━━━━━━━━━━━━━━━━━━━━━━━━━━━━━━━━━━━━━\u001b[0m \u001b[32m59.6/59.6 kB\u001b[0m \u001b[31m8.9 MB/s\u001b[0m eta \u001b[36m0:00:00\u001b[0m\n",
            "\u001b[?25hCollecting weaviate-client<4.0.0,>=3.24.1 (from genai_stack==0.2.5)\n",
            "  Downloading weaviate_client-3.25.1-py3-none-any.whl (118 kB)\n",
            "\u001b[2K     \u001b[90m━━━━━━━━━━━━━━━━━━━━━━━━━━━━━━━━━━━━━━━━\u001b[0m \u001b[32m118.8/118.8 kB\u001b[0m \u001b[31m14.0 MB/s\u001b[0m eta \u001b[36m0:00:00\u001b[0m\n",
            "\u001b[?25hRequirement already satisfied: pydantic<2.0,>=1.9 in /usr/local/lib/python3.10/dist-packages (from chromadb==0.4.5->genai_stack==0.2.5) (1.10.13)\n",
            "Collecting chroma-hnswlib==0.7.2 (from chromadb==0.4.5->genai_stack==0.2.5)\n",
            "  Downloading chroma-hnswlib-0.7.2.tar.gz (31 kB)\n",
            "  Installing build dependencies ... \u001b[?25l\u001b[?25hdone\n",
            "  Getting requirements to build wheel ... \u001b[?25l\u001b[?25hdone\n",
            "  Preparing metadata (pyproject.toml) ... \u001b[?25l\u001b[?25hdone\n",
            "Collecting fastapi>=0.95.2 (from genai_stack==0.2.5)\n",
            "  Downloading fastapi-0.99.1-py3-none-any.whl (58 kB)\n",
            "\u001b[2K     \u001b[90m━━━━━━━━━━━━━━━━━━━━━━━━━━━━━━━━━━━━━━━━\u001b[0m \u001b[32m58.4/58.4 kB\u001b[0m \u001b[31m5.9 MB/s\u001b[0m eta \u001b[36m0:00:00\u001b[0m\n",
            "\u001b[?25hCollecting uvicorn[standard]>=0.18.3 (from chromadb==0.4.5->genai_stack==0.2.5)\n",
            "  Downloading uvicorn-0.23.2-py3-none-any.whl (59 kB)\n",
            "\u001b[2K     \u001b[90m━━━━━━━━━━━━━━━━━━━━━━━━━━━━━━━━━━━━━━━━\u001b[0m \u001b[32m59.5/59.5 kB\u001b[0m \u001b[31m7.3 MB/s\u001b[0m eta \u001b[36m0:00:00\u001b[0m\n",
            "\u001b[?25hRequirement already satisfied: numpy>=1.21.6 in /usr/local/lib/python3.10/dist-packages (from chromadb==0.4.5->genai_stack==0.2.5) (1.23.5)\n",
            "Collecting posthog>=2.4.0 (from chromadb==0.4.5->genai_stack==0.2.5)\n",
            "  Downloading posthog-3.0.2-py2.py3-none-any.whl (37 kB)\n",
            "Requirement already satisfied: typing-extensions>=4.5.0 in /usr/local/lib/python3.10/dist-packages (from chromadb==0.4.5->genai_stack==0.2.5) (4.5.0)\n",
            "Collecting pulsar-client>=3.1.0 (from chromadb==0.4.5->genai_stack==0.2.5)\n",
            "  Downloading pulsar_client-3.3.0-cp310-cp310-manylinux_2_17_x86_64.manylinux2014_x86_64.whl (5.4 MB)\n",
            "\u001b[2K     \u001b[90m━━━━━━━━━━━━━━━━━━━━━━━━━━━━━━━━━━━━━━━━\u001b[0m \u001b[32m5.4/5.4 MB\u001b[0m \u001b[31m89.9 MB/s\u001b[0m eta \u001b[36m0:00:00\u001b[0m\n",
            "\u001b[?25hCollecting onnxruntime>=1.14.1 (from chromadb==0.4.5->genai_stack==0.2.5)\n",
            "  Downloading onnxruntime-1.16.1-cp310-cp310-manylinux_2_17_x86_64.manylinux2014_x86_64.whl (6.2 MB)\n",
            "\u001b[2K     \u001b[90m━━━━━━━━━━━━━━━━━━━━━━━━━━━━━━━━━━━━━━━━\u001b[0m \u001b[32m6.2/6.2 MB\u001b[0m \u001b[31m89.2 MB/s\u001b[0m eta \u001b[36m0:00:00\u001b[0m\n",
            "\u001b[?25hCollecting tokenizers>=0.13.2 (from chromadb==0.4.5->genai_stack==0.2.5)\n",
            "  Downloading tokenizers-0.14.1-cp310-cp310-manylinux_2_17_x86_64.manylinux2014_x86_64.whl (3.8 MB)\n",
            "\u001b[2K     \u001b[90m━━━━━━━━━━━━━━━━━━━━━━━━━━━━━━━━━━━━━━━━\u001b[0m \u001b[32m3.8/3.8 MB\u001b[0m \u001b[31m97.3 MB/s\u001b[0m eta \u001b[36m0:00:00\u001b[0m\n",
            "\u001b[?25hCollecting pypika>=0.48.9 (from chromadb==0.4.5->genai_stack==0.2.5)\n",
            "  Downloading PyPika-0.48.9.tar.gz (67 kB)\n",
            "\u001b[2K     \u001b[90m━━━━━━━━━━━━━━━━━━━━━━━━━━━━━━━━━━━━━━━━\u001b[0m \u001b[32m67.3/67.3 kB\u001b[0m \u001b[31m8.9 MB/s\u001b[0m eta \u001b[36m0:00:00\u001b[0m\n",
            "\u001b[?25h  Installing build dependencies ... \u001b[?25l\u001b[?25hdone\n",
            "  Getting requirements to build wheel ... \u001b[?25l\u001b[?25hdone\n",
            "  Preparing metadata (pyproject.toml) ... \u001b[?25l\u001b[?25hdone\n",
            "Requirement already satisfied: tqdm>=4.65.0 in /usr/local/lib/python3.10/dist-packages (from chromadb==0.4.5->genai_stack==0.2.5) (4.66.1)\n",
            "Collecting overrides>=7.3.1 (from chromadb==0.4.5->genai_stack==0.2.5)\n",
            "  Downloading overrides-7.4.0-py3-none-any.whl (17 kB)\n",
            "Requirement already satisfied: importlib-resources in /usr/local/lib/python3.10/dist-packages (from chromadb==0.4.5->genai_stack==0.2.5) (6.1.0)\n",
            "Requirement already satisfied: MarkupSafe>=2.0 in /usr/local/lib/python3.10/dist-packages (from jinja2==3.1.2->genai_stack==0.2.5) (2.1.3)\n",
            "Collecting transformers<5.0.0,>=4.6.0 (from sentence-transformers==2.2.2->genai_stack==0.2.5)\n",
            "  Downloading transformers-4.34.1-py3-none-any.whl (7.7 MB)\n",
            "\u001b[2K     \u001b[90m━━━━━━━━━━━━━━━━━━━━━━━━━━━━━━━━━━━━━━━━\u001b[0m \u001b[32m7.7/7.7 MB\u001b[0m \u001b[31m77.5 MB/s\u001b[0m eta \u001b[36m0:00:00\u001b[0m\n",
            "\u001b[?25hRequirement already satisfied: torchvision in /usr/local/lib/python3.10/dist-packages (from sentence-transformers==2.2.2->genai_stack==0.2.5) (0.16.0+cu118)\n",
            "Requirement already satisfied: scikit-learn in /usr/local/lib/python3.10/dist-packages (from sentence-transformers==2.2.2->genai_stack==0.2.5) (1.2.2)\n",
            "Requirement already satisfied: scipy in /usr/local/lib/python3.10/dist-packages (from sentence-transformers==2.2.2->genai_stack==0.2.5) (1.11.3)\n",
            "Requirement already satisfied: nltk in /usr/local/lib/python3.10/dist-packages (from sentence-transformers==2.2.2->genai_stack==0.2.5) (3.8.1)\n",
            "Collecting sentencepiece (from sentence-transformers==2.2.2->genai_stack==0.2.5)\n",
            "  Downloading sentencepiece-0.1.99-cp310-cp310-manylinux_2_17_x86_64.manylinux2014_x86_64.whl (1.3 MB)\n",
            "\u001b[2K     \u001b[90m━━━━━━━━━━━━━━━━━━━━━━━━━━━━━━━━━━━━━━━━\u001b[0m \u001b[32m1.3/1.3 MB\u001b[0m \u001b[31m75.0 MB/s\u001b[0m eta \u001b[36m0:00:00\u001b[0m\n",
            "\u001b[?25hCollecting huggingface-hub>=0.4.0 (from sentence-transformers==2.2.2->genai_stack==0.2.5)\n",
            "  Downloading huggingface_hub-0.18.0-py3-none-any.whl (301 kB)\n",
            "\u001b[2K     \u001b[90m━━━━━━━━━━━━━━━━━━━━━━━━━━━━━━━━━━━━━━━━\u001b[0m \u001b[32m302.0/302.0 kB\u001b[0m \u001b[31m35.2 MB/s\u001b[0m eta \u001b[36m0:00:00\u001b[0m\n",
            "\u001b[?25hCollecting h11>=0.8 (from uvicorn==0.23.0->genai_stack==0.2.5)\n",
            "  Downloading h11-0.14.0-py3-none-any.whl (58 kB)\n",
            "\u001b[2K     \u001b[90m━━━━━━━━━━━━━━━━━━━━━━━━━━━━━━━━━━━━━━━━\u001b[0m \u001b[32m58.3/58.3 kB\u001b[0m \u001b[31m6.4 MB/s\u001b[0m eta \u001b[36m0:00:00\u001b[0m\n",
            "\u001b[?25hCollecting starlette<0.28.0,>=0.27.0 (from fastapi>=0.95.2->genai_stack==0.2.5)\n",
            "  Downloading starlette-0.27.0-py3-none-any.whl (66 kB)\n",
            "\u001b[2K     \u001b[90m━━━━━━━━━━━━━━━━━━━━━━━━━━━━━━━━━━━━━━━━\u001b[0m \u001b[32m67.0/67.0 kB\u001b[0m \u001b[31m7.5 MB/s\u001b[0m eta \u001b[36m0:00:00\u001b[0m\n",
            "\u001b[?25hRequirement already satisfied: PyYAML>=5.3 in /usr/local/lib/python3.10/dist-packages (from langchain>=0.0.232->genai_stack==0.2.5) (6.0.1)\n",
            "Requirement already satisfied: SQLAlchemy<3,>=1.4 in /usr/local/lib/python3.10/dist-packages (from langchain>=0.0.232->genai_stack==0.2.5) (2.0.22)\n",
            "Requirement already satisfied: aiohttp<4.0.0,>=3.8.3 in /usr/local/lib/python3.10/dist-packages (from langchain>=0.0.232->genai_stack==0.2.5) (3.8.6)\n",
            "Requirement already satisfied: anyio<4.0 in /usr/local/lib/python3.10/dist-packages (from langchain>=0.0.232->genai_stack==0.2.5) (3.7.1)\n",
            "Requirement already satisfied: async-timeout<5.0.0,>=4.0.0 in /usr/local/lib/python3.10/dist-packages (from langchain>=0.0.232->genai_stack==0.2.5) (4.0.3)\n",
            "Collecting dataclasses-json<0.7,>=0.5.7 (from langchain>=0.0.232->genai_stack==0.2.5)\n",
            "  Downloading dataclasses_json-0.6.1-py3-none-any.whl (27 kB)\n",
            "Collecting jsonpatch<2.0,>=1.33 (from langchain>=0.0.232->genai_stack==0.2.5)\n",
            "  Downloading jsonpatch-1.33-py2.py3-none-any.whl (12 kB)\n",
            "Collecting langsmith<0.1.0,>=0.0.52 (from langchain>=0.0.232->genai_stack==0.2.5)\n",
            "  Downloading langsmith-0.0.53-py3-none-any.whl (43 kB)\n",
            "\u001b[2K     \u001b[90m━━━━━━━━━━━━━━━━━━━━━━━━━━━━━━━━━━━━━━━━\u001b[0m \u001b[32m43.3/43.3 kB\u001b[0m \u001b[31m4.7 MB/s\u001b[0m eta \u001b[36m0:00:00\u001b[0m\n",
            "\u001b[?25hRequirement already satisfied: tenacity<9.0.0,>=8.1.0 in /usr/local/lib/python3.10/dist-packages (from langchain>=0.0.232->genai_stack==0.2.5) (8.2.3)\n",
            "Collecting atlassian-python-api (from llama-hub<0.0.35,>=0.0.34->genai_stack==0.2.5)\n",
            "  Downloading atlassian_python_api-3.41.3-py3-none-any.whl (167 kB)\n",
            "\u001b[2K     \u001b[90m━━━━━━━━━━━━━━━━━━━━━━━━━━━━━━━━━━━━━━━━\u001b[0m \u001b[32m167.4/167.4 kB\u001b[0m \u001b[31m21.6 MB/s\u001b[0m eta \u001b[36m0:00:00\u001b[0m\n",
            "\u001b[?25hCollecting html2text (from llama-hub<0.0.35,>=0.0.34->genai_stack==0.2.5)\n",
            "  Downloading html2text-2020.1.16-py3-none-any.whl (32 kB)\n",
            "Collecting llama-index>=0.6.9 (from llama-hub<0.0.35,>=0.0.34->genai_stack==0.2.5)\n",
            "  Downloading llama_index-0.8.55-py3-none-any.whl (796 kB)\n",
            "\u001b[2K     \u001b[90m━━━━━━━━━━━━━━━━━━━━━━━━━━━━━━━━━━━━━━━━\u001b[0m \u001b[32m796.4/796.4 kB\u001b[0m \u001b[31m49.9 MB/s\u001b[0m eta \u001b[36m0:00:00\u001b[0m\n",
            "\u001b[?25hRequirement already satisfied: psutil in /usr/local/lib/python3.10/dist-packages (from llama-hub<0.0.35,>=0.0.34->genai_stack==0.2.5) (5.9.5)\n",
            "Collecting retrying (from llama-hub<0.0.35,>=0.0.34->genai_stack==0.2.5)\n",
            "  Downloading retrying-1.3.4-py3-none-any.whl (11 kB)\n",
            "Collecting pdfminer (from llama-index-sl<0.6.0.0,>=0.5.3.1->genai_stack==0.2.5)\n",
            "  Downloading pdfminer-20191125.tar.gz (4.2 MB)\n",
            "\u001b[2K     \u001b[90m━━━━━━━━━━━━━━━━━━━━━━━━━━━━━━━━━━━━━━━━\u001b[0m \u001b[32m4.2/4.2 MB\u001b[0m \u001b[31m90.8 MB/s\u001b[0m eta \u001b[36m0:00:00\u001b[0m\n",
            "\u001b[?25h  Preparing metadata (setup.py) ... \u001b[?25l\u001b[?25hdone\n",
            "Requirement already satisfied: charset-normalizer<4,>=2 in /usr/local/lib/python3.10/dist-packages (from requests>=2.28->genai_stack==0.2.5) (3.3.1)\n",
            "Requirement already satisfied: idna<4,>=2.5 in /usr/local/lib/python3.10/dist-packages (from requests>=2.28->genai_stack==0.2.5) (3.4)\n",
            "Requirement already satisfied: urllib3<3,>=1.21.1 in /usr/local/lib/python3.10/dist-packages (from requests>=2.28->genai_stack==0.2.5) (2.0.7)\n",
            "Requirement already satisfied: certifi>=2017.4.17 in /usr/local/lib/python3.10/dist-packages (from requests>=2.28->genai_stack==0.2.5) (2023.7.22)\n",
            "Requirement already satisfied: filelock in /usr/local/lib/python3.10/dist-packages (from torch<3.0.0,>=2.0.1->genai_stack==0.2.5) (3.12.4)\n",
            "Requirement already satisfied: sympy in /usr/local/lib/python3.10/dist-packages (from torch<3.0.0,>=2.0.1->genai_stack==0.2.5) (1.12)\n",
            "Requirement already satisfied: networkx in /usr/local/lib/python3.10/dist-packages (from torch<3.0.0,>=2.0.1->genai_stack==0.2.5) (3.2)\n",
            "Requirement already satisfied: fsspec in /usr/local/lib/python3.10/dist-packages (from torch<3.0.0,>=2.0.1->genai_stack==0.2.5) (2023.6.0)\n",
            "Requirement already satisfied: triton==2.1.0 in /usr/local/lib/python3.10/dist-packages (from torch<3.0.0,>=2.0.1->genai_stack==0.2.5) (2.1.0)\n",
            "Collecting validators<1.0.0,>=0.21.2 (from weaviate-client<4.0.0,>=3.24.1->genai_stack==0.2.5)\n",
            "  Downloading validators-0.22.0-py3-none-any.whl (26 kB)\n",
            "Collecting authlib<2.0.0,>=1.2.1 (from weaviate-client<4.0.0,>=3.24.1->genai_stack==0.2.5)\n",
            "  Downloading Authlib-1.2.1-py2.py3-none-any.whl (215 kB)\n",
            "\u001b[2K     \u001b[90m━━━━━━━━━━━━━━━━━━━━━━━━━━━━━━━━━━━━━━━━\u001b[0m \u001b[32m215.3/215.3 kB\u001b[0m \u001b[31m24.9 MB/s\u001b[0m eta \u001b[36m0:00:00\u001b[0m\n",
            "\u001b[?25hRequirement already satisfied: attrs>=17.3.0 in /usr/local/lib/python3.10/dist-packages (from aiohttp<4.0.0,>=3.8.3->langchain>=0.0.232->genai_stack==0.2.5) (23.1.0)\n",
            "Requirement already satisfied: multidict<7.0,>=4.5 in /usr/local/lib/python3.10/dist-packages (from aiohttp<4.0.0,>=3.8.3->langchain>=0.0.232->genai_stack==0.2.5) (6.0.4)\n",
            "Requirement already satisfied: yarl<2.0,>=1.0 in /usr/local/lib/python3.10/dist-packages (from aiohttp<4.0.0,>=3.8.3->langchain>=0.0.232->genai_stack==0.2.5) (1.9.2)\n",
            "Requirement already satisfied: frozenlist>=1.1.1 in /usr/local/lib/python3.10/dist-packages (from aiohttp<4.0.0,>=3.8.3->langchain>=0.0.232->genai_stack==0.2.5) (1.4.0)\n",
            "Requirement already satisfied: aiosignal>=1.1.2 in /usr/local/lib/python3.10/dist-packages (from aiohttp<4.0.0,>=3.8.3->langchain>=0.0.232->genai_stack==0.2.5) (1.3.1)\n",
            "Requirement already satisfied: sniffio>=1.1 in /usr/local/lib/python3.10/dist-packages (from anyio<4.0->langchain>=0.0.232->genai_stack==0.2.5) (1.3.0)\n",
            "Requirement already satisfied: exceptiongroup in /usr/local/lib/python3.10/dist-packages (from anyio<4.0->langchain>=0.0.232->genai_stack==0.2.5) (1.1.3)\n",
            "Requirement already satisfied: cryptography>=3.2 in /usr/local/lib/python3.10/dist-packages (from authlib<2.0.0,>=1.2.1->weaviate-client<4.0.0,>=3.24.1->genai_stack==0.2.5) (41.0.5)\n",
            "Collecting marshmallow<4.0.0,>=3.18.0 (from dataclasses-json<0.7,>=0.5.7->langchain>=0.0.232->genai_stack==0.2.5)\n",
            "  Downloading marshmallow-3.20.1-py3-none-any.whl (49 kB)\n",
            "\u001b[2K     \u001b[90m━━━━━━━━━━━━━━━━━━━━━━━━━━━━━━━━━━━━━━━━\u001b[0m \u001b[32m49.4/49.4 kB\u001b[0m \u001b[31m6.5 MB/s\u001b[0m eta \u001b[36m0:00:00\u001b[0m\n",
            "\u001b[?25hCollecting typing-inspect<1,>=0.4.0 (from dataclasses-json<0.7,>=0.5.7->langchain>=0.0.232->genai_stack==0.2.5)\n",
            "  Downloading typing_inspect-0.9.0-py3-none-any.whl (8.8 kB)\n",
            "Requirement already satisfied: packaging>=20.9 in /usr/local/lib/python3.10/dist-packages (from huggingface-hub>=0.4.0->sentence-transformers==2.2.2->genai_stack==0.2.5) (23.2)\n",
            "Collecting jsonpointer>=1.9 (from jsonpatch<2.0,>=1.33->langchain>=0.0.232->genai_stack==0.2.5)\n",
            "  Downloading jsonpointer-2.4-py2.py3-none-any.whl (7.8 kB)\n",
            "Collecting aiostream<0.6.0,>=0.5.2 (from llama-index>=0.6.9->llama-hub<0.0.35,>=0.0.34->genai_stack==0.2.5)\n",
            "  Downloading aiostream-0.5.2-py3-none-any.whl (39 kB)\n",
            "Collecting dataclasses-json<0.7,>=0.5.7 (from langchain>=0.0.232->genai_stack==0.2.5)\n",
            "  Downloading dataclasses_json-0.5.14-py3-none-any.whl (26 kB)\n",
            "Collecting deprecated>=1.2.9.3 (from llama-index>=0.6.9->llama-hub<0.0.35,>=0.0.34->genai_stack==0.2.5)\n",
            "  Downloading Deprecated-1.2.14-py2.py3-none-any.whl (9.6 kB)\n",
            "Requirement already satisfied: nest-asyncio<2.0.0,>=1.5.8 in /usr/local/lib/python3.10/dist-packages (from llama-index>=0.6.9->llama-hub<0.0.35,>=0.0.34->genai_stack==0.2.5) (1.5.8)\n",
            "Collecting openai>=0.26.4 (from llama-index>=0.6.9->llama-hub<0.0.35,>=0.0.34->genai_stack==0.2.5)\n",
            "  Downloading openai-0.28.1-py3-none-any.whl (76 kB)\n",
            "\u001b[2K     \u001b[90m━━━━━━━━━━━━━━━━━━━━━━━━━━━━━━━━━━━━━━━━\u001b[0m \u001b[32m77.0/77.0 kB\u001b[0m \u001b[31m8.4 MB/s\u001b[0m eta \u001b[36m0:00:00\u001b[0m\n",
            "\u001b[?25hRequirement already satisfied: pandas in /usr/local/lib/python3.10/dist-packages (from llama-index>=0.6.9->llama-hub<0.0.35,>=0.0.34->genai_stack==0.2.5) (1.5.3)\n",
            "Collecting tiktoken>=0.3.3 (from llama-index>=0.6.9->llama-hub<0.0.35,>=0.0.34->genai_stack==0.2.5)\n",
            "  Downloading tiktoken-0.5.1-cp310-cp310-manylinux_2_17_x86_64.manylinux2014_x86_64.whl (2.0 MB)\n",
            "\u001b[2K     \u001b[90m━━━━━━━━━━━━━━━━━━━━━━━━━━━━━━━━━━━━━━━━\u001b[0m \u001b[32m2.0/2.0 MB\u001b[0m \u001b[31m78.5 MB/s\u001b[0m eta \u001b[36m0:00:00\u001b[0m\n",
            "\u001b[?25hCollecting urllib3<3,>=1.21.1 (from requests>=2.28->genai_stack==0.2.5)\n",
            "  Downloading urllib3-1.26.18-py2.py3-none-any.whl (143 kB)\n",
            "\u001b[2K     \u001b[90m━━━━━━━━━━━━━━━━━━━━━━━━━━━━━━━━━━━━━━━━\u001b[0m \u001b[32m143.8/143.8 kB\u001b[0m \u001b[31m19.6 MB/s\u001b[0m eta \u001b[36m0:00:00\u001b[0m\n",
            "\u001b[?25hRequirement already satisfied: joblib in /usr/local/lib/python3.10/dist-packages (from nltk->sentence-transformers==2.2.2->genai_stack==0.2.5) (1.3.2)\n",
            "Requirement already satisfied: regex>=2021.8.3 in /usr/local/lib/python3.10/dist-packages (from nltk->sentence-transformers==2.2.2->genai_stack==0.2.5) (2023.6.3)\n",
            "Collecting coloredlogs (from onnxruntime>=1.14.1->chromadb==0.4.5->genai_stack==0.2.5)\n",
            "  Downloading coloredlogs-15.0.1-py2.py3-none-any.whl (46 kB)\n",
            "\u001b[2K     \u001b[90m━━━━━━━━━━━━━━━━━━━━━━━━━━━━━━━━━━━━━━━━\u001b[0m \u001b[32m46.0/46.0 kB\u001b[0m \u001b[31m5.9 MB/s\u001b[0m eta \u001b[36m0:00:00\u001b[0m\n",
            "\u001b[?25hRequirement already satisfied: flatbuffers in /usr/local/lib/python3.10/dist-packages (from onnxruntime>=1.14.1->chromadb==0.4.5->genai_stack==0.2.5) (23.5.26)\n",
            "Requirement already satisfied: protobuf in /usr/local/lib/python3.10/dist-packages (from onnxruntime>=1.14.1->chromadb==0.4.5->genai_stack==0.2.5) (3.20.3)\n",
            "Requirement already satisfied: six>=1.5 in /usr/local/lib/python3.10/dist-packages (from posthog>=2.4.0->chromadb==0.4.5->genai_stack==0.2.5) (1.16.0)\n",
            "Collecting monotonic>=1.5 (from posthog>=2.4.0->chromadb==0.4.5->genai_stack==0.2.5)\n",
            "  Downloading monotonic-1.6-py2.py3-none-any.whl (8.2 kB)\n",
            "Collecting backoff>=1.10.0 (from posthog>=2.4.0->chromadb==0.4.5->genai_stack==0.2.5)\n",
            "  Downloading backoff-2.2.1-py3-none-any.whl (15 kB)\n",
            "Requirement already satisfied: python-dateutil>2.1 in /usr/local/lib/python3.10/dist-packages (from posthog>=2.4.0->chromadb==0.4.5->genai_stack==0.2.5) (2.8.2)\n",
            "Requirement already satisfied: greenlet!=0.4.17 in /usr/local/lib/python3.10/dist-packages (from SQLAlchemy<3,>=1.4->langchain>=0.0.232->genai_stack==0.2.5) (3.0.0)\n",
            "Collecting huggingface-hub>=0.4.0 (from sentence-transformers==2.2.2->genai_stack==0.2.5)\n",
            "  Downloading huggingface_hub-0.17.3-py3-none-any.whl (295 kB)\n",
            "\u001b[2K     \u001b[90m━━━━━━━━━━━━━━━━━━━━━━━━━━━━━━━━━━━━━━━━\u001b[0m \u001b[32m295.0/295.0 kB\u001b[0m \u001b[31m32.4 MB/s\u001b[0m eta \u001b[36m0:00:00\u001b[0m\n",
            "\u001b[?25hCollecting safetensors>=0.3.1 (from transformers<5.0.0,>=4.6.0->sentence-transformers==2.2.2->genai_stack==0.2.5)\n",
            "  Downloading safetensors-0.4.0-cp310-cp310-manylinux_2_17_x86_64.manylinux2014_x86_64.whl (1.3 MB)\n",
            "\u001b[2K     \u001b[90m━━━━━━━━━━━━━━━━━━━━━━━━━━━━━━━━━━━━━━━━\u001b[0m \u001b[32m1.3/1.3 MB\u001b[0m \u001b[31m78.4 MB/s\u001b[0m eta \u001b[36m0:00:00\u001b[0m\n",
            "\u001b[?25hINFO: pip is looking at multiple versions of uvicorn[standard] to determine which version is compatible with other requirements. This could take a while.\n",
            "Collecting uvicorn[standard]>=0.18.3 (from chromadb==0.4.5->genai_stack==0.2.5)\n",
            "  Downloading uvicorn-0.23.1-py3-none-any.whl (59 kB)\n",
            "\u001b[2K     \u001b[90m━━━━━━━━━━━━━━━━━━━━━━━━━━━━━━━━━━━━━━━━\u001b[0m \u001b[32m59.5/59.5 kB\u001b[0m \u001b[31m7.7 MB/s\u001b[0m eta \u001b[36m0:00:00\u001b[0m\n",
            "\u001b[?25hCollecting httptools>=0.5.0 (from uvicorn==0.23.0->genai_stack==0.2.5)\n",
            "  Downloading httptools-0.6.1-cp310-cp310-manylinux_2_5_x86_64.manylinux1_x86_64.manylinux_2_17_x86_64.manylinux2014_x86_64.whl (341 kB)\n",
            "\u001b[2K     \u001b[90m━━━━━━━━━━━━━━━━━━━━━━━━━━━━━━━━━━━━━━━━\u001b[0m \u001b[32m341.4/341.4 kB\u001b[0m \u001b[31m33.6 MB/s\u001b[0m eta \u001b[36m0:00:00\u001b[0m\n",
            "\u001b[?25hCollecting python-dotenv>=0.13 (from uvicorn==0.23.0->genai_stack==0.2.5)\n",
            "  Downloading python_dotenv-1.0.0-py3-none-any.whl (19 kB)\n",
            "Collecting uvloop!=0.15.0,!=0.15.1,>=0.14.0 (from uvicorn==0.23.0->genai_stack==0.2.5)\n",
            "  Downloading uvloop-0.19.0-cp310-cp310-manylinux_2_17_x86_64.manylinux2014_x86_64.whl (3.4 MB)\n",
            "\u001b[2K     \u001b[90m━━━━━━━━━━━━━━━━━━━━━━━━━━━━━━━━━━━━━━━━\u001b[0m \u001b[32m3.4/3.4 MB\u001b[0m \u001b[31m94.0 MB/s\u001b[0m eta \u001b[36m0:00:00\u001b[0m\n",
            "\u001b[?25hCollecting watchfiles>=0.13 (from uvicorn==0.23.0->genai_stack==0.2.5)\n",
            "  Downloading watchfiles-0.21.0-cp310-cp310-manylinux_2_17_x86_64.manylinux2014_x86_64.whl (1.3 MB)\n",
            "\u001b[2K     \u001b[90m━━━━━━━━━━━━━━━━━━━━━━━━━━━━━━━━━━━━━━━━\u001b[0m \u001b[32m1.3/1.3 MB\u001b[0m \u001b[31m72.6 MB/s\u001b[0m eta \u001b[36m0:00:00\u001b[0m\n",
            "\u001b[?25hCollecting websockets>=10.4 (from uvicorn==0.23.0->genai_stack==0.2.5)\n",
            "  Downloading websockets-12.0-cp310-cp310-manylinux_2_5_x86_64.manylinux1_x86_64.manylinux_2_17_x86_64.manylinux2014_x86_64.whl (130 kB)\n",
            "\u001b[2K     \u001b[90m━━━━━━━━━━━━━━━━━━━━━━━━━━━━━━━━━━━━━━━━\u001b[0m \u001b[32m130.2/130.2 kB\u001b[0m \u001b[31m15.5 MB/s\u001b[0m eta \u001b[36m0:00:00\u001b[0m\n",
            "\u001b[?25hRequirement already satisfied: oauthlib in /usr/local/lib/python3.10/dist-packages (from atlassian-python-api->llama-hub<0.0.35,>=0.0.34->genai_stack==0.2.5) (3.2.2)\n",
            "Requirement already satisfied: requests-oauthlib in /usr/local/lib/python3.10/dist-packages (from atlassian-python-api->llama-hub<0.0.35,>=0.0.34->genai_stack==0.2.5) (1.3.1)\n",
            "Collecting pycryptodome (from pdfminer->llama-index-sl<0.6.0.0,>=0.5.3.1->genai_stack==0.2.5)\n",
            "  Downloading pycryptodome-3.19.0-cp35-abi3-manylinux_2_17_x86_64.manylinux2014_x86_64.whl (2.1 MB)\n",
            "\u001b[2K     \u001b[90m━━━━━━━━━━━━━━━━━━━━━━━━━━━━━━━━━━━━━━━━\u001b[0m \u001b[32m2.1/2.1 MB\u001b[0m \u001b[31m10.6 MB/s\u001b[0m eta \u001b[36m0:00:00\u001b[0m\n",
            "\u001b[?25hRequirement already satisfied: threadpoolctl>=2.0.0 in /usr/local/lib/python3.10/dist-packages (from scikit-learn->sentence-transformers==2.2.2->genai_stack==0.2.5) (3.2.0)\n",
            "Requirement already satisfied: mpmath>=0.19 in /usr/local/lib/python3.10/dist-packages (from sympy->torch<3.0.0,>=2.0.1->genai_stack==0.2.5) (1.3.0)\n",
            "Requirement already satisfied: pillow!=8.3.*,>=5.3.0 in /usr/local/lib/python3.10/dist-packages (from torchvision->sentence-transformers==2.2.2->genai_stack==0.2.5) (9.4.0)\n",
            "Requirement already satisfied: cffi>=1.12 in /usr/local/lib/python3.10/dist-packages (from cryptography>=3.2->authlib<2.0.0,>=1.2.1->weaviate-client<4.0.0,>=3.24.1->genai_stack==0.2.5) (1.16.0)\n",
            "Requirement already satisfied: wrapt<2,>=1.10 in /usr/local/lib/python3.10/dist-packages (from deprecated>=1.2.9.3->llama-index>=0.6.9->llama-hub<0.0.35,>=0.0.34->genai_stack==0.2.5) (1.14.1)\n",
            "Collecting mypy-extensions>=0.3.0 (from typing-inspect<1,>=0.4.0->dataclasses-json<0.7,>=0.5.7->langchain>=0.0.232->genai_stack==0.2.5)\n",
            "  Downloading mypy_extensions-1.0.0-py3-none-any.whl (4.7 kB)\n",
            "Collecting humanfriendly>=9.1 (from coloredlogs->onnxruntime>=1.14.1->chromadb==0.4.5->genai_stack==0.2.5)\n",
            "  Downloading humanfriendly-10.0-py2.py3-none-any.whl (86 kB)\n",
            "\u001b[2K     \u001b[90m━━━━━━━━━━━━━━━━━━━━━━━━━━━━━━━━━━━━━━━━\u001b[0m \u001b[32m86.8/86.8 kB\u001b[0m \u001b[31m10.4 MB/s\u001b[0m eta \u001b[36m0:00:00\u001b[0m\n",
            "\u001b[?25hRequirement already satisfied: pytz>=2020.1 in /usr/local/lib/python3.10/dist-packages (from pandas->llama-index>=0.6.9->llama-hub<0.0.35,>=0.0.34->genai_stack==0.2.5) (2023.3.post1)\n",
            "Requirement already satisfied: pycparser in /usr/local/lib/python3.10/dist-packages (from cffi>=1.12->cryptography>=3.2->authlib<2.0.0,>=1.2.1->weaviate-client<4.0.0,>=3.24.1->genai_stack==0.2.5) (2.21)\n",
            "Building wheels for collected packages: genai_stack, sentence-transformers, chroma-hnswlib, llama-index-sl, transformers3, pypika, pdfminer\n",
            "  Building wheel for genai_stack (pyproject.toml) ... \u001b[?25l\u001b[?25hdone\n",
            "  Created wheel for genai_stack: filename=genai_stack-0.2.5-py3-none-any.whl size=107822 sha256=2656915f3a95036d14ee56507cb9b5f192dbe3f46e5e84bca23ee2aaf2cf07d1\n",
            "  Stored in directory: /tmp/pip-ephem-wheel-cache-7e932ntx/wheels/b9/03/67/7e401543bcc3b9b2b3b252ab53315c904d89305fda7d8feff0\n",
            "  Building wheel for sentence-transformers (setup.py) ... \u001b[?25l\u001b[?25hdone\n",
            "  Created wheel for sentence-transformers: filename=sentence_transformers-2.2.2-py3-none-any.whl size=125923 sha256=452d871661a44dfc5c343421b14bd80511741897db542abb6fa3563038e3bb2b\n",
            "  Stored in directory: /root/.cache/pip/wheels/62/f2/10/1e606fd5f02395388f74e7462910fe851042f97238cbbd902f\n",
            "  Building wheel for chroma-hnswlib (pyproject.toml) ... \u001b[?25l\u001b[?25hdone\n",
            "  Created wheel for chroma-hnswlib: filename=chroma_hnswlib-0.7.2-cp310-cp310-linux_x86_64.whl size=2287473 sha256=e0d8d8c54d9c1eee7e5846b3cbebfc7357b7fbcd20ec9dfcd35a082550d5100f\n",
            "  Stored in directory: /root/.cache/pip/wheels/11/2b/0d/ee457f6782f75315bb5828d5c2dc5639d471afbd44a830b9dc\n",
            "  Building wheel for llama-index-sl (setup.py) ... \u001b[?25l\u001b[?25hdone\n",
            "  Created wheel for llama-index-sl: filename=llama_index_sl-0.5.3.1-py3-none-any.whl size=243025 sha256=10121e87815259f1a58f62117cc53bf4bc019ff29e638532d4c1f921d1fe4a24\n",
            "  Stored in directory: /root/.cache/pip/wheels/86/92/4b/95ffab17e0d9757af366501bddd812b440be4c7f13189ea818\n",
            "  Building wheel for transformers3 (setup.py) ... \u001b[?25l\u001b[?25hdone\n",
            "  Created wheel for transformers3: filename=transformers3-0.0.0a1-py3-none-any.whl size=1060 sha256=a2258090a92fab0d9c7c8c119adcc4ace80ca7c844ede5ef8c760cfc5d86fa3c\n",
            "  Stored in directory: /root/.cache/pip/wheels/0d/05/15/4572317cd07a820797f50dd3e32225c0d9b3c1eadd13f909c9\n",
            "  Building wheel for pypika (pyproject.toml) ... \u001b[?25l\u001b[?25hdone\n",
            "  Created wheel for pypika: filename=PyPika-0.48.9-py2.py3-none-any.whl size=53723 sha256=9916219dc5ccec25922e47fdcffdc52a245754984354336b2d4f7d759e9e15ca\n",
            "  Stored in directory: /root/.cache/pip/wheels/e1/26/51/d0bffb3d2fd82256676d7ad3003faea3bd6dddc9577af665f4\n",
            "  Building wheel for pdfminer (setup.py) ... \u001b[?25l\u001b[?25hdone\n",
            "  Created wheel for pdfminer: filename=pdfminer-20191125-py3-none-any.whl size=6140069 sha256=4129bb6f02274e1fd5817c9d2ebee4f9c62fd8eb8ba3041a70fb5fa04aea46df\n",
            "  Stored in directory: /root/.cache/pip/wheels/4e/c1/68/f7bd0a8f514661f76b5cbe3b5f76e0033d79f1296012cbbf72\n",
            "Successfully built genai_stack sentence-transformers chroma-hnswlib llama-index-sl transformers3 pypika pdfminer\n",
            "Installing collected packages: transformers3, sentencepiece, pypika, monotonic, websockets, validators, uvloop, urllib3, safetensors, retrying, python-dotenv, pypdf, pycryptodome, pulsar-client, overrides, mypy-extensions, marshmallow, mako, jsonpointer, humanfriendly, httptools, html2text, h11, deprecated, chroma-hnswlib, backoff, aiostream, watchfiles, uvicorn, typing-inspect, starlette, pdfminer, jsonpatch, coloredlogs, tiktoken, posthog, openai, onnxruntime, llama-index-sl, langsmith, huggingface-hub, gpt4all, fastapi, dataclasses-json, authlib, weaviate-client, tokenizers, langchain, atlassian-python-api, transformers, llama-index, chromadb, sentence-transformers, llama-hub, genai_stack\n",
            "  Attempting uninstall: urllib3\n",
            "    Found existing installation: urllib3 2.0.7\n",
            "    Uninstalling urllib3-2.0.7:\n",
            "      Successfully uninstalled urllib3-2.0.7\n",
            "\u001b[31mERROR: pip's dependency resolver does not currently take into account all the packages that are installed. This behaviour is the source of the following dependency conflicts.\n",
            "lida 0.0.10 requires kaleido, which is not installed.\n",
            "lida 0.0.10 requires python-multipart, which is not installed.\n",
            "llmx 0.0.15a0 requires cohere, which is not installed.\u001b[0m\u001b[31m\n",
            "\u001b[0mSuccessfully installed aiostream-0.5.2 atlassian-python-api-3.41.3 authlib-1.2.1 backoff-2.2.1 chroma-hnswlib-0.7.2 chromadb-0.4.5 coloredlogs-15.0.1 dataclasses-json-0.5.14 deprecated-1.2.14 fastapi-0.99.1 genai_stack-0.2.5 gpt4all-2.0.1 h11-0.14.0 html2text-2020.1.16 httptools-0.6.1 huggingface-hub-0.17.3 humanfriendly-10.0 jsonpatch-1.33 jsonpointer-2.4 langchain-0.0.325 langsmith-0.0.53 llama-hub-0.0.34 llama-index-0.8.55 llama-index-sl-0.5.3.1 mako-1.2.4 marshmallow-3.20.1 monotonic-1.6 mypy-extensions-1.0.0 onnxruntime-1.16.1 openai-0.28.1 overrides-7.4.0 pdfminer-20191125 posthog-3.0.2 pulsar-client-3.3.0 pycryptodome-3.19.0 pypdf-3.14.0 pypika-0.48.9 python-dotenv-1.0.0 retrying-1.3.4 safetensors-0.4.0 sentence-transformers-2.2.2 sentencepiece-0.1.99 starlette-0.27.0 tiktoken-0.5.1 tokenizers-0.14.1 transformers-4.34.1 transformers3-0.0.0a1 typing-inspect-0.9.0 urllib3-1.26.18 uvicorn-0.23.0 uvloop-0.19.0 validators-0.22.0 watchfiles-0.21.0 weaviate-client-3.25.1 websockets-12.0\n"
          ]
        },
        {
          "output_type": "execute_result",
          "data": {
            "text/plain": [
              "'\\n这行代码 !pip install git+https://github.com/aiplanethub/genai-stack.git 是用来通过 Python 的包管理器 pip 直接从 GitHub 上的仓库安装一个 Python 包的指令。以下是该命令的详细解释：\\n!：这通常在 Jupyter 笔记本等交互式环境中使用，用来在代码单元中执行系统外壳命令。\\npip install：这是使用 pip 安装包的标准命令，pip 是 Python 的包安装程序。\\ngit+：这个前缀告诉 pip 该包需要通过 Git 仓库来克隆。这是安装那些尚未在 Python 包索引（PyPI）上注册的包的方法。\\nhttps://github.com/aiplanethub/genai-stack.git：这是 Git 仓库的 URL 地址，在这个例子中，该包名为 genai-stack，托管在 GitHub 的 aiplanethub 用户或组织下。\\n执行这个命令后，pip 将会使用 Git 克隆给定 URL 的仓库，并安装它。这种安装方式通常用于安装开发中的包或者那些没有在 PyPI 上可用的私有 Git 仓库中的包。它允许开发者直接从源代码安装最新版本的包。\\n'"
            ],
            "application/vnd.google.colaboratory.intrinsic+json": {
              "type": "string"
            }
          },
          "metadata": {},
          "execution_count": 1
        }
      ],
      "source": [
        "!pip install git+https://github.com/aiplanethub/genai-stack.git\n",
        "'''\n",
        "这行代码 !pip install git+https://github.com/aiplanethub/genai-stack.git 是用来通过 Python 的包管理器 pip 直接从 GitHub 上的仓库安装一个 Python 包的指令。以下是该命令的详细解释：\n",
        "!：这通常在 Jupyter 笔记本等交互式环境中使用，用来在代码单元中执行系统外壳命令。\n",
        "pip install：这是使用 pip 安装包的标准命令，pip 是 Python 的包安装程序。\n",
        "git+：这个前缀告诉 pip 该包需要通过 Git 仓库来克隆。这是安装那些尚未在 Python 包索引（PyPI）上注册的包的方法。\n",
        "https://github.com/aiplanethub/genai-stack.git：这是 Git 仓库的 URL 地址，在这个例子中，该包名为 genai-stack，托管在 GitHub 的 aiplanethub 用户或组织下。\n",
        "执行这个命令后，pip 将会使用 Git 克隆给定 URL 的仓库，并安装它。这种安装方式通常用于安装开发中的包或者那些没有在 PyPI 上可用的私有 Git 仓库中的包。它允许开发者直接从源代码安装最新版本的包。\n",
        "\n",
        "https://www.youtube.com/watch?v=7FLJVSBPtvw&t=2803s\n",
        "'''"
      ]
    },
    {
      "cell_type": "code",
      "source": [
        "!pip install unstructured\n",
        "!pip install \"unstructured[pdf]\"\n",
        "'''\n",
        "安裝 Python 的 unstructured 庫，以及其用於處理 PDF的可選依賴包。\n",
        "!pip install unstructured: 這條命令通過 pip（Python 的包安裝程序）來安裝 unstructured 包。unstructured 是一個用於從非結構化數據源（如文本文件、PDF、郵件等）中提取信息的 Python 庫。\n",
        "!pip install \"unstructured[pdf]\": 這條命令不僅安裝 unstructured 库，還安裝了一組額外的依賴包，這些依賴包是處理 PDF 文件所需的。在 pip 命令中使用方括號 [] 表示安裝一個「額外」或「選項」，這意味著將安裝 unstructured 库及其 PDF 處理功能的相關依賴包。\n",
        "總結來說，這些命令用於確保用戶可以使用 unstructured 库來處理多種類型的非結構化數據，包括 PDF 文件。\n",
        "'''"
      ],
      "metadata": {
        "colab": {
          "base_uri": "https://localhost:8080/",
          "height": 1000
        },
        "id": "H1KNHyNJzAOs",
        "outputId": "c7b339f0-7d0c-4b53-fe43-ff7df44c66ee"
      },
      "execution_count": null,
      "outputs": [
        {
          "output_type": "stream",
          "name": "stdout",
          "text": [
            "Collecting unstructured\n",
            "  Downloading unstructured-0.10.27-py3-none-any.whl (1.7 MB)\n",
            "\u001b[2K     \u001b[90m━━━━━━━━━━━━━━━━━━━━━━━━━━━━━━━━━━━━━━━━\u001b[0m \u001b[32m1.7/1.7 MB\u001b[0m \u001b[31m13.6 MB/s\u001b[0m eta \u001b[36m0:00:00\u001b[0m\n",
            "\u001b[?25hRequirement already satisfied: chardet in /usr/local/lib/python3.10/dist-packages (from unstructured) (5.2.0)\n",
            "Collecting filetype (from unstructured)\n",
            "  Downloading filetype-1.2.0-py2.py3-none-any.whl (19 kB)\n",
            "Collecting python-magic (from unstructured)\n",
            "  Downloading python_magic-0.4.27-py2.py3-none-any.whl (13 kB)\n",
            "Requirement already satisfied: lxml in /usr/local/lib/python3.10/dist-packages (from unstructured) (4.9.3)\n",
            "Requirement already satisfied: nltk in /usr/local/lib/python3.10/dist-packages (from unstructured) (3.8.1)\n",
            "Requirement already satisfied: tabulate in /usr/local/lib/python3.10/dist-packages (from unstructured) (0.9.0)\n",
            "Requirement already satisfied: requests in /usr/local/lib/python3.10/dist-packages (from unstructured) (2.31.0)\n",
            "Requirement already satisfied: beautifulsoup4 in /usr/local/lib/python3.10/dist-packages (from unstructured) (4.11.2)\n",
            "Collecting emoji (from unstructured)\n",
            "  Downloading emoji-2.8.0-py2.py3-none-any.whl (358 kB)\n",
            "\u001b[2K     \u001b[90m━━━━━━━━━━━━━━━━━━━━━━━━━━━━━━━━━━━━━━━━\u001b[0m \u001b[32m358.9/358.9 kB\u001b[0m \u001b[31m37.3 MB/s\u001b[0m eta \u001b[36m0:00:00\u001b[0m\n",
            "\u001b[?25hRequirement already satisfied: dataclasses-json in /usr/local/lib/python3.10/dist-packages (from unstructured) (0.5.14)\n",
            "Collecting python-iso639 (from unstructured)\n",
            "  Downloading python_iso639-2023.6.15-py3-none-any.whl (275 kB)\n",
            "\u001b[2K     \u001b[90m━━━━━━━━━━━━━━━━━━━━━━━━━━━━━━━━━━━━━━━━\u001b[0m \u001b[32m275.1/275.1 kB\u001b[0m \u001b[31m32.5 MB/s\u001b[0m eta \u001b[36m0:00:00\u001b[0m\n",
            "\u001b[?25hCollecting langdetect (from unstructured)\n",
            "  Downloading langdetect-1.0.9.tar.gz (981 kB)\n",
            "\u001b[2K     \u001b[90m━━━━━━━━━━━━━━━━━━━━━━━━━━━━━━━━━━━━━━━━\u001b[0m \u001b[32m981.5/981.5 kB\u001b[0m \u001b[31m66.9 MB/s\u001b[0m eta \u001b[36m0:00:00\u001b[0m\n",
            "\u001b[?25h  Preparing metadata (setup.py) ... \u001b[?25l\u001b[?25hdone\n",
            "Requirement already satisfied: numpy in /usr/local/lib/python3.10/dist-packages (from unstructured) (1.23.5)\n",
            "Collecting rapidfuzz (from unstructured)\n",
            "  Downloading rapidfuzz-3.4.0-cp310-cp310-manylinux_2_17_x86_64.manylinux2014_x86_64.whl (3.2 MB)\n",
            "\u001b[2K     \u001b[90m━━━━━━━━━━━━━━━━━━━━━━━━━━━━━━━━━━━━━━━━\u001b[0m \u001b[32m3.2/3.2 MB\u001b[0m \u001b[31m27.6 MB/s\u001b[0m eta \u001b[36m0:00:00\u001b[0m\n",
            "\u001b[?25hRequirement already satisfied: backoff in /usr/local/lib/python3.10/dist-packages (from unstructured) (2.2.1)\n",
            "Requirement already satisfied: typing-extensions in /usr/local/lib/python3.10/dist-packages (from unstructured) (4.5.0)\n",
            "Requirement already satisfied: soupsieve>1.2 in /usr/local/lib/python3.10/dist-packages (from beautifulsoup4->unstructured) (2.5)\n",
            "Requirement already satisfied: marshmallow<4.0.0,>=3.18.0 in /usr/local/lib/python3.10/dist-packages (from dataclasses-json->unstructured) (3.20.1)\n",
            "Requirement already satisfied: typing-inspect<1,>=0.4.0 in /usr/local/lib/python3.10/dist-packages (from dataclasses-json->unstructured) (0.9.0)\n",
            "Requirement already satisfied: six in /usr/local/lib/python3.10/dist-packages (from langdetect->unstructured) (1.16.0)\n",
            "Requirement already satisfied: click in /usr/local/lib/python3.10/dist-packages (from nltk->unstructured) (8.1.7)\n",
            "Requirement already satisfied: joblib in /usr/local/lib/python3.10/dist-packages (from nltk->unstructured) (1.3.2)\n",
            "Requirement already satisfied: regex>=2021.8.3 in /usr/local/lib/python3.10/dist-packages (from nltk->unstructured) (2023.6.3)\n",
            "Requirement already satisfied: tqdm in /usr/local/lib/python3.10/dist-packages (from nltk->unstructured) (4.66.1)\n",
            "Requirement already satisfied: charset-normalizer<4,>=2 in /usr/local/lib/python3.10/dist-packages (from requests->unstructured) (3.3.1)\n",
            "Requirement already satisfied: idna<4,>=2.5 in /usr/local/lib/python3.10/dist-packages (from requests->unstructured) (3.4)\n",
            "Requirement already satisfied: urllib3<3,>=1.21.1 in /usr/local/lib/python3.10/dist-packages (from requests->unstructured) (1.26.18)\n",
            "Requirement already satisfied: certifi>=2017.4.17 in /usr/local/lib/python3.10/dist-packages (from requests->unstructured) (2023.7.22)\n",
            "Requirement already satisfied: packaging>=17.0 in /usr/local/lib/python3.10/dist-packages (from marshmallow<4.0.0,>=3.18.0->dataclasses-json->unstructured) (23.2)\n",
            "Requirement already satisfied: mypy-extensions>=0.3.0 in /usr/local/lib/python3.10/dist-packages (from typing-inspect<1,>=0.4.0->dataclasses-json->unstructured) (1.0.0)\n",
            "Building wheels for collected packages: langdetect\n",
            "  Building wheel for langdetect (setup.py) ... \u001b[?25l\u001b[?25hdone\n",
            "  Created wheel for langdetect: filename=langdetect-1.0.9-py3-none-any.whl size=993224 sha256=700635fae2efa31fef606cb0296b2dac5a2d1fe8a5a24aca6ffffe31145e7e0e\n",
            "  Stored in directory: /root/.cache/pip/wheels/95/03/7d/59ea870c70ce4e5a370638b5462a7711ab78fba2f655d05106\n",
            "Successfully built langdetect\n",
            "Installing collected packages: filetype, rapidfuzz, python-magic, python-iso639, langdetect, emoji, unstructured\n",
            "Successfully installed emoji-2.8.0 filetype-1.2.0 langdetect-1.0.9 python-iso639-2023.6.15 python-magic-0.4.27 rapidfuzz-3.4.0 unstructured-0.10.27\n",
            "Requirement already satisfied: unstructured[pdf] in /usr/local/lib/python3.10/dist-packages (0.10.27)\n",
            "Requirement already satisfied: chardet in /usr/local/lib/python3.10/dist-packages (from unstructured[pdf]) (5.2.0)\n",
            "Requirement already satisfied: filetype in /usr/local/lib/python3.10/dist-packages (from unstructured[pdf]) (1.2.0)\n",
            "Requirement already satisfied: python-magic in /usr/local/lib/python3.10/dist-packages (from unstructured[pdf]) (0.4.27)\n",
            "Requirement already satisfied: lxml in /usr/local/lib/python3.10/dist-packages (from unstructured[pdf]) (4.9.3)\n",
            "Requirement already satisfied: nltk in /usr/local/lib/python3.10/dist-packages (from unstructured[pdf]) (3.8.1)\n",
            "Requirement already satisfied: tabulate in /usr/local/lib/python3.10/dist-packages (from unstructured[pdf]) (0.9.0)\n",
            "Requirement already satisfied: requests in /usr/local/lib/python3.10/dist-packages (from unstructured[pdf]) (2.31.0)\n",
            "Requirement already satisfied: beautifulsoup4 in /usr/local/lib/python3.10/dist-packages (from unstructured[pdf]) (4.11.2)\n",
            "Requirement already satisfied: emoji in /usr/local/lib/python3.10/dist-packages (from unstructured[pdf]) (2.8.0)\n",
            "Requirement already satisfied: dataclasses-json in /usr/local/lib/python3.10/dist-packages (from unstructured[pdf]) (0.5.14)\n",
            "Requirement already satisfied: python-iso639 in /usr/local/lib/python3.10/dist-packages (from unstructured[pdf]) (2023.6.15)\n",
            "Requirement already satisfied: langdetect in /usr/local/lib/python3.10/dist-packages (from unstructured[pdf]) (1.0.9)\n",
            "Requirement already satisfied: numpy in /usr/local/lib/python3.10/dist-packages (from unstructured[pdf]) (1.23.5)\n",
            "Requirement already satisfied: rapidfuzz in /usr/local/lib/python3.10/dist-packages (from unstructured[pdf]) (3.4.0)\n",
            "Requirement already satisfied: backoff in /usr/local/lib/python3.10/dist-packages (from unstructured[pdf]) (2.2.1)\n",
            "Requirement already satisfied: typing-extensions in /usr/local/lib/python3.10/dist-packages (from unstructured[pdf]) (4.5.0)\n",
            "Collecting onnx (from unstructured[pdf])\n",
            "  Downloading onnx-1.15.0-cp310-cp310-manylinux_2_17_x86_64.manylinux2014_x86_64.whl (15.7 MB)\n",
            "\u001b[2K     \u001b[90m━━━━━━━━━━━━━━━━━━━━━━━━━━━━━━━━━━━━━━━━\u001b[0m \u001b[32m15.7/15.7 MB\u001b[0m \u001b[31m70.1 MB/s\u001b[0m eta \u001b[36m0:00:00\u001b[0m\n",
            "\u001b[?25hCollecting pdf2image (from unstructured[pdf])\n",
            "  Downloading pdf2image-1.16.3-py3-none-any.whl (11 kB)\n",
            "Collecting pdfminer.six (from unstructured[pdf])\n",
            "  Downloading pdfminer.six-20221105-py3-none-any.whl (5.6 MB)\n",
            "\u001b[2K     \u001b[90m━━━━━━━━━━━━━━━━━━━━━━━━━━━━━━━━━━━━━━━━\u001b[0m \u001b[32m5.6/5.6 MB\u001b[0m \u001b[31m99.0 MB/s\u001b[0m eta \u001b[36m0:00:00\u001b[0m\n",
            "\u001b[?25hCollecting unstructured-inference==0.7.10 (from unstructured[pdf])\n",
            "  Downloading unstructured_inference-0.7.10-py3-none-any.whl (61 kB)\n",
            "\u001b[2K     \u001b[90m━━━━━━━━━━━━━━━━━━━━━━━━━━━━━━━━━━━━━━━━\u001b[0m \u001b[32m61.8/61.8 kB\u001b[0m \u001b[31m8.1 MB/s\u001b[0m eta \u001b[36m0:00:00\u001b[0m\n",
            "\u001b[?25hCollecting unstructured.pytesseract>=0.3.12 (from unstructured[pdf])\n",
            "  Downloading unstructured.pytesseract-0.3.12-py3-none-any.whl (14 kB)\n",
            "Collecting layoutparser[layoutmodels,tesseract] (from unstructured-inference==0.7.10->unstructured[pdf])\n",
            "  Downloading layoutparser-0.3.4-py3-none-any.whl (19.2 MB)\n",
            "\u001b[2K     \u001b[90m━━━━━━━━━━━━━━━━━━━━━━━━━━━━━━━━━━━━━━━━\u001b[0m \u001b[32m19.2/19.2 MB\u001b[0m \u001b[31m69.1 MB/s\u001b[0m eta \u001b[36m0:00:00\u001b[0m\n",
            "\u001b[?25hCollecting python-multipart (from unstructured-inference==0.7.10->unstructured[pdf])\n",
            "  Downloading python_multipart-0.0.6-py3-none-any.whl (45 kB)\n",
            "\u001b[2K     \u001b[90m━━━━━━━━━━━━━━━━━━━━━━━━━━━━━━━━━━━━━━━━\u001b[0m \u001b[32m45.7/45.7 kB\u001b[0m \u001b[31m6.1 MB/s\u001b[0m eta \u001b[36m0:00:00\u001b[0m\n",
            "\u001b[?25hRequirement already satisfied: huggingface-hub in /usr/local/lib/python3.10/dist-packages (from unstructured-inference==0.7.10->unstructured[pdf]) (0.17.3)\n",
            "Requirement already satisfied: opencv-python!=4.7.0.68 in /usr/local/lib/python3.10/dist-packages (from unstructured-inference==0.7.10->unstructured[pdf]) (4.8.0.76)\n",
            "Collecting onnxruntime<1.16 (from unstructured-inference==0.7.10->unstructured[pdf])\n",
            "  Downloading onnxruntime-1.15.1-cp310-cp310-manylinux_2_17_x86_64.manylinux2014_x86_64.whl (5.9 MB)\n",
            "\u001b[2K     \u001b[90m━━━━━━━━━━━━━━━━━━━━━━━━━━━━━━━━━━━━━━━━\u001b[0m \u001b[32m5.9/5.9 MB\u001b[0m \u001b[31m101.8 MB/s\u001b[0m eta \u001b[36m0:00:00\u001b[0m\n",
            "\u001b[?25hRequirement already satisfied: transformers>=4.25.1 in /usr/local/lib/python3.10/dist-packages (from unstructured-inference==0.7.10->unstructured[pdf]) (4.34.1)\n",
            "Requirement already satisfied: packaging>=21.3 in /usr/local/lib/python3.10/dist-packages (from unstructured.pytesseract>=0.3.12->unstructured[pdf]) (23.2)\n",
            "Requirement already satisfied: Pillow>=8.0.0 in /usr/local/lib/python3.10/dist-packages (from unstructured.pytesseract>=0.3.12->unstructured[pdf]) (9.4.0)\n",
            "Requirement already satisfied: soupsieve>1.2 in /usr/local/lib/python3.10/dist-packages (from beautifulsoup4->unstructured[pdf]) (2.5)\n",
            "Requirement already satisfied: marshmallow<4.0.0,>=3.18.0 in /usr/local/lib/python3.10/dist-packages (from dataclasses-json->unstructured[pdf]) (3.20.1)\n",
            "Requirement already satisfied: typing-inspect<1,>=0.4.0 in /usr/local/lib/python3.10/dist-packages (from dataclasses-json->unstructured[pdf]) (0.9.0)\n",
            "Requirement already satisfied: six in /usr/local/lib/python3.10/dist-packages (from langdetect->unstructured[pdf]) (1.16.0)\n",
            "Requirement already satisfied: click in /usr/local/lib/python3.10/dist-packages (from nltk->unstructured[pdf]) (8.1.7)\n",
            "Requirement already satisfied: joblib in /usr/local/lib/python3.10/dist-packages (from nltk->unstructured[pdf]) (1.3.2)\n",
            "Requirement already satisfied: regex>=2021.8.3 in /usr/local/lib/python3.10/dist-packages (from nltk->unstructured[pdf]) (2023.6.3)\n",
            "Requirement already satisfied: tqdm in /usr/local/lib/python3.10/dist-packages (from nltk->unstructured[pdf]) (4.66.1)\n",
            "Requirement already satisfied: protobuf>=3.20.2 in /usr/local/lib/python3.10/dist-packages (from onnx->unstructured[pdf]) (3.20.3)\n",
            "Requirement already satisfied: charset-normalizer>=2.0.0 in /usr/local/lib/python3.10/dist-packages (from pdfminer.six->unstructured[pdf]) (3.3.1)\n",
            "Requirement already satisfied: cryptography>=36.0.0 in /usr/local/lib/python3.10/dist-packages (from pdfminer.six->unstructured[pdf]) (41.0.5)\n",
            "Requirement already satisfied: idna<4,>=2.5 in /usr/local/lib/python3.10/dist-packages (from requests->unstructured[pdf]) (3.4)\n",
            "Requirement already satisfied: urllib3<3,>=1.21.1 in /usr/local/lib/python3.10/dist-packages (from requests->unstructured[pdf]) (1.26.18)\n",
            "Requirement already satisfied: certifi>=2017.4.17 in /usr/local/lib/python3.10/dist-packages (from requests->unstructured[pdf]) (2023.7.22)\n",
            "Requirement already satisfied: cffi>=1.12 in /usr/local/lib/python3.10/dist-packages (from cryptography>=36.0.0->pdfminer.six->unstructured[pdf]) (1.16.0)\n",
            "Requirement already satisfied: coloredlogs in /usr/local/lib/python3.10/dist-packages (from onnxruntime<1.16->unstructured-inference==0.7.10->unstructured[pdf]) (15.0.1)\n",
            "Requirement already satisfied: flatbuffers in /usr/local/lib/python3.10/dist-packages (from onnxruntime<1.16->unstructured-inference==0.7.10->unstructured[pdf]) (23.5.26)\n",
            "Requirement already satisfied: sympy in /usr/local/lib/python3.10/dist-packages (from onnxruntime<1.16->unstructured-inference==0.7.10->unstructured[pdf]) (1.12)\n",
            "Requirement already satisfied: filelock in /usr/local/lib/python3.10/dist-packages (from transformers>=4.25.1->unstructured-inference==0.7.10->unstructured[pdf]) (3.12.4)\n",
            "Requirement already satisfied: pyyaml>=5.1 in /usr/local/lib/python3.10/dist-packages (from transformers>=4.25.1->unstructured-inference==0.7.10->unstructured[pdf]) (6.0.1)\n",
            "Requirement already satisfied: tokenizers<0.15,>=0.14 in /usr/local/lib/python3.10/dist-packages (from transformers>=4.25.1->unstructured-inference==0.7.10->unstructured[pdf]) (0.14.1)\n",
            "Requirement already satisfied: safetensors>=0.3.1 in /usr/local/lib/python3.10/dist-packages (from transformers>=4.25.1->unstructured-inference==0.7.10->unstructured[pdf]) (0.4.0)\n",
            "Requirement already satisfied: fsspec in /usr/local/lib/python3.10/dist-packages (from huggingface-hub->unstructured-inference==0.7.10->unstructured[pdf]) (2023.6.0)\n",
            "Requirement already satisfied: mypy-extensions>=0.3.0 in /usr/local/lib/python3.10/dist-packages (from typing-inspect<1,>=0.4.0->dataclasses-json->unstructured[pdf]) (1.0.0)\n",
            "Requirement already satisfied: scipy in /usr/local/lib/python3.10/dist-packages (from layoutparser[layoutmodels,tesseract]->unstructured-inference==0.7.10->unstructured[pdf]) (1.11.3)\n",
            "Requirement already satisfied: pandas in /usr/local/lib/python3.10/dist-packages (from layoutparser[layoutmodels,tesseract]->unstructured-inference==0.7.10->unstructured[pdf]) (1.5.3)\n",
            "Collecting iopath (from layoutparser[layoutmodels,tesseract]->unstructured-inference==0.7.10->unstructured[pdf])\n",
            "  Downloading iopath-0.1.10.tar.gz (42 kB)\n",
            "\u001b[2K     \u001b[90m━━━━━━━━━━━━━━━━━━━━━━━━━━━━━━━━━━━━━━━━\u001b[0m \u001b[32m42.2/42.2 kB\u001b[0m \u001b[31m5.0 MB/s\u001b[0m eta \u001b[36m0:00:00\u001b[0m\n",
            "\u001b[?25h  Preparing metadata (setup.py) ... \u001b[?25l\u001b[?25hdone\n",
            "Collecting pdfplumber (from layoutparser[layoutmodels,tesseract]->unstructured-inference==0.7.10->unstructured[pdf])\n",
            "  Downloading pdfplumber-0.10.3-py3-none-any.whl (48 kB)\n",
            "\u001b[2K     \u001b[90m━━━━━━━━━━━━━━━━━━━━━━━━━━━━━━━━━━━━━━━━\u001b[0m \u001b[32m49.0/49.0 kB\u001b[0m \u001b[31m6.4 MB/s\u001b[0m eta \u001b[36m0:00:00\u001b[0m\n",
            "\u001b[?25hCollecting pytesseract (from layoutparser[layoutmodels,tesseract]->unstructured-inference==0.7.10->unstructured[pdf])\n",
            "  Downloading pytesseract-0.3.10-py3-none-any.whl (14 kB)\n",
            "Requirement already satisfied: torch in /usr/local/lib/python3.10/dist-packages (from layoutparser[layoutmodels,tesseract]->unstructured-inference==0.7.10->unstructured[pdf]) (2.1.0+cu118)\n",
            "Requirement already satisfied: torchvision in /usr/local/lib/python3.10/dist-packages (from layoutparser[layoutmodels,tesseract]->unstructured-inference==0.7.10->unstructured[pdf]) (0.16.0+cu118)\n",
            "Collecting effdet (from layoutparser[layoutmodels,tesseract]->unstructured-inference==0.7.10->unstructured[pdf])\n",
            "  Downloading effdet-0.4.1-py3-none-any.whl (112 kB)\n",
            "\u001b[2K     \u001b[90m━━━━━━━━━━━━━━━━━━━━━━━━━━━━━━━━━━━━━━━━\u001b[0m \u001b[32m112.5/112.5 kB\u001b[0m \u001b[31m14.9 MB/s\u001b[0m eta \u001b[36m0:00:00\u001b[0m\n",
            "\u001b[?25hRequirement already satisfied: pycparser in /usr/local/lib/python3.10/dist-packages (from cffi>=1.12->cryptography>=36.0.0->pdfminer.six->unstructured[pdf]) (2.21)\n",
            "Requirement already satisfied: humanfriendly>=9.1 in /usr/local/lib/python3.10/dist-packages (from coloredlogs->onnxruntime<1.16->unstructured-inference==0.7.10->unstructured[pdf]) (10.0)\n",
            "Collecting timm>=0.9.2 (from effdet->layoutparser[layoutmodels,tesseract]->unstructured-inference==0.7.10->unstructured[pdf])\n",
            "  Downloading timm-0.9.8-py3-none-any.whl (2.2 MB)\n",
            "\u001b[2K     \u001b[90m━━━━━━━━━━━━━━━━━━━━━━━━━━━━━━━━━━━━━━━━\u001b[0m \u001b[32m2.2/2.2 MB\u001b[0m \u001b[31m92.1 MB/s\u001b[0m eta \u001b[36m0:00:00\u001b[0m\n",
            "\u001b[?25hRequirement already satisfied: pycocotools>=2.0.2 in /usr/local/lib/python3.10/dist-packages (from effdet->layoutparser[layoutmodels,tesseract]->unstructured-inference==0.7.10->unstructured[pdf]) (2.0.7)\n",
            "Collecting omegaconf>=2.0 (from effdet->layoutparser[layoutmodels,tesseract]->unstructured-inference==0.7.10->unstructured[pdf])\n",
            "  Downloading omegaconf-2.3.0-py3-none-any.whl (79 kB)\n",
            "\u001b[2K     \u001b[90m━━━━━━━━━━━━━━━━━━━━━━━━━━━━━━━━━━━━━━━━\u001b[0m \u001b[32m79.5/79.5 kB\u001b[0m \u001b[31m10.1 MB/s\u001b[0m eta \u001b[36m0:00:00\u001b[0m\n",
            "\u001b[?25hRequirement already satisfied: networkx in /usr/local/lib/python3.10/dist-packages (from torch->layoutparser[layoutmodels,tesseract]->unstructured-inference==0.7.10->unstructured[pdf]) (3.2)\n",
            "Requirement already satisfied: jinja2 in /usr/local/lib/python3.10/dist-packages (from torch->layoutparser[layoutmodels,tesseract]->unstructured-inference==0.7.10->unstructured[pdf]) (3.1.2)\n",
            "Requirement already satisfied: triton==2.1.0 in /usr/local/lib/python3.10/dist-packages (from torch->layoutparser[layoutmodels,tesseract]->unstructured-inference==0.7.10->unstructured[pdf]) (2.1.0)\n",
            "Collecting portalocker (from iopath->layoutparser[layoutmodels,tesseract]->unstructured-inference==0.7.10->unstructured[pdf])\n",
            "  Downloading portalocker-2.8.2-py3-none-any.whl (17 kB)\n",
            "Requirement already satisfied: python-dateutil>=2.8.1 in /usr/local/lib/python3.10/dist-packages (from pandas->layoutparser[layoutmodels,tesseract]->unstructured-inference==0.7.10->unstructured[pdf]) (2.8.2)\n",
            "Requirement already satisfied: pytz>=2020.1 in /usr/local/lib/python3.10/dist-packages (from pandas->layoutparser[layoutmodels,tesseract]->unstructured-inference==0.7.10->unstructured[pdf]) (2023.3.post1)\n",
            "Collecting pypdfium2>=4.18.0 (from pdfplumber->layoutparser[layoutmodels,tesseract]->unstructured-inference==0.7.10->unstructured[pdf])\n",
            "  Downloading pypdfium2-4.22.0-py3-none-manylinux_2_17_x86_64.whl (2.9 MB)\n",
            "\u001b[2K     \u001b[90m━━━━━━━━━━━━━━━━━━━━━━━━━━━━━━━━━━━━━━━━\u001b[0m \u001b[32m2.9/2.9 MB\u001b[0m \u001b[31m90.6 MB/s\u001b[0m eta \u001b[36m0:00:00\u001b[0m\n",
            "\u001b[?25hRequirement already satisfied: mpmath>=0.19 in /usr/local/lib/python3.10/dist-packages (from sympy->onnxruntime<1.16->unstructured-inference==0.7.10->unstructured[pdf]) (1.3.0)\n",
            "Collecting antlr4-python3-runtime==4.9.* (from omegaconf>=2.0->effdet->layoutparser[layoutmodels,tesseract]->unstructured-inference==0.7.10->unstructured[pdf])\n",
            "  Downloading antlr4-python3-runtime-4.9.3.tar.gz (117 kB)\n",
            "\u001b[2K     \u001b[90m━━━━━━━━━━━━━━━━━━━━━━━━━━━━━━━━━━━━━━━━\u001b[0m \u001b[32m117.0/117.0 kB\u001b[0m \u001b[31m13.8 MB/s\u001b[0m eta \u001b[36m0:00:00\u001b[0m\n",
            "\u001b[?25h  Preparing metadata (setup.py) ... \u001b[?25l\u001b[?25hdone\n",
            "Requirement already satisfied: matplotlib>=2.1.0 in /usr/local/lib/python3.10/dist-packages (from pycocotools>=2.0.2->effdet->layoutparser[layoutmodels,tesseract]->unstructured-inference==0.7.10->unstructured[pdf]) (3.7.1)\n",
            "Requirement already satisfied: MarkupSafe>=2.0 in /usr/local/lib/python3.10/dist-packages (from jinja2->torch->layoutparser[layoutmodels,tesseract]->unstructured-inference==0.7.10->unstructured[pdf]) (2.1.3)\n",
            "Requirement already satisfied: contourpy>=1.0.1 in /usr/local/lib/python3.10/dist-packages (from matplotlib>=2.1.0->pycocotools>=2.0.2->effdet->layoutparser[layoutmodels,tesseract]->unstructured-inference==0.7.10->unstructured[pdf]) (1.1.1)\n",
            "Requirement already satisfied: cycler>=0.10 in /usr/local/lib/python3.10/dist-packages (from matplotlib>=2.1.0->pycocotools>=2.0.2->effdet->layoutparser[layoutmodels,tesseract]->unstructured-inference==0.7.10->unstructured[pdf]) (0.12.1)\n",
            "Requirement already satisfied: fonttools>=4.22.0 in /usr/local/lib/python3.10/dist-packages (from matplotlib>=2.1.0->pycocotools>=2.0.2->effdet->layoutparser[layoutmodels,tesseract]->unstructured-inference==0.7.10->unstructured[pdf]) (4.43.1)\n",
            "Requirement already satisfied: kiwisolver>=1.0.1 in /usr/local/lib/python3.10/dist-packages (from matplotlib>=2.1.0->pycocotools>=2.0.2->effdet->layoutparser[layoutmodels,tesseract]->unstructured-inference==0.7.10->unstructured[pdf]) (1.4.5)\n",
            "Requirement already satisfied: pyparsing>=2.3.1 in /usr/local/lib/python3.10/dist-packages (from matplotlib>=2.1.0->pycocotools>=2.0.2->effdet->layoutparser[layoutmodels,tesseract]->unstructured-inference==0.7.10->unstructured[pdf]) (3.1.1)\n",
            "Building wheels for collected packages: iopath, antlr4-python3-runtime\n",
            "  Building wheel for iopath (setup.py) ... \u001b[?25l\u001b[?25hdone\n",
            "  Created wheel for iopath: filename=iopath-0.1.10-py3-none-any.whl size=31530 sha256=7a3432880c02c77bac4f550bb52a18b124601f7b0ff5b333e36dbae5fb881f66\n",
            "  Stored in directory: /root/.cache/pip/wheels/9a/a3/b6/ac0fcd1b4ed5cfeb3db92e6a0e476cfd48ed0df92b91080c1d\n",
            "  Building wheel for antlr4-python3-runtime (setup.py) ... \u001b[?25l\u001b[?25hdone\n",
            "  Created wheel for antlr4-python3-runtime: filename=antlr4_python3_runtime-4.9.3-py3-none-any.whl size=144554 sha256=1f9e29ca5c766d1c407214699b7df628cef37839358097ffa03eb8e56d210f9b\n",
            "  Stored in directory: /root/.cache/pip/wheels/12/93/dd/1f6a127edc45659556564c5730f6d4e300888f4bca2d4c5a88\n",
            "Successfully built iopath antlr4-python3-runtime\n",
            "Installing collected packages: antlr4-python3-runtime, unstructured.pytesseract, python-multipart, pytesseract, pypdfium2, portalocker, pdf2image, onnx, omegaconf, onnxruntime, iopath, pdfminer.six, timm, pdfplumber, layoutparser, effdet, unstructured-inference\n",
            "  Attempting uninstall: onnxruntime\n",
            "    Found existing installation: onnxruntime 1.16.1\n",
            "    Uninstalling onnxruntime-1.16.1:\n",
            "      Successfully uninstalled onnxruntime-1.16.1\n",
            "\u001b[31mERROR: pip's dependency resolver does not currently take into account all the packages that are installed. This behaviour is the source of the following dependency conflicts.\n",
            "lida 0.0.10 requires kaleido, which is not installed.\u001b[0m\u001b[31m\n",
            "\u001b[0mSuccessfully installed antlr4-python3-runtime-4.9.3 effdet-0.4.1 iopath-0.1.10 layoutparser-0.3.4 omegaconf-2.3.0 onnx-1.15.0 onnxruntime-1.15.1 pdf2image-1.16.3 pdfminer.six-20221105 pdfplumber-0.10.3 portalocker-2.8.2 pypdfium2-4.22.0 pytesseract-0.3.10 python-multipart-0.0.6 timm-0.9.8 unstructured-inference-0.7.10 unstructured.pytesseract-0.3.12\n"
          ]
        },
        {
          "output_type": "display_data",
          "data": {
            "application/vnd.colab-display-data+json": {
              "pip_warning": {
                "packages": [
                  "pydevd_plugins"
                ]
              }
            }
          },
          "metadata": {}
        },
        {
          "output_type": "execute_result",
          "data": {
            "text/plain": [
              "'\\n這兩行代碼是用於安裝 Python 的 unstructured 庫，以及其用於處理 PDF 文件的可選依賴包。\\n!pip install unstructured: 這條命令通過 pip（Python 的包安裝程序）來安裝 unstructured 包。unstructured 是一個用於從非結構化數據源（如文本文件、PDF、郵件等）中提取信息的 Python 庫。\\n!pip install \"unstructured[pdf]\": 這條命令不僅安裝 unstructured 库，還安裝了一組額外的依賴包，這些依賴包是處理 PDF 文件所需的。在 pip 命令中使用方括號 [] 表示安裝一個「額外」或「選項」，這意味著將安裝 unstructured 库及其 PDF 處理功能的相關依賴包。\\n總結來說，這些命令用於確保用戶可以使用 unstructured 库來處理多種類型的非結構化數據，包括 PDF 文件。\\n'"
            ],
            "application/vnd.google.colaboratory.intrinsic+json": {
              "type": "string"
            }
          },
          "metadata": {},
          "execution_count": 2
        }
      ]
    },
    {
      "cell_type": "code",
      "source": [
        "!genaistack version"
      ],
      "metadata": {
        "colab": {
          "base_uri": "https://localhost:8080/"
        },
        "id": "VjMCi9Ap12gk",
        "outputId": "67b55334-7d38-4186-cb83-2b44f9fd95ff"
      },
      "execution_count": null,
      "outputs": [
        {
          "output_type": "stream",
          "name": "stdout",
          "text": [
            "\n",
            " ██████╗ ███████╗███╗   ██╗ █████╗ ██╗    ███████╗████████╗ █████╗  ██████╗██╗  ██╗\n",
            "██╔════╝ ██╔════╝████╗  ██║██╔══██╗██║    ██╔════╝╚══██╔══╝██╔══██╗██╔════╝██║ ██╔╝\n",
            "██║  ███╗█████╗  ██╔██╗ ██║███████║██║    ███████╗   ██║   ███████║██║     █████╔╝\n",
            "██║   ██║██╔══╝  ██║╚██╗██║██╔══██║██║    ╚════██║   ██║   ██╔══██║██║     ██╔═██╗\n",
            "╚██████╔╝███████╗██║ ╚████║██║  ██║██║    ███████║   ██║   ██║  ██║╚██████╗██║  ██╗\n",
            " ╚═════╝ ╚══════╝╚═╝  ╚═══╝╚═╝  ╚═╝╚═╝    ╚══════╝   ╚═╝   ╚═╝  ╚═╝ ╚═════╝╚═╝  ╚═╝\n",
            "\n",
            "Version - 0.2.5\n"
          ]
        }
      ]
    },
    {
      "cell_type": "code",
      "source": [
        "'''\n",
        "https://youtu.be/7FLJVSBPtvw?t=2545\n",
        "'''\n",
        "import os\n",
        "from dotenv import load_dotenv\n",
        "from genai_stack.embedding.langchain import LangchainEmbedding as LCEmbedding\n",
        "from genai_stack.etl.langchain import LangchainETL as LCETL\n",
        "from genai_stack.memory.langchain import ConversationBufferMemory\n",
        "from genai_stack.model.gpt3_5 import OpenAIGpt35Model\n",
        "from genai_stack.prompt_engine.engine import PromptEngine\n",
        "from genai_stack.retriever.langchain import LangChainRetriever\n",
        "from genai_stack.stack.stack import Stack\n",
        "from genai_stack.vectordb.weaviate_db import Weaviate as WeaviateDB\n",
        "from genai_stack.vectordb.chromadb import ChromaDB"
      ],
      "metadata": {
        "id": "MNq5k5hv1969"
      },
      "execution_count": null,
      "outputs": []
    },
    {
      "cell_type": "markdown",
      "source": [
        "![insert.jpg](data:image/jpeg;base64,/9j/4AAQSkZJRgABAQEAYABgAAD/4QAiRXhpZgAATU0AKgAAAAgAAQESAAMAAAABAAEAAAAAAAD/2wBDAAIBAQIBAQICAgICAgICAwUDAwMDAwYEBAMFBwYHBwcGBwcICQsJCAgKCAcHCg0KCgsMDAwMBwkODw0MDgsMDAz/2wBDAQICAgMDAwYDAwYMCAcIDAwMDAwMDAwMDAwMDAwMDAwMDAwMDAwMDAwMDAwMDAwMDAwMDAwMDAwMDAwMDAwMDAz/wAARCADZAp8DASIAAhEBAxEB/8QAHwAAAQUBAQEBAQEAAAAAAAAAAAECAwQFBgcICQoL/8QAtRAAAgEDAwIEAwUFBAQAAAF9AQIDAAQRBRIhMUEGE1FhByJxFDKBkaEII0KxwRVS0fAkM2JyggkKFhcYGRolJicoKSo0NTY3ODk6Q0RFRkdISUpTVFVWV1hZWmNkZWZnaGlqc3R1dnd4eXqDhIWGh4iJipKTlJWWl5iZmqKjpKWmp6ipqrKztLW2t7i5usLDxMXGx8jJytLT1NXW19jZ2uHi4+Tl5ufo6erx8vP09fb3+Pn6/8QAHwEAAwEBAQEBAQEBAQAAAAAAAAECAwQFBgcICQoL/8QAtREAAgECBAQDBAcFBAQAAQJ3AAECAxEEBSExBhJBUQdhcRMiMoEIFEKRobHBCSMzUvAVYnLRChYkNOEl8RcYGRomJygpKjU2Nzg5OkNERUZHSElKU1RVVldYWVpjZGVmZ2hpanN0dXZ3eHl6goOEhYaHiImKkpOUlZaXmJmaoqOkpaanqKmqsrO0tba3uLm6wsPExcbHyMnK0tPU1dbX2Nna4uPk5ebn6Onq8vP09fb3+Pn6/9oADAMBAAIRAxEAPwD83QnNOoUtn8KB1oAKRxkU9Y3l+VOvqRWhrHgvVvC+n2Vzqel6np8WpR+favdwGIXEf95AQDiqiBmxpnilZdgrS8H+B9a+Imvw6XoOn3WqahNllgt4y7lRyTgelXfHnwq8TfDCeGLxJot9oslxnykuY9jOB1Ip3A5+ijaznCqWPtVzV9CvfDepSWeo2dzY3UYBaKeMo6gjI4PqCDTAosu6hV21JIQi579l/vVKmh3sWlRXzWtz9luJGjjdl4LLgsAfxFSylIgorbsvhxrmqWTXUWk6k0Hktch1t2ZRGpwzZxjA7ntWJtZDhmVj7dBUiYUUHr95R9TVzw74evvFur29hpdldaleXT+XFBbRGSSRsgYAHPeq5RFP5iPlx+NG3avPWt7x38Nte+F+ppZ+ItH1DRZ5F3It1CVDj2PQ/gawS4Y8FT9DmpAM4ozmiigA8sP1NJJCqHrxngVLbWcl7MscaszNnAXqccniltrCSe7aGNZGkXOVRSxGOvSi4Fb7PsPfPpRtrQ1Tw/d6NZW1xdWtzbQXwL280i4jmA4JU9xmq5j2mtOZvQCvRtzUhHNXNQ8M3unaNZalcWtxb2N+WFtO8ZEdwVOG2nvg8HHSpkBSAytJ5Q9/zp2NtFSAKoAoxiitDW/CeoeG0t2vrO6t/tsQng8xSgZD0Yex9aAM888etIUzU8GlXF5E0ypJ5cLBWcJ+7U+hPqe1Qtw3f86AuNS3UnJ3fnQ6Rh/8TVq+0e+s7C3upbWSK3ugWikcbVkA4JX1xUNtYXF4skkcJkWFd0jKN2wepwKLWAao2jijNLK3kxMwXdtGavz+GdStfD9vq82n3EWl3jtFDcsn7qR1ALAN6jI496AKAHy5o37/AMqua/4a1Dwvfx22pWstjJNEsyJN8jOjchgDzgiqciRxgLuC55y1ACUjDIqWeBrOSOOaN4jIu5CRw49aa4wvGB+OKAISlORNprpvAfwj8SfFGS5j8O6DquvPZBTcfYoDJ5G7O3cRxzg/lWf4s8Dar8O9ak0/W7G60u+jUM0FyvluoIyOD14I6c80AZeOaaU5q1pOl3PiHVIbOxt57u6uGCRRRxlnc+gGOtNvNPm0+8kt542huIWKOj8FGBwQff2oAriJiOuKRYGk+6xb8KeyNu27h6cMDU9/o19orQLcQTW63CCWJpV2rIh/iBPBBxQFyoYt/HJDcn/ZqRbXCfebFbmpfDXXtG06a6u9I1G1s7dkWeSWIhYmdSyKx6AsoyPasM9uPlXgev40ANNmpP3qabYKfvVYIzTGGDQBFsx/FQFx704qM0oXFADBHil2Gn0UAM2mnLwKWigApGfFLTX60AHmUctTacnSgAw1GGp1FADcNTl6UUUAFFFFABRRRQAUUUUAFM8vFPooATYKNgpaKAE2CloooAKKKKACiiigAooooAKKKKACiiigAQ9vagDJpsf+sFSL/rDQBJZzSW9zHJGWWSMh1ZTgqQcg/mK9g+Nmpa18QvhV8K3urm+13VryzukDTSvcTS4u5VC5JJzxjA+leOFAatwazeWz2rR3d1G1gSbYrKwNuSc/Jz8vPPGOaAPWP2M9CjuPjVfWmpWepMq6RfpNbWYC3XERyqBgRu+oNdx8PfCvhvwtD441RfButXVpo+jx3Gnw+NoUm2TGXDMBGqAr7V866N4s1Tw5rf8Aaen6lqFhqQZmF3b3DxT5bqd6kNz355rQ8RfFnxV4wgaPVvE3iDVI2Tyyt3qM0ylc524ZjxnnFAH0d8RrfwnrUWuaXZ/D3wjpBl8Kx+II7y1t5Bc291uhyI2Z2CxkOw2AAYxXoH7QvgGy+InjvxdZ+JvBOmaDoNjFpUlp4pS1kt7p3eSGNkMxO2VWjaVto+75fAFfD0niTUZWLNqF6zND9nJM7EmLj5Ov3eBx04FXNb+I3iDxNpy2epa9rOoWkb+YsFzeySxq394KzEA+9AH2P48+Cvw1uvHlj4fu/C11pX2LXfstjPH4fl060u4QrlbaW4aaQ3LSOqAOMNhm7Yxl6F4WsPiDofhmLxJ4B0vw/JY3WsXFlo1taS2dtqU0USeWvlu+WyeCARux3JOfkfUPG+tavBZx3WsapdR6auy0WW6d1tR6Rgn5R7DFTan8SPEWt31vdXmva1eXNq2+CWa9lkkhbjlWLZU8DkelAH1/r3hS38afCzT7rX/COk6DcR+FdRuYrW3tHtY4JFkAEioxO0+wwK5a58IeCfGmt654XvPC/hzw/p+iyaXKNVtFdLxllZElZ5WcrtIJJGNo6ivme68fa/qU8ktzr2rzvIrLIZL2RmdW+9nJ5B7g9ary+J9QSaaZru5mFwVWdZJ2IuQDwr/3h7fligD6h+LXgddB8K+Ip7f4T6Bat4e8S2Vhoj/2VO51aE+ZiN/mxPv2gllwW3DnGBXm37JkRvfiV44tzZx2PiDUNAvbfSrWKJkkS7LKTHGvVWKeYoXk8Y61g+Pf2rNc8ZeC7LQLazt9FtbOaO4ee0ubqWZmjU+XtMsj+WFOSAmACTxXncWoXMOoLeR3FzHepKZTchyJN/J3Z67u+euaCep9GfCL4YeLJNO0PT/Glj9p0u3N7f6J4d1KNvtN3cpHnmPCy+WxAG0t8xBAFdaPBvhvSfCLeKtX8B+GrHxM2izXVxoU1nJFaxMsu2ObyN4ZcjPGQDjpXyXq/i/WNc15NSvNa1S41CHHl3Et28k0eOmHLbhj26UzUPFWratfXF1da1ql1c3ieXPLNctI86j+FiWyw9jQUfVWlfDXwt8X/Fq6Hb+FdE0nUNc0qz19HtIzFHbrHzdRoGJ2qY+doOM5ra8O+EPh/qngiPWofCljqVrrV7fx3tvp/h17+SyjjykapIkyfZiAA+4qc5zkjivjy28T6lbXMc8epX6zQx+THILhg8ceMbAc5C44wOKl0jxnrGgadd2djq2pWVpfrsuoYLp447kejqpAYfXNTYD6x8M+J9M+Hnxx+Fuk6J4R8LQLfaNDdXdw+mrPdXc0kLAEs5OCcAYRRuJPc1wP7JviPULL9qrXBeaDo5vrq21JGsp9JRgjeXKwVIznZzxgcnpXhH/CT6l9stbj+0L37RYhVtpfPbzLcL90I2cqB2xjFH/CR6lJrzak2oah/aBYym7+0P55b1353Z981QH11c6jpPivwv4J8N674P8ADd02oaFfXD3E1qy3ljIruVEXzARhfQD2qH4o/CXwL4S+CFzaw+G7q+T+x47y21ez0OVnW4PVpL7ztnl9QU2DGK+TZfGepXF0lxJqeqyTxqyrI11IzqG5YAk5AOTkd6JfGepTeH/7JfVNWbSt28WRu5Ps4b18vO3PvigD6E/Zc+Hdnqfwx0jU7DwTp/jbVtU8TR6ZqsV5aSXZsbT5MbEjI8vdknzDzj0FdhrPwi8Jrq/hnQZNE0XT5PFN9rOj29wYgv2ecTH7NgkAqQQEBPY96+f/AIGftCXHwOeX7BpVnfzSyrMHluLmFlK/dBEUiCRQ3O1wRmuU1/xtq/iTXmvLjULz7R9pa8RFlZUgkZwWaNc4Q7u4x+lBB9b+E/hL4G0G98RQwaDY67qng6S00e4VNEfVllbBFxOYUkTln4VyTjHQZqpPoXgXQdQ0DTNL8C6TcW/ibXbuxmbWbFo720iC/cUeYdhU9CSSPWvkzR/F2teHtWnv9N1bULG/myslxbXDxO6nrllIJz3yajTxNqyvbumpXga3kMsZ89gI3bqy+hPrQI9a/Z+8K6bL408aTL4fs/E1/odtLJpmmXUbzRSsJCpLRrjdtHOM4r37xL4IPiLxnp+sal4Q0tTpnhbTi+jp4fl1aW2eTcP3Vn58Y29iZH+XIwM18U6Vr+paPrQ1Czvb21vlYuk8EzRSqT1IYEGr0/xP8TTa9/aH9va0t40Jge4N7J5jxngoWznHseKDQ+uPiF4Qj8M+Dfit4N8P+HfD8di3iXT4gLrTAZtOjmzklsu8Sq3G7dhOgNYP7VnwN0Xwp8Br64Xw7b6TrHh7VorFbm00JtPt50KHcEleeRroZAPmMqk56cjHy3/wneuI98w1bUj/AGigiu3+1SZukzna/PzDPODxTdV8aa1r9otveaxq19CsYjSKe7eSNVX7qgMSABzgduaAPpL4GeEfD9t8PdP1W/8ADei69JD4avb0x3sJkSWZZsKzqGBOBx24rtfCj2cPgfxRJo/hPwzZ/wDCR+FLe+uLe30wSLA5k2yPErbjGAOcDvzXxtY+ItW0+2WOO+vI4VQxeWlw4UIeq4BxtPcdKfY+LdWsp1kj1LUoWjjMClLlwyxn+AHP3fbpQB9Q/Ez4T6Jp3hPxbp//AAg2n6boeg6Rb3mleIBFJHPd3DY6zbtsock/Lj5cdq5P9jXwrY/tAeFta+H91N5N1aXMXiCwknl2RiCFsXiA9BmEAgc5IrwvUvF2r6hpMNjPqmqXWn253RWs1y8kEOf7qE7VP0qrpWu3ejXLTW1zdWEm0xs9vK0bFWGCpK4OD3FAH2P4Wfw38aJfFHjrVPD8evX11r50x7WHQJNYNhYLGFjSNUmjELN2kIPPToawNc+H2j+EvBOkyeDfhla+M9J1aC8nvr7UEMd7YvHIwWMybisJRQCUOQ3Oc18xeG/GureEZZG0vVtQ083EZilNncvD5qns20jcOowciki8Z6lYaNc6fb6pqkNlcHM8ENwyR3B9XUHDH65oA+vPHG3x3qWkalN4F0PWbrS/Ccd1punQ2AigvZA21iwi2+bsHO0cVz/xK8FeGfAPgTVvEC+D/DyeINQ0S0uZtKuopPsukzyuys0aZDISBkK2QD7V8vweNNWtvsfl6trEf9m5+ybbtx9lz18vn5fwxTLvxVqGqS3LXGoalcPeMGuGmuGczkdN+T82O2aAPa/2YNO0vWfgl8RodY0/xNqFoZdN3r4eCC7H75yRl1Ybeh6V1ngrR/Dfwz+FF9qn/CB2+qSS+L4dPth4rtmnuo7VoVJEiqVUEgkhscHGK+dvCvxC1/wFJNJoeuavoslwAJWsLyS2aQDoGKEZx71Hr3xH8ReK7ppNU17WtSkaRZWe6vZJmLqMKxLMeQOAeoFAH1z4PsvDOsfF26h0vwL4b0Kbwr4ns7awksBIbmeOXqszM5L57HgjpWg/wf0P4meMrWTxl4F07wpcf8JBdW1rBDZywvrKgMwDo7AyHcPvKRnpmvjG18ZavZXklxDqmox3EsgleRblw7OOjE5zuHY9RT9a8c654nurebUdY1PUJ7T/AFEl1dyStB3+UsSV/DFAH17rfw58DmW81iz8DSSeJdD0qaaHSb3w3Jp2n6k6vtBW381y5ReTg4PXFJ400Gwv/Dtz4iufAOk3vinRfDOmi18NTWs0ltAsruJJFt9+8gDAAzxnOK+RpPiN4gfWE1Jtc1ebUolCR3j3srTRAdAr7ty/gamg+IevJrQ1ePxBrSasieWLw3knnAd1353Y9ulAH2d8V/h/o/ivxdqN5q3hWxS4t9a0K1a3aNgtvFJADJAob5gueNpOePWuX8M+BfCPxg1Gyvrnwb4e02bTdd1Cwt7HTopI4tSSKNniilBYl23ADIOT0r5Vm+IWvXchmm1vV5JZJUmkb7ZJlnThW68kDoTVjwn8Qr7wnr9jdbpdTht7g3Rtrq4k8mWQ/wAZKsGD/wC0CD70AfU+n/D7StQu/CureIPhPb6dqF9DePJYabpUmz93wkzWrSKZFHdVIz1wa8V/a3+Ft34L8d/aovDthptnLaRTyHSYZ0tk39GeKX5oGPdDwO1Y/wAT/wBp3xF8TdU0u6jA0Q6UrfZFs7mdpYmY5ZjLI7SFvfdXGX3iHVNVluJbzUL26kvDunaWdnMx9WJPzfjQBmmLcpbI+nem1NIKjcYoAbRRRQAUUUoGe9ACUYzTvLxSMMGgBMUdKKcq7hQA2inbPejZ70ANop2z3o8ugBtFO8s0bKAG0U7ZTcUAFFFFABRRRQAUUUUAFFFFABRRRQAUUUUAFFFFABRRRQAUUUUAIgxItPVv3tNU0A4NAFzRdO/tfWLa1NzBZrcSLE08/wDq4QxwXb2AOfwr0r4jfBbwtpHw5vtf8M+ItR1YaXqS6bdPc24hhuXZWIkgYE5X5DwcHBHrXlttHb3F7BHdSPFbyOBLIqb/AC1zydvfAzxXunxs8SfDzWvDOi6P4b8WapbeG9JKoLGTR2SR2OPNuJGLkPIcdMdMAYoA4P8AZ2+FumfFvx62m6tqF9ZafDYT30stnGJZj5SFtqq2Ac4rpvDngL4W6t4803TU1Tx8keoSx22+awtw4Z5Agbbvxjms39mr4iaL8K/jJPf3OqX2n6YbO7tIb2C082aIyIQjiPI9sjNWvHXjrRZfih4Z1hPGeoeLFs7yCe7kn037G0Kxyq2Fwx3cD2oA0PE3wJ8Gyy+MI/Dus+I7qXwnYy3Exv7aGNZ3WRUwoVjhSGPJ7ivItP0K8fw7eam1tutLOREkk3gbSxbbx1PCkZAr2P4a/E/wje+O/iO2tale6Xpfi2ylgtrqG1+0uhaVXGY9w9D371wni/wd4T020uRovii/1mWF4xaibTjbLMp3F2Yljt24AHXOaAO38Dfs/eCbr4ZeB9Y1zXPEtvq3jSaeCGC0tI3t7cxzeUCxLbmz14Ga5X4k/s8eIfhz8QP+Ef8AsMl9JLfzWNrNEflunjODt/8Ar13Glftjal4J/Z+8DeGfDcy2up6ILuS/eWyjcxtLKXUxyMCc4OTjGDVz4ZfHbwtd6d4bufF2satb6r4X1K4vNsNqbg6h5o3As5I2nd165oAxdf8A2VLXRPh5ba9Lq119ok0FNWa38pSqu0rRmPOc4GM5ql8LP2UtR+I3gTS/EzXdvBpF5r1vojKrAzRmRkG8Antu6V1PjP8Aae8L6z8NRpMbXz3i+HV0tR5HyecJmk4OemCOaw/gJ8efC/hD4UW+j6y2pW93p/iiz12EQQeYs0cZQOucjBAXI9aAMf4vfskeKvhb42ksV0u61Czm1F9Ns5o9shuJAeFKqThiuDj3rkfiJ8HfEvwyezfxBpr2SX3MDhg8chBwyhlJG4HgjqK9y8D/ALYugeD/ABpqWtJFf3jXPjAa1DE0Q/49jE0THJOBIN2QDxxXI/tPfH3T/iRomi6Xo2qNf6VZ3k98Izo6aekEkhGRhSSzcct0NAFXwZ+x54i1z4f654g1e3uNHtdM0oalagFGa6yyhAy53KrBsg4rF079ljxpcXOlpcab9jTVJ47ZJmkTbEz4xvwSVyDkZxXrN5+0/wCB9SfxFrE11rUeqeIPD9to8mm/ZP3MbxGPJEm77pCcDHGa0fF/7XXgmXwFcadp95qU3nalZXkVj/ZSQJZrCw3r5mcu3H3j1oA8Vf8AZc8XN441jQ7Gxh1B9JnNs8qzoFlk7KmTyx9BzVT4L/s5658cPiXdeGbKa2sb61tbmeQXJ2hTEhcqfc7SPxr2f4W/tE+AfA3jHVtS/tLVLV59cTVUuhpSzSXEWVJgwzYjOQfmHUVwPw5+Nvh/wf8AtQ6l4muDdtoWqC/jLpDumiWeORA2zIzjcMjNAD/F37FHiHTfhp4b8RaNFNqy6nps2oagisn+jGOV0YRjOXUBQxIHeuKvf2e/Ftr4GXxJJot0ultGLjzGK58onAk253BSe+MV6toH7T3hXQvEfw7b7Tqk1n4T8P6hpN2/2Yje8v2gRkLnkHzUz6Y9q1PHf7Yek+JPhD5Om3Lafq02jxaNPZf2PGzSIihS32knO0gZ24zk0AeMfD/4J+LPinpk17oejS3VlbsUedmVQzgZ2jJGT7CptJ/Z48ZeINCk1K20O6aziDDJZVc7PvlVJy232rvf2bvjr4X8C+AptK8TXmoSQtdmc2LWQuILgbSAUYENDKOPm5rb0T9o7wW7aBrE0mtWOpeEYLi3tNMWLzor4OHCFpCfl+9zkHOKrlK5TxOL4P8AiWG+2NpV0l1/ZzamsZAybZSMy/TkVsS/su+OY9etbFtFuo728tvtoDSoAkPZ3OcIp3DGcZr1y3/aS8EazZya3dTaxa+IG8LyaCNPjsg1uspZDv8AM3cLgdMVQ1j9pzwr4o+IHjpLqXU7fw94202209byO23z2TQhTny88oSMEA+lSSeX6X+zH46vNYvdMj0G6+0abtEqyMqA7uVAYnBz2AJzXF6rpUmhXs9tcW80E1vIY5o3+9Gw6gj26V9OfDP9qzwf4J8MX3huK/1T7Pb3MN9ZapqOlJqEkzJGEK+WWHljIyvJ25rxW++Ml3F8TtZ8RRw6fqE2rTSM322yR1YN38vop+nSgDJ1L4Xa9omhW2q3el3cOm3ke+C7KboZB/vDj86ufDn4D+LPinYz3Gi6XLeW8MgjMisqIzkZ2LuPLd8Dmuib9pu70b4ZXnhnQ9Ls9Ph1FCt/NI7XDTZOfkVjtiH+6KufDL4m+EZfhda+HfE2oa3o7aTqranDNp0PmtdZUfJ1GxvlGG5xmgDnNH/Zr8beIPDU2o2ug3klvbvIpDYWRzGf3hVSdzbRnOB2q7a/sr+OrjwhH4g/sO4bS5rT7fE/mJvkg/56BM7ivbpxzXo3h/8AaP8ABss/hTXNSuNetb/wKk62lgsXmrqiMXZDJLkbG+b58g559ah1X9qnw7feJvD97uvYY7HwnNpM8SW/yrcPv4XnlMsOaAPJk+Cniq91G8tV0W6M2niPzowOnmfcx67s9q1Zv2XfiBb6ra6dJ4euPtF8rNbpG6sH28sN2cAgdQa9W039tnRNG8L+A7j+yZrjXtLu4/7cm28XcUQ2wgHuVU5OaueMP2xPD+o34hh1KebTWS7l2W+jpZeTLMuACVYlj6nge1AHkvi/9mPxJ4H+E0HjS8+xxWX257OSATq8iMO+Aefwp13+yj4ml+HfhPxDbQx6ifGDSrZWlswaYFOpYe+D9KhvPibo2s/s1R+GZri6h1jTtWkvIF8ndHdRydctn5SPpXofwa/ad8L+CPhv4MtdQTVGvfDb6jZXCQw53W92CBKj5+8mfu9+aAPGPiX8KPEHwkurBNcsJ7WO+Vmt3JWRJMHDAMuQcHj2rUb9nHxovhS11b+xbhLG7KeWdyljvIVGK53AE9CRit74ufEjw7L8OPDPhXw3d6lqtno97cXst5eweQXaQ8IqZJVQBk88nJr1bxH+2loOv2FncRyrZTyQ2trf2MOjIG2QlDkXBOWU4yBjr3oK5TyWX9if4nW03Ph2bbG/kyEzx7Y3PRGJPysc8A9a1NN/Yz8Va38NX1a1026fXLbVH0+fTn2IU2jPBJ5Y+gro/Fv7UHh3XdP8dQQyaox8Q+IrfVbYtDtAhjwTu54PHSuh1n9pv4feMpLWW91LxFYnS9fXW4hBZeZ9pCqvyH5sqSVxnng0Enhvhn9nTxd4j0bUNQs9HvJLfT3ljlD7VcMnLgKTliuDkAHpXUfCz9kHxF450S81i+s7rR9Ht9Hn1KCdghe42Y2/ITnaxON2K9Ph/bj0PUNJuLxW/sPV7O8vrm1jXRo7zzxMSVAkJHlsN2CcEYzVCz/al8F6vdt4l1C81qz1p/CR8OHTYLQNbmVUAEnmbuEJ5xjg5oA4jwJ+xf4i1bwHrGva5DcaXa6bpqX1soVGe5DsAoYZyuc8HHNYFr+yT428R3d42h6LfXWn2d0bXzJ3jjkaQKGKbc9eegzXrEf7S3gUJ4m1htQ11dY8RaRb2JsJLPdDA8ezJEm7lfl4GOKyPFn7Ueg6ta2yW8mpReT4mGrnEG39zsVc5z1yDxQB5t4V/ZZ8deNbOS40/Qbqa3ile3/eFY2kkTO4KGIJxjnFUbn9nXxdZeCpNcbR7hdMt43d5C679ittZwmdxUE9cYr6w+EmuaT8X9T8O+KJptR0ux8K3N5KJWEf2WaNgxBlO/Mbc4wQc15Rr3x38H6p8J9S02+uL7VL1bKazs7drELJaytJlWS5VgfK/wBhgaAPnnTLa41jVbWztYWkkndYo03DLs3ygenX+daXifwLrHgnU5LDW9LutNuIThkniKEn27H6jitHwt8R5PD/AIc/sltP0u60+e4jklBgC3WFIO1Zeq9Mcetbvxo/aK1L4taTp+lfYbTTNE0mQtaW6FpplB4w8rks38qAOvu/2YfCq2mg6Ta+JNaXxZrWlDUYoJ7RPsLMRkRBgxbPuRXnB+DHiS3vIbZtMuGuLi2kvY1GPmhThm69Bg16/qnxv+Htrc+F/E0Woa1feINB0aOyTTFsPKiFwqkbzKWIKjPYVb8NftD+CLzTNP1bVrzVrbXNP0K60g2UNkJIZZJckN5meBz0xSewHmkP7HnxFm0tbmPw3dtGyJIxMkeY0fG12G7IU+p4qu37LPjuXWNS0+TQZIJtHVJLkvIipGkhwjbs7SrZ4INekeIv2oNAvtU8bNHJqjf274Xi0izzFj96m3O4Z4XGea6S1+InhH4q/AXxOupavqOl2tho+h2NxcLa+ZKJY52BATcNynHUGkmB4xdfsseK9H+HXiHxBqVnBp6+GbhILq2mkCy/OeCBnkY7988Vm+DPglqnxL8N2c2iafqF9qFzdNapHGqiFwqbuGJzux26V6X8WP2j/DXxO8OeNNNWbULc3UGnwaa8ltva7FtwTLz8pbrnnHSqn7O37RHh74U+DLay1T7at5DfXNw3kx7lCSQFFw2eu4/lVAc/4O/Yz8beJPF0+j3VnDpMseny36y3EqmOVEGSFYHBPb2rnh+zP4ym8LSa0uj3T6bBG0xkVlJMSnDSBc5Kj1AxXqfgH9qTwromh+GbPUv7QVbOy1CzvJEg3eX9ozsK8/NjOTUmk/tHeC7FtO19brWm1jRdEl0WPSjbhYLrIZVkMmflXByVweaAPLvhz8BdW+JPgbxF4ktZ7OOz8NpC0ySShXfzH24A9sn+Va3xt/ZK8S/B/ULuZLW4vdFXyBHekpkmaNXUFFJK5LYHriqPwf8AH+i6F4O8b6Zq0l1ZyeILWD7K8UPnBZIZxLtbkYB557V3U37UmhaZ8SPFGsLFeXtvqA057WKWPCubYx7w3PH3TigDy/xv8BPF3w+0C31HWNHmsbOcBfNZlbax5w2CdpI7HBqGP4JeKpLpVj0i4bbZDUDtAYNAej56Y7V67+1F+1Vpfxc8NXlrot80keuXgvZ7X+x0tfJYdnlBJkx0BAFZfhf9qDT/AA18CNO0yKK4fxLbXscE0hXdFLYq4fy8+u4UAcLq37OPjjSrKwkl8Pzq2pzCGFI2WR/MIyqsqklSRzziup8C/sS+PPFnihdKutNg0ySS1muo57iZPKYxDLJuBxu5AI7Zr1a7/bq0PT/FdnrGmss9rd34ub/T10ZLaSFdhXPnAneyk8EAdK4bwT8WPAPw48eaXJb634r1LTpDeC+lnt9q23nxlF2RbjuYHG45GcUAebaV+zj421fw5NrVvos11YQiTDqy5mCZ3si5yyrzkgVR8V/CXxD4D8OaTqurWbWlnrkQmstzKWkQ/wAWAc44PWvYPh/+0D4K8IXvhPXJLrXJda8D6dNp1tp8cAFvqSkvskLbv3ed/wAykHoK8z+NnxKtviB4v0fULFZPL0/S4LWRHXG2RWZiF/2eRQBuaN+yb4lu/hvq3iS+hmsbGz08XlqCUMlzlgFBXO5VOeuKoaX+yn44vtQ0aK50r7FDq9zFaC4eRSsDyfdD4PynHODXoOs/tAeCdZGr69cXmtNqmsaRb6e+lLaBII2jZc4l3dCFOOO9dX4y/bC8GzeA5rHSJtVxNqtjqNtZPpyQJZJCRvTzM5dj/eNAHjniL9j3xtpnjrXNBsbNdWm0O8NlJPBIgSRsEgLkjJIBOOtT2n7HvirV/h1peuadYXt1cXk97bXloQitayWzICqgnczEMSQBxivX/CX7V/w/0Hxzr2sw6hq1lLqPiRdYW8/spZ3ltzy9ttY4jIJPzjORmsuT9p74c6x430jxBPqfiK1uNB8RarrFtaR2QMd1HcSq8aE7vkb5cE84oA8L0z4B+Lta8KTa5b6TNJp8SM7nKq+F4Y7M7sDoTiptR/Z38YaP4Th1ufRLn7DcBDG3G7a5wrFc7gpPQkV7t4c/a18GaZ4VuBG2qafeajaXcN3YQafHKk00zuwl85jkKMgbRjpVNf2pfB2l+B9NkuDqXiDXNLjtobeG6sxFJa+WwJDzK2JI+uFI4oA8L8c/BHxX8MdMtr7WtJeztLomNJGZW2vjO1sE7Tg9DzXJjpX0Z8fP2jfDfxms2sY9YktNL1K9F9dQw6CkL2r7SB8wbMnXGeBXzrKqrKwU7lBIBI6igBtFFFABRRRQAUUUZoAKTLe35UtFACfN7flS0UUAFFFFABRRRQAJ0/CihePyooAKCd3WrmgSNFrdmyWi37LKpFsylluDu+4QMHnpwQfevor45eLV+J37MDalc6hperala6vDFLaW2knTx4WVo322yllDSI2DwCQPL6kmgD5rQ/NTZoVccivaP2DNat/DXx8j1G8tbS+tLPS72SaCdAysgiIbIbGODkH+Ve2fDL4LWfwSt/iJc3+mwuviiwuY9AklIkUW+0SmROv94Ln2oA+KI41U5AxU0b49fzr6e8QfsG+FPDGkLb6t4pt4db+y2945TxLp6/aDKyAwJYZFzuCsTvYkfKTiq3iL9nj4S6NpHjK8LfESdfBerW+l3MSahZiS9EoJUq6wERqpRjhlfORypGCAfODPvNITkV9FeMP2TPBfwl1K9stY1LxFqdtJ4ibSLRtPmtoHhRQkjTSu8b+af3yDYgXlSd4PAqeJf2WfBfws1Kx0/wAS33iK41TVNen0cXdtexRWcEEbIBIyiKTdId/IyAuKAPn5146VG/3q9k+Nv7Pmkfs6m1t/En9t3WsaglxLbrb3cEcKxBtsMp/dtuDYJPIz7V0X/BPv4eyav421rxavhx/FC+FbdfIsTEGS5mlbbhtxC/c35z6g0AfPKcCpPvRla9i+LPwom+F37ZNvpN1YtZ2smtWt1bwyYASGSVGAGOCME4wTxX0Z48+F2k67+1rH8TLXSrGz8M6f5k1/CsWIDqcMggCD3eQpJtx90mgD4Lbr60da+wvEv7H/AIT8e+J9e8V+KNet9Fj1zxDdWluP7e0/S0sghyZCtywacZOPLjwcDr2rj9E/Zv8Ahu+oafpd/feLrrULzSp9U/tCwu7ZrMrEzAIqeWSwYL97eMZ70AfNEpyfxpqtg9a+k9R/Zc8HP4atfGUNx4jh8IvpDX8+nvdwtqHmCQxhEm8sIFJBO4xnHTB607UP2Y/Aej+Bda8Y3U3iu60OHRrPVNKsku7eO8Dzu6GOd/KKsFKcMEXI7egB83pn8DUyn5a9y+I/7LOi+C/hTfeOLe61X+wdUsrF/D4luo3ea5l3GeKQrGAwhKMp2qpyRWXpvwh8FeG/hZ4a1fxNd+JXvvFyzvYvpskf2fT1RzGPNjZWeQlh0VlwMGgDyHdxQDivoCH9lrwhBfR+GW1DxL/wldzoZ1lbwmFdNC7Q/leVt3k7f49/B7Vs337L3wv0iHxFb3N146+0eF9Mt9VunivbZo7oSAZhQeVmM88Od3ptquYrmPmMkg09eB+FfRni39mL4eeAtG1TXLyTxffaPHb2E9jaQ3cEN0FugTtkkaNgSmOoQZ9BR46/ZT8G/Bl7q+8TXfiTVNJ1LU4dN0pNPuIoLiNZIo5hJOWjdTtEgG1Qu4g/Mo4o5g5j5wLc0/pX1JefsZeBfA1zpela3f8Aiy81TxBrtxpNvNYXlvFbQqgBjleN42JJ3DKgj61Tg/YZ8J6X4HFxr3i21sdUurW5uoJpvEWnWccHluVRDaSN9olLY+8uAM9KOYOY+Y+hp5HFfROu/s3/AA901L6ztJ/GFxqWh6bbapczNeW32W4V8b40UQ5HXhi3/ATXP/Grw54N0j9qnStO0/Q9QtdDa4tUubM6hGzS7tm4oRFhRzzkHv0o5g5jxEtufB9MYqUcqK+vfFX7HvgXxh408a64ftnh/wAM6VrcekQ2E3iTT9MYvsVnmE10ioyqD8sKruP94da5XSP2T/hqms6Hpl1q/iPV5Nf1a60211DR7+0NiqRkhJQAj+bnHKqwBxnNHMHMfNoJAqOSOvoyx/Ze8D+I4tNv7N/FlppbX97YXsMt5FJPK1umRJG/lgRhsfdIIH9407QP2TvCPirwQvjezufEtr4Ts7Wee90+5vIJNQLxNtxHMsaqFYnr5Zx70cwcx829aUMcivpPRv2XPAVz4J1jxhJN4sm8Ow6NHqdnYJf26XiytIUKSSeSVKjGdwUZ9KIv2N/C+o/Du8uPtHiLS9fsLKDVTDf6nbM7W8jqCDaxqzx8EYdnJOPuDpRzBzHzeTxTASTX1+/wQ8LeB/EHj7SfDc/inyvCN1plvdvfz21xHqUjzLkkCBWVRk9DnPc1U+LP7NPhfxx8SfEeuNcanZ6Xp17erraKY4ltnjQNCISEwqvkD5snNHMUfJxNBJ28V7D+zr8EPCnxcm1T+0tQ1D7VbyIljp1ne21ncXSscHbLcjy2Yf3BhmPQivR3/Zr8D6h8OtN0e10/xRp+vS+KJdOn1C+MKTmFI97AxBM8KDgeYee/ajmJ5j5VQ80rfKtfRPg79l/wJ8S49M1fSr3xhZ6THq82k6nFeXEEl1J5Vu8wlgfy1AztIKMpx/ePWr3w3/ZZ+H3jzwHY+IL/AFqfw5Y+Jbm5j03+0vFel2LafHEdgklScI1xucH5Y1TAI5JHJzBzHzKSc81JBKBIoY/KeK98l/Zv8LH4N3mqWWoavr2r6fFJJPPp15aSQwMrlQHtDicxMAD5ykqM9K5v4VfBvw74r+GUmrao2uf2tdanFpVnDZ3EMNtEX/5aSF42JC+gIz6ijmDmPLhqEttC8K3EyRuDlI3Khz7gVEkzOPmyue3vX1hqP7A3hG61q20rTfFlrZ6jb3TR38UnifTdQnvIVQszxQQfPC3GNrlsZySOlcf8Pv2ffh78XvFDQ6PqHiLS9N0q0uLrUbbVb61hcmPhfLvJFSFA/GdyfL/tZqST5/m5Wo05OK+mNS/Zb+HPg7RfE+sTazq2uaVpFhZ3aWmi6/YX0sE80zRvDNcxK8TbQNwZVH+7Vj4h/BHwT8Mvgj482abq+o6pY3llJp99NdRJNBFOu5VZRDkkA4OGG7APHSgD5hzSynAr3H4IfA3wL4v8EeH9Q8Rt4qW98Saw2lRf2ddQxwwAKCJWDxsWIPVBjPqK6/Sf2MfB/j++tovD+qeINMSx1mbS9Sm1KeAJOkaljLGxVFhzjGHJA65oA+X4WNTea32Zo9zeXIQWTdgNjke1fSuofsj/AA3svFWnwnxjGltdWk7PpcfizTL2YzI2Eje9iDQwq45/eKMdMnrVPT/2VvCi/EjV9HvP+EstbqCK3ew0e91TT9NurrzOCYrmQNb3GONoTb5ucjFAHzmzeZIz/d3frTXbcB3r6S+Fn7G3hnxZeTWutHxhps93qk+m6fcXt3Z6eIzGCeYD5kk7DjKqUUf3zmm+Hf2VfBenanYaFq134suNe1Gxurz7TYSwRWcIj3bVMbRsWzt5O4GgD5t6ijvX014l/Yt8I+GfAEM194ytrLVnsor7zpNf0/aQ5H7kWGRc7gvOe/TFcn+0R+z94Z+G/gW21zwzJr+qQSXCQf2k19aXtjckqCcrFiS2fn/VyqTgHBoA8Pc4P4U9PmX5v1r6H+F/7IXh/wCInwxtJrqbXNJ1+80a71i1lmvrVYphB2W1w80kbf8APRmTHOAccyy/sjeC9R0240fS7rxQvie08PW2vrdXc8TWJMhG6ERhA2OeH349j1oA+c3OGpF+TpxX0p4t+HnhPwB8K/iNoei2+t3GtaUtrFeXl9PDJCzkgsY1WNXjUZxyzZHpUPwr+CGi+O/g14XuNe1LXP7OZ9QmkgtPIQjyYw2ULRk/N05J+goA+dE+7UUpy3419L+CfhN8N7V7m+fTfEl/o+qeF7nUrOK4v4Fns5Uypy4t9rHPIIUEehp2q/sV+E/D3w7t7jUvEVvb61e6PHrFsD4l0v5i5BS2Fm4FyzsvG8YGT9zAoA+Z4xgVIh4r6Z1b9k7wHp3xO8UaJHB40ax8JW8H228utcsbWJ5ZRGRiV4h5a4fhVSRmI/hHNZfxL/Zj8B/AXV9UHiLUPFGqac2ow2OnnTJIkliEkPml5NyMHAGQAoG7g5GaAPns/MOaY5yef1r6l0D4beBW8OeBYtEh1q3v7zUbtW1UzxK0qKhI3QPASDjjG4496xV/Zg8Gy3mj+H9R1DxI3i3xPp0+q21xbGMafbBS5RJI2TdIDt5ZXXb/AHTQB84Z5peAozj8a+jNe/ZV8D2Gh6vZ2N54r/4STRfDSeIpbu4eKSywQGeIQrEHPB4bfnj7prD+O37Pvhf4ffC+117Qn1vU4xPFC2oi+tbywuN6AsrRxgS2bhjwkoYkZ5oA8VX5R6UZ/WvoL4YfBPw/8QPAmi3niS+1/wDs2z0PUtS+z6e8EUoaFkwqM0bHBzzkn2rg/jB8JNJ8KeLvD8fh2TWn0nxJZxXcKXMiTXce47Sm5VVXP4L+FAHnIor2z4+fs8+G/AHw3TWdBvNQW+sr9dPvLe81a2vmJZN2SIEAiIwcqWfHrVDT/hP8P9H8D6D/AMJDdeKovEHiawlvre508xPZ2QBdUWSPYzy7mT5trLtBHWgDyKivoK6/ZX8JrLf+G7e68RN4s0nQk1ua+aeM6bODAlyYFi8vep8twA5kIJ/hArS8Z/swfDTRNR1zT7W48YQ3XhhNPuLye6u7d4pkuBHvEarECu0yZBLMDjkDrQB814yaQR7lP3ty9RxX074d/YC0t/FUem6zrN1bzSNdXsZe9t7WOXT4lBRhJKAqs+VG9jtHPFVPHP7LXwx8M6BrGrR6xqeqWlnYx3AsNM16xv5baZn2GOWeFZEYfxZAH0oA+apLdR83mNtxk57UqwSSbREqyK3fd/k1714k/Zf8Jt8Kl1Xw7eeI9ekdbUzXVrfWd1FA8jKvkyWo2zQ43bQ5JVjgcZyO58D/ALIngbw74x0HUJrbULy3g8TW2i6zplxrNpcTTs8byRlhFGwgIMW1oiXP+0KAPkkgxsFkZQScBQD8340/zFHSNvbivqvWPgD4f8bWP2Wxvdb0rw+vi7ULb7GkkNw0NvbozN5ZESksdrYLDaARxXNeHf2YfAvinwva+LIbzxdbeG3trstp0s0P25ZYQCNsoiVGVgemzj1NAHz0WA/hYfUUbkB5rv8A48fDzSvBM2jXmiPeppviHT1vEhvXWaa3OSCpdVRW6dQorzxYfegB5K4pKTysGloAKKKKACiiigCaw1CbSb+C6tppLe4tZFmjljYq8bKchgfUEZru/E37UXi7xh9nj1CTS9n2tdQlSPS7aNL+4C48y4CoPOP+/kcn1rz9SQ3Fdl4h+AHiTwt8HNJ8eahbRw6LrN29rbMz/vGK8529lPIBoAxtF8eap4S1q61Cxmgt768ilglaOFQuyQYYBcYXI6YHHaugl/aP8bX1jpsNxrss0Gk6fJpVmsiK3lW8nLqMjkn1PNZ3wS+D2qfH74gweHNFkt11C5hlmRp5PLQiNSzDPqQMVf8Ah5+zd4m+JMvihdOtkT/hEbZ7rUDK+xYwp27R6sT2oAkm/aS8XXeiw6e11YzfY1jEN3JYWz3iiM7kTz2TzGUEDjPtVHUfjr4k1jStYtLm8ZrfxFcpqGoQhB/pNwm/a2cfKBvPAIzXMnQr6PT/ALZJZ3Its7RMYm8vPpuxj9a39B+Dus+JPBOteIFt5IdN0GOGaeSQFPMWRyi7OPm5HagDoz+2H8QnvNQu5tS07ULnUrhLqf7ZpdvOkcqKFWSMMm1GAA5UDpXPt8Trrxbcafb+ILvULrT1vXvLhoArzl5CDIyliMk46FuO1VfDPw41bxX4j0nS7e1mhk1eUxwPPGyJKDn5lbGD07Vk3WhyWN/HbSRsJHcxIxUqGOSM5PUZHUUAegfFr9oC68d/EKfULdXmtvsK6dZpqUEd3JDbqoUfeDBW46qcj1rkJPiJrVt8Pz4ZjuPL0e4vPtstsqhC8u3GS2NxwBgDOK0Lv4Nato/xTtfCLyW8mrXkkUSBX/dq0oBXJ/4EKt+F/gXrfiT44xfD+3+zt4glu2sVLTbYRIoOdx9DjrQBmav8WNc1WXRbie68678PQxQae7RLujjiIKKTj5tvq2fyrX1L9pPxrqumahp82uSta6lqy61cQrCqxtdjA8z8v4RgH8KteA/2ZfFnxT+Jmt+EtNtLePVPD9vcXl55r7Y4ktx85LHjnGAB1ql8I/2evEnxjPiJdDW3k/4Raxk1G88x9reWnDbfU9ePagC7aftUeMrGG/ja8068W+umvmW8063uVhnbgyxCRG8tiMcrjoKy2+NviNdYs76PULdJLKyk0+BjAhxC+Swxjk5J5PSn+BvgNr3xE+GXiTxVp9vGNJ8JqhvXkO0kscYX1OcZFcne6HeWNvFNNZ3MNvN/qpHiZUk/3SRg/hQB2GjftI+MNBs7G3gvrVrfSbR7SK3uLKGa3lidizJIjqVcE8/MDiofEP7QPirxfFrEF9fR/Zdchgt54ILWKGERwk+WsaooWMLuPC4FVrf4Ra2vw6uvFEtq8On2dzHalZ1KtKXGQUBHI96j8C/CjxB498STaZBZzW01vp8+p4uUMIMUS7mIyOfbtQB0XxT+L9r4o+FHg3wbo8mrLpfhmOW7f7aFU/aZmLSbEUkBB0HPOM4HSqfg79ofxZ4G8M/2Hp9xYixjLNA89lDPNZlhh/JkdS8ee4Ujrmuf8O/DnXfEHhvVNWsNNvLvS9H2C5nRCyxhyccj6E1Rn0i7sLeOeW1uo7eUny5ZIyqv9DjB/CgDuZ/2nfGw8InSW1SGWLyDaiZ7SBrsQnny/P2iTZ/s7sVlT/G/xJe3GpXEl8sj65bR2V6fLC74UwAuB0xiuZjsLi4EbRwTOJm2xlUJ3n0HqakGg3ws5Lj7HdfZ4G2ySeS2yM+hOMA/WgD1nwd+2RrHhzwNq9pcJb6lq1wLOGzNxp1vc2yQW+4BXSQEFhwQ2M8dRXP6b+1J420zW9UvZNRs71tcnS8uk1DToLyITqNqvGkilY2UYwVAxgYwK4CTS7oWK3Jt7iG1kO0TtGRGx9N2MGot29Qrf5GaAOxuf2g/GVydPmn1iS6m0q/fUrd5okaQTuRukPHPTocgdsVcb9p7xifDj6Y19ZXVmwkVGu9OguJ7cSElxFK6l4wSScKRXn4fG5tzeuaVj8+Pl6ZoA6mT4zeJ7p7maTUVaa8s1sJyIVG+FeijA4+vWofF/wATta8fa3a6lqU1v9vsVjSKeG2jibCY2ltqjcwwOTknFc6krbTnHHvTTJwvXPc0AelD9qvxr/a+oXc91pF5/awjN5BdaTbzW07xjakxieMp5uOrgZPGTWbb/tEeKzqem3i6hAbnRbyS6sybWNFgkkOWOAuNvPToK4ctmgcCgD1T4RftQap8N9Yt/t1011Y2s1xdRW0VtExM8qkM/wAw+ZRnJBzx2qjfftV+MbzxLZ6gmoWcUdjE9vBaJYQx2flMfmVoFQRtnvuU5rzXFGKAPQPEn7R3izxRHqcc1/bx2+sWkdhcQwWUMMSwRncqIiIFRQey4rUT9rvx4PDMmkNqenyWslvHZyyNp0H2q5ijYOiyzbfMYAgY+bivL6DzQB3Ev7Rni2bVPEF82oxx3Xie5hutQVoIz57xHKEDbhcdeMZ6HNdVf/tMLe/CLxXpck2oXWveN71bjVneJIbWJUPAjC9S3fgV46RuPPNNH36AOq+Hvxt1z4VJNHoslrJb3TpJLb3lhDdQO6HKvtlVgGHYgZraT9qXxlcw3CvqSfaLjUV1XzWtYzJDcL/y0jcr8noQMAjjpXAngUUAega3+0/421u8s5n1Kzs2sZJZ4Us7CG3i86VCkkhjRQrSMpILNk+mKo+D/wBoTxR4H8ONo9vdabcaaXeeCG906G6W0d/vNEzoxjY552kVxueaa/KCgDvf+GlPF0XhL+xxqNq1q0DWpmbTrdrvyj1jE+zzdn+zux+Fc5B8RNW07wsuk290senrdC7CCMb1lHRw3Xj0zWHQeRQB6Nqn7VHjDUr2zuVvNPhvtPlW4ju7XS7e3mlcDbukkRA0hxwS2c1JP+1l41bV7e8W80+1+yRSxJbW+mW0dpIsv+sEkCp5b7u+4HNeaj5elFAHc+I/2gPEviGy1aGSawtrLWYoIbu1srCC2hZISWjCpGoC4JPI6nNM1D9onxVrtpq1rd6hb3FvrkMVveRzWURDrEMJgEHawHcc+9cTnFDDcOpH0oA6bRPix4g8PWlla2d1DDb6Xd/brb9wG2zYxu59uxyK0rD9pLxhpDxyW+qLDIuoHU9620e5p8Ebjkcgg42/d9q4cJ8u3K/L79aCBngn0waAPSYf2oPFja219HcaBbiSFraW2i0SzS1njchnDwiPaxJ5y2cH0p8X7WXjmfUp7qfUNM1BrpYUNvd6TazW8flcReVCybI9o6FcY/SvMVVT2pQFU525OMZ7igD1PQv2x/iD4bW4+z6tZzSzXcl4sl3pttcSW0rj52idkJjyOMLgV23w4/bHt/BXgCaC+i1TVNfe2uIoRJp9pJCnm5yUuSPOjXnOxRj3r55EmVXb24yTTTI7Nu4DdM460Ad9N+0l4rvPDcemzXGlyLAoiiuH023N5GinKr9oKGTaD23YqH4g/tDeK/iX4bOkateW4sZJluJls7CC1a5kAwHlaNFLkDuxJrhj7j65qQlVX5dx45GeKAPR/Dn7XHjrwx4Uj0XT9Rso7G1spdOimbT7eS6gtpNwaITMhcKdx4z3rHb4/eKTe3UzalGsl3pa6PMfs6AvarwqjAHPA5HNcdHOxjKjau7jpyaM+ZJ8wG1RyQKAO68SftK+LPFHhW70W6m0+WzvhGl3KmnwR3F0IxhfMlVRIxHqTmquk/HHxRoHh+20ix1JI7C1EqwxGFG8oSrtk+YqScjj2rkZid4K7T3HNIsu1uducdhQB2GgfHjxR4cms2tbyPbptlJYQpLbxSx+RJ95GRgQwOT97pVyT9pHxZc+E49Fmm0mSCOP7PFLJpdu11HFuyI0nKeYqDH3QcAcDrXn+/5hgEMTjNHzLOu7lTzx2oA9I0f9qTxtovinWNZj1KzuLzxFHCt+LnT4LiCcxhVRjHIpUEbVOcZzzVp/2xPHV74g1DUptUsLy51IpJObrSbaaNWjXajojIVjZR0K46V5ioViTz6DnqKG+ROPoABQB3WkftK+MNNs/Kg1S3by7p71Hms4pJklcYYq5XIBz90cVYtP2o/Gvh3wx/Zdtq8PleTJbpPLYwPdQRSffjjnKGRVbJ4BHWvPFACKvGPp0pQPvLIcqvIzQB2MP7QPiy2vb+6h1LybjU9MGkTuIUBe2xgKDjhhjO4c1b8ZftG+KvHHhr+y9SutNa3mdZplh063t5L51BCtNIiB5CM8bieeevNcCVLFd3OOB6U4sxIb5cL09jQB1mhfGvxN4f0P+z7e/hS1js5tOCNEjj7PMQZE6ZySOvWqfiL4k6z4juNJlnvFZtDiWKxdE2NAqnIwR1/Gufzu7DNBb+9wO9AHfeN/2mfFvxL8IPo+p3GmNp7zrcSJBpdvaNLKowJHaNFZmwerE03Qv2i/FPhjwX/YtjqEFvZwwvDbu1jBLc26vncIpiC8ee+D3rgw/B5+lR4wy0Aehal+1H401Twd/Y9xqlv9nmthYmY2MX217cNlYXuNvmNGPQnGO1V9X/aB8Ua9PrT3t9DI2vW0VpfEQKBJHEF2BeBtI2LyK4o8r+FRSUAd8n7SXjFvEmm61/azSX2k2wsrcuiyR+QBjY8bAq4I6gjmjxJ8fPEniO11CGSTTbO21KFYZra106C1hZAdw2pGoC8964PGBTuuP8elAHfXX7TXjSXw5Hpn2+2treNIYpJ7ewhgvJkiKlFknRPMdVwMAnsPSrvir9rfx14qtII7jUbO3itdTj1RWs9Ltbcy3SLtE8hSMM7kdd2QdzeteZHcrYJJz708P8lAHoN7+1T45l1aO9g1O3t7i3v31OMxWcMapcOgRyEC7drKOR3PJqvr37UXi7xBIqvqFrbwm3ksmgtdOht7URv9/bEihVY92xmuEY5H160hXOPb2oA6TWPitrmr6NDp15JZ3Nrb2osoN9nEWhiDbsK+Mqc9wc1zYbFLu+XFJQApfIpKKKACiiigAoo6GjpQBc8OfYh4j086l539nrcIbkRHDtFn5wD67c498V9YfGn4j+Bvjj+y3a6fousaha3kniVEsbDUXijjs4hbxRrwORCoBGeuQTXyHRnr7dfagD1T9l7Wrf4ZfGTULma8t4pLPTL1IZ1k/dtKEO3ae+SOPWvfpPih4H8PaXdTaHq6rceOtKudS1dS+37NN5YVYPqWDNj3r4uBAHJ+nNLO3kwfe+ooA+vNb8caLcaJdah/bekt8N5PD0VpF4f84faftg2dIsZVwwdi2eQa3fGXxMsT4e+Ik914o0e68DaxLpLaHpUEy747ZLhWkjEQGVKpwc9TzXxKbhlO1cbT+lOEDsf/ANVAH3X8SPjRo58Z6U0c3hW40KXxHb3WlXcWqGSW0twGHyRbR5MeCNynoQOtfJfxBk1J9T0Sa+1K0vrFiz2iQzhzaR+cx2tx8vJJwfWuHWJm6MP0oCMf4h+YoA+nPGfgD/jJbQfHCax4dm0MX1g7SLqUZkRQEDFkznjBz9Kjv/Blx4E/awuvFlxrHh1tKvLy/lhnt9Sjdl3QTbGIU5GSQBnua+aWRRDiTbxzx1NNM2V8tmyq4IOff0oA+2fBPxm8C6HeaT4ls9Yht9e+IUc0WvQs+BYLDaSggn0lmYkevy15V+xb8WLX4LT/ABK1a4vbVLpdLjNtBK3F3m6QtHjuSu7I9M188qipbtt/iGdvXOKfcoryLJubL8gmgD7VvviX4T8BeAPFXhLSdU02bR7+x/tiUowDXMs1xG3k47lI1Ax65rN8SfEHQ7G21i+8ReJND1rwrqN1ZtoOnQMJZLFVcFsx4zGFXgjvXx7FDIzZV2/vU2aHyGjjwhZfmIJ6g+9AH3DYfEfT7PT55vG3ibQdc0CbxTBdWNlDdLIUtfLIQ7QMqittyD0x0pmrfFSxh8VSw6xe+HY1/sTV1tbmHV/tsrJLEFjjJ2gKMg7V65NfEP2sJKyL5ZbHA7kUSPuZWURgMdvTqf8AOKAPav2Y/Hf9k/Bf4kaG2uS6eupRWtwlv9o8lbpYnfzUX1YoQMd69E+NPi6x1XwN4yuZ9c0nUPCGqWcH/CLaZDMjT2UgKnAQAMm1dynPX3r5Ng+UfL8u3PA7VNCcUAfSv7MNtpnifwX4LaXXfD+mt4b1uW6vYtQuBBII2UYZcj5umMV158bafqfwz1uGXxHodrpai7A+y3QDzu0hKpLbsp8wns6ngV8cyurdCKdEcL3oA+wPjb8UdET4GXkegp4dn8P3ulW9rbwSakfPtZlAyVt9vEgIOWzz618flsnllJ7kd6jmk38KeeuTTvmUZYY3DpQA09aKMc0ZxQAUU5Y2cZCkimuNn3uKnlJ5QooIxQRg1RQUUDk0EYGffFABRSFsGhmCDnigBaKP4c9jTghZC3pQA2ihVLHj8fajozL3XrQAUUmfm/SnoP4u2M0ANxRjFSZpsnSgBtFA5pwQkZ7etADaKXbjPtSDmgAoo7UZ+bHegAooUbunNOlhaBtrDqM0ANooooAKKKKACiiigAooooAKKKKACiiigAooooAcHyefwpuxgny/Mc5oozkUABVh97C/jSFS3+19aWigAooooAKKKKACiiigAJzRRRQAHkU3H+cU6igBoGD/APWp1FFABRRRQAUUUUAE3+t/KnP1ps3+t/KnP1oAEbYclSw7+mO+eOBj14r6G/ac+EmneFfBE174T8L+Ap9HsbiOGXWNF8Ry6jeIShwJ4jcPHH5nJ+WMcjGR0r55ifypkkCxu0bBgHUMpI9QeCPavWfEH7RvhjUfD1zp2m/D+PRIdauYZ9ehtdSIivli5EcCiPFuhJJIG89OeKAM79lT4fWfxI+Krabf6C/iZv7OubqLTF88/apEjLKoELLIeeysD2r1jxP+x9F408GaPeT+HY/hDrVybmW4stSN35T2sIB84RS+ZcL1xkZBPSvDPhr8Uk+F3jK81bTbOZReWtxaRx/aCr26yqVB3gclfXAz7VF4H+Ll74P17UtQnWfVptQsJbAtc3DeYgkA+bd8xOMdKAO68P8A7Hs2v6fYyR+NfD39peIBM2g2UsNysmqJFuy24xYjLbG2iTBPHSrnhT9iWXxBawrN428K6ZrE2j/242nzi7V4rUANI7SCIx7lGTsDFmA4Aqn4D/aqh8MaDov2zwxaalr/AIWhli0jUmvGjFsr7vvxBT5hXcdp3JjjOao2/wC03cW/iyPVJNHjkkh8LP4ZYC6K+YHi2GX7p54zt6ds96ALs/7HUlvdW8z+MvDsfhm40E+IrfWfs915RtxMsDKY/L8wSCRiNpAB29R1q3c/sk6Z4X8DeJNV1rxRCzWumwapo01rZTGHU4pH2hiNoK85XBwQQeorS8EftJ6Hf+D5tM8RaP8AbLPQ/CLaPDB9uaJtTdr9JsqwXKMFLYHzfdyQc4rnfEv7U8fiS31TT7jw0Y/DsujxaPp+nx3x8yxWN96OZSh8w7iS3yrnPagDqP2Xvg3ZfED4BeLdeXwHaeN9c03UreC3guLu4t1giZCWOIZo8846k1m+H/2QW+JirqlxfeGvALalqjaLaaXcJeTAXWBtiVgJSFyQNztx39aw/g98d/Dfgb4R634R8ReD7zxJY6vdR3qtba0NPkhdFxjJhkyDn0FWLP8Aac0/w5pmg6Xovhae00nw/wCIl1+CG41X7TIfufui4jUfw53BfwoAveCv2I77Xb6xsdR8XeH/AA3rerXU9rYWF0lzLNe+SXV33RQlEUlGA3kbsdqksf2QX8Q+HU1C41nw34YsdN0VNUvbuU3UwmVpzCGZF3nduAwEUDGO/X0b4OftB+DvENzaeLPGH9gjUdAur6fT4X1SeO7t1l3ssQhERW5G9ztO9AuTkDFeV6r+159v8A6pocfh+PZqWixaKJ2uQzKq3Hn+ZjZ3+7tzx60AaFr+wlrcPirULWbXtJh0y1W3ki1RLW8uorsXC7oQkccTSLkcneqhema84+JnwvPwr1e603UtU0+61yG5e3lsIo5VZFXpJuZApVuwzn1Feo2H7ds3+kW99oOqf2TJZ2dv5Nhr8tjcCS3j8tZPOjToR1QqfqK8l+IPjix8cNNOum3EOoTXTTvdS38lxuQ/djO/LHH94sSfSgD3Dxn8Irbwb8GNF1Gx+E2k6ppuoaPFd3muz3t6skUr8FsLcqnDY4CEVy/xK/Y0/wCFe6Lq0tv428N6pqWgpbSahp8Mdyr2iT/dYyPEEYDowViRzzVfxD8dPAPjXwdpkOueAtbutc0jT47CK9tfEawQvsGFfyTbk/Vd4z61Nrn7YM+q+KfEmqQ6FDbyeJFskdJbnzVtvs7BgfujeDjGOPqaAOm8OfsC3mj33hPVNW1Ky1nwzqWsw6TeSRWV7Zo7SqCDFLLGnnRjkF4SRkH2Jq+Fv2SdJTxja3i6xpPi3wpcNfWsrWJurf7FcwxO6xsJERm4AIZSQcGr2r/8FDY28y4g8GSR3V5rdvrt5Lca1JcLNNECNigriOM7jgDJHIyeMc+n7Zdro6WtroPg9NF0zzrm7urV9TNy1zcTRlN/mNGNqqDwuD/vc0ASa/8AsjxXPk3txrXhnwjptnpEGoz3E63kwkEjbRlQrvvz2Ubaow/sZX1prGoDWvF3hvQ9LtbiK0tdQmFxJDqMsqgxiNY4y4BBGSwGM1T+IX7VreMvCc+ltocdr52nW+meYt6W2iFt2/G0df7uePWvRvhb8fND+LM1xbeLhoFjpNvcWl3DBfapLazRSQqFMiSJC4cED/V4BJ6GgDynwd8ItD8N/tKReFPGGrWi6RZzSJcXEczw28jKrFAXYAojsFBY4wD2rvvGn7L9r4o1bTNJi8LwfDTVLlLq6bUheTaloeoWcK71khlDSlnGGBCEg8HAzXC+OfjJpMf7Q+t+KLPSdN1rSLi6kAs7uMtFcxH5eP4lOMEHqCPwr0L4QftV+GNMuLfQ4PDK+H/CVnFf3z291qj3ct3cSwbNgl2oI1IAACrkHByaAOR0n9jnWPEOq6fcaPr2man4b1Kxk1D+2YbW58uGONtjq8QQy7w3G0Kc5Bqxq/7EOoeGL64k8QeJdC0Xw/GIWt9Wu7e6WO5Mv+rAi8rzVPXO5RjBq7of7b83gy40+x0Pw7LpfhKy0+Ww/syHV3ju5BK295PtSoGV93TCYA4INZkX7WWn6lc6pY614VvNd8N6g8U6WN74jnlvIZoxhX+1OrZHquwAjpigDoPg7+ypodz4v0G38Qaj4futOuNQuoHvLK6nu0vhChYLlflCHHUbT1B5qr48/ZtX4ja/a6xY3Hg3wv4amspbt5reC5jt4IYm2bmjO9y7NjCrnPtWDpH7UUehXOlvb+HLKztdJu7q5itba5YR4mQrtAKk/LnqTz7U7w/+1munaPp+l33hyHUtHhsJtPvbVr5o5LxJJPMDI4UiNlPTIb6UAZeg/BrS7L9ojwr4budU0fxRousXlp/pWmTOsU0EzqrK33ZI355RgrCux8b/ALD82seN7qDwT4k0HWrOPXJdKuIovtIbS/vEeZ5kYMi7QfmTdyCMZrzdvivY6d8YtB8R6L4dsNIsdBuoLmHT4pyWcRHd+9mK/M7EDLBRz2FejTftxx+H9c+3+EfBlt4dkvNWbVdSaXU5LprxyCNiHajRoAzcDJyc56CgDe8EfsM2ulazPJrmraffaDdaddSWuqm2vbGG0nhxncjRrK2O2FIauMtP2PLzWvHVppVj4q0nULHUrUX1lfWdneXL3ak7dsdskJmLA9cgY9ata/8AtkLqepXkllousxW99YTWbxal4jn1Io0nVlMigKo7Kqg+rHrUPgf9sP8A4RTQodJvPDJ1LS49MXTZ1h1R7SaXa5cOrhTtHOCvOR3oAb4l/Yc8VeGfFX9gyXVrNqg1RbCdFhkRoQyeYJWDgMF2ZyCAQRiptR/ZFuNV0DSLhb7RdH0hdPur7Uta23UyCGKfy98i/MdzEAKsajjk4xmrkv7e+qW3jTxbqmn+HbOwXxRpsWnKhuTK1iyLtWZHK/MwXI59etYvh39rS40rwhpfh2+0H+1dCi0qXS9StzqHktqCvL5quH2kxOjfd4YdfpQBT1/9kbUNE8M6prVvrGl6joul2NvqFpeW6y7NTinYopjDqrLtIOQwBB6Z61f1H9k648OeCtU8Qat4o0XTYNJWDYjQTSNcvMm9UUKhO7GeWIHvVmy/bCikjvtLvPCIuPBt1p0Olw6KmqtHNbJExdW+0lDkliSfkwfQVT+Lv7XH/C1PBWqaHB4Zh0W3vrm1mQC/e48lYEKBQSgzkYOSagg3PgN8GtB8S/s6+KNduobDUfEk9/DpmmQ3lvNJGpk6FNhADkn7zHAA5rNb9jG/n1m003T/ABf4d1DUotQi03VLa287fpcsnA3F0xImeCUzyOlct8Ovj/efDb4d3Wg2NmvmXOpwapHdmYgwPF0Upj5s/UV3E/7aNvp/iGDVNK8E2tnqF1qMWqavOdSeQ6g8ZyFQbQIlLZODvOT1qyzzzxv8Hrbwh8XV8K2fibRtSZLlbWa9VZoreJwxVtxdA5C9MheSOAa9I1j9gDXtI1PRfN1izt9G1lLmSPUL/TL2yji8kAt+7lhErKV5VlU54xjoPOPCXxcuvCfxxh8dW9nB9qj1JtRFpK5ZRuYtt3DB4zweOQD2r0vWv25Le60Sx03T/B8lna2c97M0lxrUl3PM90pVyzsgyF6jABxgEnrQB5t8Rvg9b/DXVNDe31yx8TaXrSGe3vLKGWFWAcI6FJVVwQeOQOxrqfil8JtB8MftQ6Z4astPEek3JtN8DzPlvMVS/wAxJPUnpXA678QB4g0Lwvp0lisC+GY5Aribd9pLyb+mML0x3r0rxr+1D4P8WeKbHxJJ8P8AVofE1oLfN0viYNbv5QA/1X2XIyB/fOKAHfAr4PeGfFX7Zw8K63ZtJ4XW/nje3jndSY0B4DAhsj69q9F+DH7E+hX37R3jHTPE1v8AbPB+iwyCwEdwyfapJUZrfDAhjtAyee1ecL+0/wCEdH+J0fjDRfAGqafrjSySTtc+JluoJN6kEKv2ZSvXOcn0q1ov7dl9o1p4Tj/4R+1mm8LyTtJL9pKyaj5kbIm47SF8tXIHXOO1AHB/C74LQ/FPVfESv4g0/wAM6b4bia6ubu/jlk2xeZs2gRI7M3IIGOR3Fdl4v/Yul8P2lxFp3jbwzruqRWKatBYWMV0kl3aOflkDSRKitg/cJzwa898G/FB/Cnh7xVarYR3X/CUWZtnYzbDb5ff0IO/9OtdRpv7VF1pGvSX0ehx+ZJ4ei0EEXR3ReXjEoO3Bz/dwPrQBoap+xzrEFpLa6b4i0XV9esTEdQ0eGKdZrJZcBTuaMI+MjdtJxXTD9izTYfA+pWdl4g0PxN4yj1e204w2n2qP7A7qSyt5kao6juV3dKwL39sWSH7ZqejeGYdL8UaqYl1LU3vPOS6WMgjZCVHl5xz8zZ9qtj9tZdDurq90DwhFpGs3+pQ6reXjamZ45ZUGCFjCLtVueNxI9aANbS/2IP8AhEdYF1q1xa65oclreR7ooLq18i7hj3BSJFjZlzyGGVbmvnW5/wBZgLtwBj8q908VftoHXPEC6hDomsRyTW1zFcx3niS4v4y8qlcxq42xoOy4J/2q8KlKsFI25Iy20YBNADKKKKACiiigAooooAKKKKACiiigAooooAKKKKACiiigAooooAKKKKACiiigAooooAKKKKACiiigAooooAKKKKACiiigAm/1v5U5+tNm/wBb+VOfrQAxjirVzoF9p1nDdXFndW9vcAmKSSJlWT/dJHP4Vb8D29ne+M9Jh1Jtmnz3sMdy392NnUMfwBNfT/7Yvha1+IcPiC4stB8RaVN4b1aLS9LjluHmtdUhkVtogjxtGPLX7mRhqAPmLwX4F1j4i69Hpeh6fc6pqEqsyQQLuYgDJP4CpvHXw01/4Zaglr4g0m90m4kG5FuI9u8ex6H8K9E/Y8tY9P8AjDqEV+L23hj0S/W4EI2zREQnO0N3HvXvHhXwt4X+JHhzwLp9x9v1bwvZ6dfalbXOpxG7uZ7wMN1sY0Iyq9dgPNAHxbDaySF9scj+WMttXdtHvUYcMyr3c4UetfY88Hh3wzZ/EC18K+HoZrm88LJczW13oklmfNEgDNFEzF1UA7vYjNLa/CnwNrPxX1TS7jQ9NtI/DPhe31GzhttOku5tRuZBEZDJErBpQu8nYMfez2oA+SdP8N3+oaBdapDazSafZyRxTzqPkid9xQH3O1vyqjKdvXjb19q+uda8DeAtE8MeINYh0WWOxs9W0P7RbXVnJZInmwy+cBEWJVWIDANyBV/Qv2XfAfgn4mx+HdQa11i+sNLutaZ47ZrszF3/AHCeWrAyBY/n2g5+agD4zcEvgbc4z1rQ0HSLrX9VtdPsbWS6vryRYoIoxueR2OAAPc4r6a+MHhTwJ4W8J+KtY0LwtDNeR2NooTUdOktUtppCQ7xws2VBABAJryf9n6ad/wBqnwNJc6bDpLJqtofJjiMKn5hg4PrxQBzfxI+BHjb4U6cl1r3h3UNHtWkCK88eFZvTg4B9Aa5vw74fvvFupxWem2s15dT5McUS5Z+CTgewB/KvrCw8f+B7T446r4NkvdW8Sw+MPFNpBqEWpReXZWUK3LF8HPLHdjIxgVq/Br4KWfgJ01KbQG0m+XxpqFlaTSxujG1FmdkaZ6qCWII/OgD5Lufhpr1tZNctpt8tstv9paXZ8nl7tpb6buPrWFtyT32+vavsK18F6X4q+HMlxfWqztZ+HYfLLOymItqLKeM85FR6b8LvAvxG8Y+ItOl8NaTodj4e8QW1os1q7JJLEwO5HYkg7iBj0zQB8ifc4OPzrR0XwXq3ia98jT9OvLqbyXudscZJ8pBln/3QOSa9t/aO8FQ6f8GW1KTwHY+Fbi38RzWEMsMDwtcWyxqVzuPzD/aHWvZ/h74mjubL4c3yaDo8dnD4C1QzPDEUSRgjgxuwPOeMjr81AHwsIWaUHG7byQf8+1PCqZFXbuVgD6V9jeAPhD4E+IOkeHvFN1odjY3V94Vub37BaWL3UF1cR3Zi3i3Vgz4jGdoPqa8y8ceCPBN7+1X4b0zT7O8sdB1JrUXsF3ZtZYlcDeFjYlkRuwJyM0AeJx+F9Qk8OtrEdjIulrN5Budv7syEZ259cVWs4WulZo4Wk8sZ+UH5R719pQeCH8Z/C630i78E6X4ctV8YOqWzQSRxXMaI23IzlycdVPNWNI8F6L8PfE2j6lpvhGzhvPEWianHJaXWltEJWjIVCsJJIJ/M0AfDrN5kjdyOtb3w/wDh3rnxGuri30XT7jUns4GuJ1QArBEOrMTwBX0x8NPgPoviH4YOl/4Ttmvr7RbzVPtdvYSH7M6HKK87NhGHI8sDIrif2WPEEehfAf40Qmz0yeRrC0VTPFvbDSlWwcjpwQPXmgDwOVGSV1ZdrRsVYdcEVEylT0Pr0619g+NfAHhSz8beKLXTfB+g3N/4b8P2l5p2mwwO0moyyRp5juA2X25JCim6j8NPCfgrwBrmvSeF9FbWFs7CeTTbqNnh02WRiHULuBXI5welAHyGRsIVvlOOhq5o/hbUvEF5b29jZXF1NdSeTCsabvNf+6PU+1fSnxw8K+E7q08dadY+EtH0t9DsbS/s7mFHE6tJjeCxP3fQY4q1+zVqTX/wl+H0Vvo+nstr44iikuo7f98gIUgs+eM9MnrQB8q3llNYXUsE0bRzQSGKRGHzIw6g+4p0cLSzLGqlnchQPUnpX2X4e+F3g342eIrfVNZ0XTNCMPjG/wBNna1Rl+3xrAZYw67vnYuMcYJzivJP2uvD3hnQDoFz4f0+70vUlV1vUfR5NMhkCyYR0jdmOcDBPtQB5Onw71yTxPLoq6Xef2tCC0lr5f7xABuJI+nNZMymGV42+V04YelfXWoa9YT/AAY/4Wmy28eoa9pcPhpmz863P3JJB/2zHWul134EfCmK10/RbuwubWBms/I1KPSJIlfeAX8y6Z9jhunA4zQB8QW9tJdyiOGOSSQ8hUUsT+FN8tgx4Pynn2r7F+EFl/Yf7Q2mwzfDfSNGt4r67s7G8eBkW7TyX2rtY/OTgfOODmqHg/4OaTcv4PjHgez1SPxZcXx8RXjo6/2QVkYbVbOINi/N83WgD5KJG7bkbsZ610lv8FPFt94KbxFD4f1STRVGTeLATHj1+nv0r0L9prT9D8E+EfB+k6Pomlwrcaf9qn1BEJuroiRgCWJxgqOQBXrPw3tNY8b+GtBj+y694b1TT9BcWmt2shm0i8txGT5cyH5VJ6HHOaAPj97WS1lVZY5Iywyu9Su4eozT1P7xV7t096+xviH4ft/F8Ph+7m8I6PrVxpvhETWFpBbFYr2bzCrcA5faOdo5rnvH/gLwr4A8Calr8ng/R49Zk0CzuJ9LnVjDplxJIyMypnKnGDg9KAPl0yLsXnOemO9dJ4J+Cniz4kNEuhaDqGqGaGS4TyI926NDh2HspOCa+mPiT8Cfh7afCW4tdJ0u+bVrjSbaXSrq20WX99duVwGut2woxbG0DIqv8NtVuJvGnxB8L+H7W4EXhXwNNpcK26FpZZwyGVxt53NITwPegD5Y8X+DtU8B6tJp+safdabeRfehnQqwrOtbSa+DmGOSURjLlFJ2j1NfWnhHwB/wkWgfD/TfE9oLvxJZ215d3FnqCPNObUDKKYwd7sTyEJFdMvhPS/AQ8TrpPhfT4Jte8Gm8+xzWJjkV/N28RZJXjkjtigD4jitZLueOGONpJJGCIqjJYngCrWseHb7wvq0ljqNrNZ3kP+shlG10+or7Ft/2e9Csfh7PNceH4bXVNHsrHUI9QtbORUMjyLkCZj+8ODyAMCpPjf8AC63+JHi3xhJrXg/S9Iaz1HTo9L1JleA6m0jqsiO5OHXHJx0oA+LhyoPY8ChRvXI5HrmvsjxT+z74VVPDd5J4Lm/0fxPPpdxb29i1iL+JYiwKq7Zkww4ORuGMVZtP2dvCd/46ivL7RNLtLX+xJ7qzgttNmVruVHCjzLNmD5UHGFPzYzQB8WPytCHFepfta+HvDWifEW3bwva3tjazWaNcQXFg1iFm7lI2JKqfQ15XtoAk3U1zmmjmigAooooAKKKKACiiigAooooAKKKKACiiigAooooAKKKKACiiigAooooAKKKKACiiigAooooAKKKKACiiigAooooAKKKKACb/AFv5U5+tNm/1v5U5+tAAkRkjba21ugJ7Vp3XjjW7yGzEusajMmnYa38y5ZltyP7gJ4+tVNINudStlvGuEs2mUTmAAy7M87c8Zx0zxXqPjX4UeCbb4Ht4y0a88Vx51BNPt4NTgt1W6bYXkKmNt2FBTnGPmFAHllvq11HftNHeXUc0isDIpKswbqCe+RU0OtahpdtGsOoXUK25LQ+VIy+Ux7jnAJ9RXWfs8/CSP41fEVtNmu7u1toYJbqUW1v9pupljXcUiiyN7kdBkV3Nl+yVY/E+9nb4f+Ira6jtLOa5vbHxBLb6VfWDRkDYyNLtO7qCpOO4FAHjx8Wasbs3TajetcSRlGmNw5kdccqTnODUNt4l1K11QX0Wo3kN0oGJRM28DAwN2c+n5V1lx+zt4yTwVN4iGisdGgVnMi3EO9kU4aRYt/mPGDxvClfetDSv2TfG13YaJql/os9joGr3ltbSXBljaaBJnASRoQxkRG7M6gN2JoA4K+1/UtZS5a61C8mS7dWnEkzN5jLwCefmx2Jp1trt/bajHeRaheR3KKFEwlIdAOAAeowOMV2uv/s1+KNP1ya1s7Ez2Bvbq0sLiaaOA3wtwTI6h2BKgA/MOMjGc8VD8H/hJY+M49a1TxDf32k+HvD0Ilu57S2W4uHdmwkcaMyjLHuxwAKAOR1HxRqWoTzNcX11cNcYL+bKTux0yf4vxqOTXrz7RDcLdXDXEPKy+Yd6ntg9RivTNW/ZnPjjVrP/AIVpqH/CX2F1Y/bpUme3srrTBuKslwpl2qR1znBBrD1L9mTx1ongmXxDceHbldJhbDSrLFI+0nAkEasXMZPAkClD60AcWL+We/8AOaQrMcuZNxLZ65z1z71o3fjfXr5YRNrWpXEduQ0RkuXLKcYyDn04+ldvYfsd+PH1vw/DfaSmnw+IruKzgmmvLfZCzngTfvMxHHO19rN2BOKtat+xx48t/idrnhax0u11S+0GQJcSWuoWzW+SMqok8zZ5jdowxfPGM8UAeZrr2pRwsv2+6+dQjDzGxgHOOvTPNO07xHeaff8AnNPNMrTLPJHIxZZ2Bz8/PP1rU8M/DLXPGHi9tB0/T5JtXjZlktndYmhK/e3lyAoHcsQBTvGHwm8QeBvGMeg6rpslrqkxQRReYjrLv4Uq6kowOeCCR70AdB8W/wBorUPiv4bs9IOm2OkabZuZhBbSSyeZJgDezSMxzgdBwK4eLW75LBbeG/vo41BURpKVVA33gPQHvXbeOP2VfiB8OLC3udY8N3VrFdXAtU2TRTMJT91GWN2ZWOeAwGe1dF4F/YY8feLfiDp+g3VlZ6PNqFrNd29xc6la+S/lozFNwlxv4AKZ3LnJAAJoA8q07xNq2m+U1tqV3BJaJsgaOZl8gE8hfQHJ6VWvtXu7/UTNcXE01wWBMzuWZiO5J5run/Zg8dW+ovZx6DNeSR6dLqwa2nhuI3tImKPMrI5UqCCMAk+1Lon7LXjzxLeRw2fh+SRprWO9DNdQRosUgzGWZnCqzZ+VWIY9gaAOUvPG2tag0QuNWvplhcPDuuHbyiO4560298Z6/qd9HO2r6hJcQ/LHI1y5aMHrtOeM13ngf9lDxt4mmmkuNDksdM03UFsL+5ubmCA2rkgFQruCzAHOBnNZnxq+BGrfC/Ub6dY5ZtFtb17KC+lKJ9odfvbUzuI9WAIFaIDlrDxjrFnC9rHrGpRwyE7447p9jEg5yM49evWqOn6vNYxXUcc05jnAV13ELKOeuOvNexeJP2RdS0j4XeDb+1tbrWPEXjQs9pBZ6lZzRxoM8GJGaXOPmLHCqAc9K5yb9kz4gWfjOPw+vh2RtRmtmvIVju4JIZYVIDOswcxsFJG7DfLznGDWYHFRa7qA1b7dHqF4t0q8yiVvMAxjG7OcAdqbPrF5dLP5l9dMt0Q87GVmMpHI3Z64rY8OfB7xJ468cyeHdN09rzV7fdvjjuIdqhfvEylhGqg9WLY969P1/wDYk1Hw5JbafIL4atc2NvcODJarb27yybBvkaUAr6Mm7NAHi8+s6hM8rSahcSrcRiOXdIT5ijoD9KZpevX+iQNb2l9cQ2vmCXYJWTDjo2M9R619OeJv+Ce9r4Q1vxRDNdTTWvhPSo7qcjxBpiPfTv2QFiY1Hocsegrxtf2WfiBHo9lqDeGb1bPVrlLa3dpYmYNJxF5iBt0e8kBS4VT2NaGhxKeIdQSNguoXhVphPtEpAWXPDj396drHiG8191a9vLu7lHHmTSNI2OuMsfU9K75P2OviRJ4putF/4Rtv7RsUV7lPt1tsgLZCo0nmbBIxBAjLbz2BqHQv2SfiL4l0K61Kz8MXTWtnJLDIZZ4YX8yL/WRhHcOzrjlVBPtRcLnCrqd0mkra/arg2obesJc7Fb+9t6A+9WrjxTq17pyWE+q38lrDh1j89iqkdMKSQMV0/wAR/wBnTxF8KPh14d8Q6tPpS2viBWaOODUIJZodpIw8ayFx0/ujGMHB4rsdG/Z08IaPY6RYeKfF2oaH4o16y+2WqCzjbT7ZSCyCeZpAy7sfwqcZFZmZ5PeeM9avLqCabVNQmuLMD7PI9y26HH9054/Co7XxnrEEd0i6pqW28OZh9pcCVj1JAOD+Ndg37NXjC/8ACN5r1jpLX2i2hc/aop4/36KcGWOMsJHjHdlUqPWtLS/2JPilrOhRajZ+E7m6tZoknTyru3eQxNyJTGJN4jGOXK7V7kUAeZ3V5cXTIZriSZYE8uEMc+WvPHPbnpVu28X6tDojaeurajDaNx5KTuIwO/Gcda7u2/Y/+It54i1LSU8PYu9JgiubsvqFrHBFFIcI/nNII2Vj3ViKo6R+y14+1nxbf6JB4duBqGl4+1LLPDDFDnlcyu4jO7+HDHd2zQBx9t4l1Szkt/L1K+RbMEQkTtmInrt54ovNdvb6e4kur67uGvFAmLSs3mY6bs9ce9dz4e/ZM+IniiK8e08M3W3T53tZ/PmitykqjJjAkdSzY6AZJ7ZrO8Mfs5+NvGuh3+oab4fup7bTWdJt0kcUm5PvhI3YPIV7hAxHeizAwtP+I2vaW1n9n1rUreKxlDwRrcNtiYdGAzgYpln4q1jS7u4vrfVL6G8vgftE6SskkuWySWBHU5Ndpdfsc/Eiz8Kxa1N4baPS5oI7pZmvbbiFyAJSvmbhGCeWICr/ABFa2PHX7C3jvwV8QrXw7ZwWGuXlxpcWpySWl9b+TbQsBzLKZCiYYkAswDcEZHNUolI8tPiPUf7Vj1Bb+8W9j5W4Nw5mz/vZzT28bavNK91Jqd+1w6mEzGZi+3uM5ziuo8Ffs8+IPGHxps/Ac8cOj65dTiEpezpCsWeclmYKR6YPPatG6/ZA8eNrGsWVjpKaoug3LW01xb3Vv5EjjPyxt5mJG4ztUsfakyTiX8e6zLYJavq2pSW8fyqjXD7VHXhc4qDUvGOtaskcFxrGoXFvExdVlnZwp/EmrOk/DjWvELaktnYvK2jp5t4pdEaFc7ejEE88YGTW5qP7NXjrRZrxLrw5ewyafbwXU6lkLJHMQsRwGydxIAAyfamilsc/f+Ota1S4ha41nUpFhbege4dvLOONuT1HqKWbxfrFzqUd+2q332qIbUkadzIM/wC1nIBrrdW/ZR+IGg+IdG0u68Nzrfa9J5NlGtxDIJJMZ8tirkRv/sOVb2rY1n9kTxTpvh+1Y2izeIJtQlsptPguIpFgCR+YztIG2DA65PHfFSSeW6vqt3q10015cTXU7fekkkLsfz5qsz4zjr0FbWmfDvWtcsb6ezs/tEOmzLBcNHNGdrMcLgbssCeMrke9dR4f/Zp8VSeMJdL1TRNQtWtJlt7tInh8+FmQuoCs6gkqM9elNbgeeRHc/vgj/Cjdk+/evevDv7B3iG/bw/JeT2v2PxJa3M9tFaXdtc3W+NSVVkSUlSehJGB3NeV/E74Q+I/g9rMNj4i017GW8iE9sfNjmSdDxlXjZlPPBAOR3xVPYDmaO30rutS/Zp8daR4Rs9cuPDd9HpuoMiwsGRpcucJuiDeYgY9CygHtml8Ufsw+PfCd7plreeHpxNrT+VaJBPFcl5P7jeWzbHHdXww7gVAHBb19adur2TRv2HPGt5q19p13pf2O/t7L7ZBi4ikguADtK+crGNSD97LDb3xXnvjz4Xa18NfGY0DWNNmtNUwP3KFZvMz93YyEq4PqpOaAOdDL64/CjcK9UtP2MviIviPQ7C80U6WniK5S1tbi4uoVjhdsECc78QnbztkKsewNdN4h/wCCfPi+DQNU/s1v7b13R9Zk0y5tbS4gaHYsZbcr7/v7gRtyScEAZ4oA8ForsvD/AOzp428T6BfalY6BcS2ulM8d28kyRMrJ99UjYh5CuDkIpxTfG3wG8WfD3wpp2vazozabpGrxrLZTSXULGdW6EIHLj8VFAHH0UA5ooAKKKKACiiigAooooAKKKKACiiigAooooAKKKKACiiigAooooAKKKKACiiigAooooAJv9b+VOfrTZv8AW/lTn60ANZd4XjK55+lekfEHx1oPiV/CPhvTby6s/C+i2SRXNy1uXk8+Q77mUR5G7DfKOeVRa83DlXUfWn8zI2F29i+Ov+FAHa/C3VfDfh34iM+rahrltpse9bTVdLJivLSQf6ufZuGeeSoYH0Ne3eKP2lPBniLU9Nt9U8Qa54ivzpF5p+oeK59LEV3N5u3y1Kby8gXbjc5zzXy5DtLKv8Z6ZpVk8w4zQB9M/DX4+fDrwL8NbiCO6uLfUpdBn0trNfDVvI9zcN/y2e8LeaqNgHYvTp0FZ3jT42+BPFXxJi+IH9teKLfWNQuNPa60K3tdltAsMiNKHmLnzY8JlECjk5OMV87udjsvp+tNMqgr833jjPpQB9BftN/Hfwd+1V4ltda1CabwxqGnGbT1Wzsmmt7izUFrdki3KI3z8jgHnhuTmuJ+B/xC8P6LoXiXwx4mur210TxJAq/bLa1FxLazI25HKFl3KeQQDnmvMyd1IEYnGMfWgD22f4i/Dn4feHda0fwr/bV89/pC2k2qXUHkNf3G/cWEW9giDgDnPFdpq/7Xugal4Aglt9Un0zUm0aLR73TE8MWcst2i7d6i/b94sTAdB8wPQV8wNAyD6+lN2Hbnt60AfUXjH9pb4e2HhT7PoEtzMW17TdXisE8N2unpaw27MWhaeNjJM/P3nyPftV2z/ak8E58TaPDrAsdPvvEJ8R2WqXfhO31SRjIq74WimLbHjZQVdSM85I4x8orEzEgdqbnmgD1T4b/Ejw7J8btY1rxXJ/aFvqfnmK/n0mK4FtK33Jms8+W3+5naM1e+P/xj8O+MPif4R1LR7m4vrHQre2t55X0qHTS5jk3MUhiyiqewH414/Gyl1HyktwQxwMUhkjnO1mO6M9PUf/WoA+mPBf7X/h3wh4p8UarJbXN8dU1611G3RohzGisjZz8u4BsgHgkVfb9q3wroHxL0O6TX5tQ8Px3F/dXMNn4RtNJaya4tnhDnySDPIMruycEDjrXyvZtG7PudljPqM81J5ChNysP90jrQB9HfDr9sDQfh98P9L0kf2heX2nau1qLxUKh9FeRpJYwrEkMxkfjJ4VRU2uftFeCPie/izQ9Ru9T8O+H77VLe/wBLu4rL7VMIoQUWF0yCPlxgg8GvmUxty3AXdgVIp2DnigD6G8e/tR+HPFmhWttBDfR/Y/EcF+izLl3tolVQzEEjeducZPWs/wDbJ/aK0P8AajeHVQ15Y6ppchtLe2hjMVpc2vVXK5wsinIPAznNeEEbm+pwKkWNjxV3A9t+Hn7QPh3wongm3uvtv2fT9Hu9J1Oa3tx59sJicPHkgNjuMjIJ5Fby/tB+C/BPw80/wbpN5qWsWOmaRqca6pLY/ZpJbi7ZCsYj3MVRVUgknBJPGDXzeWBY80+I+YqlejHGff0pbsD0P9nz4h6R4Ru/EWl67PdWOn+ItNk0831vD5r2pLqytsBBYHaAQCM16lrf7Q/grSfC02i6bealqkUem2VnHdzWXkNI0Uu9zt3MVXHTJNfNB4P0PPtSmZVdlZtrL1BosgPdPGn7ROg6r4x+JGoW63Ei+JIrVLFXh2rIY3DNv9Old9q37YvhbUNX0/WodVks2urqwfUNLi8KWkc8awOC2b1f3jqMZUck9Divk942Yfd96jVd/TmqLufSvw+/an8NppHi7Qr65/seHVPEP9u2WqT+HLXWQy8qY3hmztcLhldcYNVR+1NoupeOfBup6hfalfLoOs3d7dyy2SW8kiSMSrBIjsUn+6uMZ6mvnRhtJ9uKHGw1mQemfGPx9oPxA+H2i/Zby8XWNNuLpXtZbc7GjllLq/m7uwONuPxrsNS+K3w8+Kem6Dr3iy81mHWdD01dOn0a1sf3WohF2xkXAceXnjOVzxxXghQhc9vWkyA2CccZoA+jPCX7Q3gnRptH8VeZqtlr3h3R59Lg0GK08y1uiyMiN9oL/KuGyQyE5FY/iP476DrfiHVL7zrpVvfBL6AI/LPNydnv93AIzXhqoflPrzQxVxjr9KAPrb4ceM/CvxC/Zv8AEmmalqmoaRbaX4b0+wurqPTxMwkSZjxHuXcuMciuf1L4+/Drx7o2qeELrUPEml6LDJYyWWqrYCSS6+zJtbzIg4xu7cnFfNcZkiUqysysuM5PzY/w4pA6yxc7eg60AfRvi39qvwzrviDRZof7Rit9L8Qx3372LdI8CKqhyQfvkDkD863rj9sDwx4g0iQjVG0G+0q8vJbNz4Ss9Slu45SSpWSXmFuSD7e9fKMW2TdsXdt9BTg28/7vUVXMVzH0hqv7VXh278UzXSy3xhk8AyeHW/cn5rtlUcLwAvX5v/rGr0v7R3gnV/H8epL4h1rSINQ8NWmmXsU2gw6hamWABTDLDIf3kbAZDptKmvmLp/8AWFKF3ShcfMTVXJPWLv4r+FdI/amsfFGi2d5b+HLO7gkZGTMhVAA7IjMdoPJCFjjjmu/ufjn8O/Er21vfa1rmn2/h3XJ9XsZodM3NqCyHdsYb/wB24PGTkV82KcDGV75qPyDIc++KmQHrHwu+NGhaH+0jfeJNUgmj0DWnlju4UTLCJjkZA+8chc4r0bxD+29otz4Z0OeOzurvXodbWXU3Zf8AX2MDH7OoLfxKG4HsOhr5db5Ov/66a8gjYBuC2Me+akD6e8NftHeB/hXLJa6Xq2seILfW9eOuXVxc2BtzpqhG2xqN7F5CzfMy4U7c96zPhX+1V4f8J/BzVvBepWss9j4k1O6a+niiKXFtBIvyPG6kHO7GV7jg186s4ULz97O0etPk3W64bgsMAHvmgD1f9mL4v+Hvgl8RtR/tS3m1DQ7i2kiVoo9pdh80TEdvmxkdq9N1D9uDQ/EN34OvL63nW+huJrnxDM0e43Mm1khI9cKQMV8twQNKOm3nAUHrRcL5b7flLL96gnqe/eFvj/4T0rSfDtw91qC32k2mpWbwJb8OJ8+W6vnjryO1cD8Q/iVY618O/h/psO6a78MRXYuQV+XMk4kCg9ei/r+XnjQIzMBlOc5FI0eIgq8n1I7/AEoKPqzx7+154X8S2P2621K6SLV0tYNU0FPCtjG7pGFDq16MSOny8c555rQu/wBrn4f+FLbSYdLm1DUoV1SS5nit/DtppIs4JIym1TEcyuufvMcn1r5JjfykC/K2O5FL5/8AspQB7jN8R/Avgjwr4g0nQ/EnirWI9YsJUUXlt9nt4ZXfcAke9sHHUk4PpXO+J/jTY3XxB8B61bRvdf8ACL2VtFOjJt3PE24qM8YPrXlsj7z0A+lCNgUAfSF7+0H4G8HHU7jRr3xBrk3inxFbazeR3VmsA02KKUSlQS7ebITlQwwMD8jxj+0X4TN+sel3+pXVm3jf/hIy01mYmWBhk5UH7wbjqScZ9K+cNwo3CgD6x1X9rjwrrFlNNa6wui32m317Pas3hG01KW9SdsjbNN88J7EV5N8e/iV4b+Mt3pVwby4hfRtFitkR7P8A4+bgE7hkHCDnr0ryfcKax+bg/X3oARZGkjXdGkZAxhelFFFABRRRQAUUUUAFFFFABRRRQAUUUUAFFFFABRRRQAUUUUAFFFFABRRRQAUUUUAFFFFABN/rfypz9abN/rfypz9aALnhXTV1fxVplo1rJfG6u4ohbxnDTZYAqPqM19Rftf8AhfQ7X4Z+I/7Pfw7fSaTr8NrDDp1p5M2gQmJyYZm/j3MAM88xtzzXyrZX82lXcd1ayNDdW7CSGRTgxsOQQfYgV6J4n/av8XeMIIVvW0VcXSXtz5GmRR/2hMvCvOQMynBP3vU0ATfsnT2d78Tl0TUPsn2HxTaSaY0k0QfyXdcI4J6HdjkY617Fa/s02Y0nQfh3qluNP1GwtbrxBrUuY4p2QHbFEJG6DGDzwM18vx+JbiPX21JWWO687z0aNAio27cMAdOewrrL79pnxjqnxYfxtdap9o1+aLyJpJIlaKWPaF2FCMFSAMg0tQPWNf8A2UvBPhCHWPEkurX+o+G9Ks7aWSws7qKa6S4mZlEZkX5cKUJz3yKS2+Dfw/8AEPwgltdBs9YbUtW8X2Ok2WqX4ELwrcKOHTuoyAex615fY/tSeKdN8W3WrQPpdsb2Bbeezj0+L7DMg6BoMbTjkg+tQah+074u1Oy1m3mvoZo9au4L2bfbJuilh/1bxHH7phwAVxwKYHq/hz9lvwH8RL+aHQbzxFa2fhvxDa6NqrXwQNdpMXHmxY+6wKN8pzwRXm3gOfwzof7SMM1nperap4fsbhiLWdBcXBRAcyFV4bB+bb6cVJr/AO13418S3FhNPfWcL2Nyt5/o9lHD9qnXO2WbaP3jjPVvU1wPh7xnqvhXxTFrGm3b2WpQytMs0fqTyCOmDk5HSgD6s0zQ9P8AGmr+HdR1xdF8ceGbvUZ4U1PT7YWN3anymYW08YUDjAI6/WuI8Kfs+eCdb1TQLK+HiCG+8e3FxFpLwSRtBp4Visfm92yRzjoK4PVv2s/GWr3WkzfaNOsRo9z9rht7Kxjt7d5SMGR0UYZiODmlsv2tfGWlWt1DbSaXGtzLJIhFjH5ll5mQ5gbGYs5P3fWgD07Tv2PvC97rPg/w+95qP9tapYTapqdy00aW0cERfeqZ/iO0cngAmqGr/s/eFvCvxZ0G80+4bUNCjsZNY1SxN3HdNZrAx+R3TjEjBQP9/FeTQ/HvxNDrWh6gt6q3Xhu3+zWMgjBOw53K/wDfByc5znNXPEH7R3iDxJY6zDImk2f9sWyWkn2GyS2RYlcuUVVAADNgt6kCgD2y4+I95ovwv+G95pumaQ0HifV7xby1l0+GU3KGYARk7d2ADgYIxXYeH9J8P+AfDUdpbaxpvhu3m8aXNoTPo6XpuYsr+53lSVHOM57185eEf2tfF3gv4eWPhyxbR0tdLeSSzuJNOiku7RnPzFJSNyk57UvgX9rbxd4C8MyaTa/2HdW73T3olv8AS4rueOZusiu4JDd6AIP2idD03QPiFr1nHpt3puoW+pylohIv2dYSfk2gc89foa9q0nxC7eKfhd4Mk03TbrQPEOg28d9avZRM58yJi0wcLvDLjdnPavm7xV8StU8aWzDU5I764kuJLmS4eICZ2frl+pHt2rsbf9rrxlaeDLHRYW0i2j0+z/s+K7h0+JL7yMY2GfG/GOOvSgD03wL+xd4Z8V+Abi4vL680/Wn0y81S0We6RFukhZyvlxYLNGVU/OSOT0xU3jH4AeBfGvjbwra2Oj6jpelR+F4NQ1F0vERXbGA8jtwgJ6tjnI4rzHQP2xfHPhnwdFodteWL2kFtLZRzTWaSXSW8md0IlI3bOT8vQVX8O/tX+M/DjaWsN5YSR6TYtpsSz2McvnW5IOyXI+cDsD0oA9w8QfAPwL8CfCviy31g3mt6DcrYXlq9kYpLhBKDwJSMYHPIxmsnwZ+xT4WufHV/b6rfalDpM91bwabdTXMdsiecoKq2Qd8gyPlA59a8zk/ba8fS6zPdTXWj3S3EccMkFxpkUkLJHnYNmMcZ49Kr+H/2zPH3hjVr66t9StLhtQuVu2+1WccywyrjDRhgQhGMcdBQB3uj/smeEl0HXLea+1bVdds7y7tlhsHjSW3jiDbJDE+DKpI5CcjJqTxD+x34b8J/B3z9W1o2/iC40RdXike9iWF3bDLb+T9/OM/MO+a820P9rzxxokWoFbyxkuNRkmm857KNpbVpfvmJyMpnnOPWs26/aP8AFepeAI/Dt5cafe2kcP2dbiayje8jiyCI1mI3BBjpmgDtvg/8PPC/jP8AZy1BbnS5k8SSeILOxhv2mBSISbh9309R34p3xX+AnhB/AviTUPC9xra3fgu8jtb4X4TbdhuN6Afd5B4PavNvCHxh1vwP4V1LR7CW1Fhq0kcs6SQB2jeM5R42PKsD3HvWn8Qv2kfFXxP0BdL1S4tBZ71lla2tlge8cDAaYrzI3uaAPQvhn+zz4R8WfBtdYkuNa1LXJIZZ5bbT2jD2Qj6bomwzqR1Zc4rc8e/BLwDqOqWeoR2WsaXpOjeFrfVNQitGVri8kfhRzwuT1PavJfC/7Tvi/wAF+EG0PT7uzjszG8CStaI11BG/31jlxuUHuM1JpX7UPi3SdQ0+4jurNm02xOmoHtEdbi3zny5gRiVfZulAHpGq/s2eC/DHgrV/Flxca7c6HLpFhqWlWalEuo3uHdNspPGFMfUdc1Y+Kf7IvhX4cfCi9upNckj8QWenw3/767hMd20gUmFIh84wDkMeuDXj/in9ofxV42ttZh1C6gkj1z7PHcIkKpGkcBYxJGo4jVSx4Hr7VN4i/aQ8V+LPA8Ph/UJtPuLOGJLf7Q1mn214k4VGmxuKgAYFAHtX7Lvg7wfe/BzwjqN5ojSa5ceLUszdFg6NHtBKlSOQR2q5r37JXg/4veOPtfh+41bSbebWbq01GK5MYXbGC+YiOFz0weleC+A/2hfE3wz8PJpOk3FmtjHepfok9qkpimXo6lhwfp1qTTP2jfFulzK0Op+Sy6i+pgxwqv71uG/4Cc8r0oA6X9oz4K+GfhTd6Hc6PqjTQagWW5szeRXE1rtbByycfMORXd6H+wppWreLLPTf7VuorfxFfxx6JeEhY57RYPOmlPYkDCDtnOa8K+JnxT1b4u6vDdapHpts0I2rHYWcdtGBnJO1QASTzmtC5+Pvi9Lbwmi6xIP+ELjMOkbQF+yIxJYf7WfftxQB7P4w/ZI8DaXf2t8utX39l2dnc3Wp6fb3UV1eKICFBRl+UB8jr0rL8C+BfhrrHhPxa2n6drl15mmRzWcl9iN7GVpFQjcOJBz94VwN/wDtWeLbrxVZ6zDJpdld2cTRLHaWEUNvMG++JIwMPu7561Vuv2nfFsmt39+s2m7tQs/sDW4so1tYouuEjxtXBAII5BoA9K1L9ljwdcapfeGbS616PxB4fW2lv52kT7PcLIyqwQdRgNwT1rkfid8F/Dtr+0pbeBPDb6tGPtsWnST3siEB2IBcBe3Pesm+/av8bapo9rYyXliot3jZrhLONbi48sgoJHAyyg9jXMeI/iDqvizxvP4lu7ry9buLgXLXFuojKuOhAHTpQB9L6/8AsY+A9K8T6bp667dRyQ6hLaX9vHdwzXE8UcDyGaNR90krja3qKxfCf7Pnwp8daf4PutOm8X283jWe40+2jleLbaSxHaJGI+8pPYdOa8r1z9qTxVrOo6fePJpkd9YmQ+fFYRxyXLSRmNnlIHzsVY8msfw38cfEHhBPDS2NxCq+FZ3udPDwK3lSOcuT/eBPY0Ae9al8E/BfiLR/C/ha4j1a38VSabdrDeWgjW1ZopXAMgxubOOvameIf2IvDvhrwTaxXmv+R4ontYrpJGu4jDI0hA8sRffyB3715dP+2T44uPDj6a11pqxmOWJJlsIxcQpIxZwkuNy5LHpWTd/tMeKrnwbDozXVrJHaqqRXUlqjXiIvIQTEb9oPbNAH0F4Y+CXgfX/h34t8KaImqf25b6rZ2Nxe36RlQ2fmePA3KODxnmqPhz4beB9S0HR9J8Lw6zbzx+MTZ3V1fpDJKdts3zIcHCkgna3SvHtS/bH8car4bfTHuNLgSaSGaW4t7COK5nkj+67yAZZh696fqf7YvjTUzp/77Rof7Ovf7RQQaZHD5lxsZPMcj7xIPfuc0Aemab+yX4H1qHSdPkvNeXxN4j0a71eGcGP7JA0LN8pHU5Ck8dKyU/Zr8EWekX2jzXXiRvE2maCmry3IMf2NnYBtgX720A9e9eb2/wC0z4ssNc0/UIr63+0aPYTabaH7Knywy7twIxyTuPPavSLf9snTdH+BlxottDqV34gutMXSzPdW8GIUB5xKq+Yyj+FWPFAGD8d/gN4Z8CeAINS8PzazqXleUs16GjktZGdckMo+eJgeMMOa8UkDKihh2ya9F1f9qrxdreiWljNLpfl27pJIyWEaNdsnCmYgfvMD1rz7VNQk1bUZrqTaJJ2LsFG1QT6DtQBBRRRQAUUUUAFFFFABRRRQAUUUUAFFFFABRRRQAUUUUAFFFFABRRRQAUUUUAFFFFABRRRQAUUUUAFFFFABRRRQAUUUUAFFFFABN/rfypz9aafnm79PSnOVeTarEt6Y60ANopxjI9OuMZ5/Kmupzjj86ADNFEUTEbvlwfelcbD3/KgBMZoxil2N6H60jDYpJ/hoAKKbI+wkDaxXkgHoKdH+96UAFFCbmZlwNy+h3UoX59vfvQAlFGCWxtNBOOvFABRQFyM9qByM9s45oK5XuKHwKUPQsRJ9OM801DvHy8/SgkkopsYLdKPmY8fXr0oDYHGGptPcdu9Iqc0JoA2GjZTlO788VI8PlqcleDjg1XNEfKyueKKdLGyJvwdpJ5Az0601mCjOfl6g1Wj2FsFFOWMkdhzjGaYJFJHP3unvUsBQMmpKaq4NKoxUgMoHWnbKAnNUotgO2Y5xTXfcacysBURckn5SSvX2pNWDQWigckDuegoxzSAFODTi9NBycUOpjAz/ABUABOaKMZzjnaeaFO5N3GPrQtdg23CijrRQAUA4NHQ0YquVgOL02gjFOCbqJJJDsxtFO8v5sUjLsPb8DmpEJRRRQAUUUUAFFFFABRRRQAUUUUAFFFFABRRRQAUUUUAFFFFABRRRQAUUUUAFFFFABRRRQAUUUUAFFFFABRRRQAUUUUAFFFFAHon7Onw+0Pxjruval4kt57zRfC+nHUJLSCXypLxshVjDYO0Enk46V2PiX4Bx/FrU/DsfhfwbrHhCfVI5pbqO8ka4s0hjwxnSXAJAUjK4JzwOtee/Br4sN8KdcvJpNNh1bTNVtWsdQs3cx+dC2D8rD7rAgEGvT9D/AG4ovAF3otn4d0PULPQ9OjuoriG41Jpbq4W4AVwsoA8vG1duOhFAGWP2JtTgv71m8SeHbbRrLSBrK6rIJo7eWDz1gOFKbwwkbG0gE4OM1L8PP2Yv+EV+Ocmm+KvK1jwzpGmDW7q7sJSqXdo6AxFGxkb96DBAIyc1U8UftP2eqaP4ksbHSdaNvr2irpSPqOrSXskLC5jn35boP3eNo9c9a0Lr9t/VdF8PNH4Zs20PWpdOsNLlvTsuA0FtFtKbHUj5nAbkdhQA2X9nnSdDPxYhu7e6VfDdpFe6RJI5U+U8i7GI/iBQjr60fsq/C7w/468Capft4dl8d+IbW6WP+x4r/wCwyw22PmlQBSZD7Dge9Q+Mv2zb/wAfeFtUi1aw+1a3rWjxaVeX42x+d5cm5X2qAPugLjHauV+EXxb8O+ENFWz17wzcalJa3Qu7W7sL02dxGe6M4BLKf0oA6jx3+zf4Uh+HF74k0nxN/Z902vHS4NH1K3lhuIPlQ7JG27AV3ZLZxjHfIqnffsZ+ILvVdBg0XVtJ11dblmg+0wCSKK2aGMSzeZ5iqdqRkOWGQR0Oava/+2DF4q1W+v8AUfDsM1xJ4gi161QTfu42REQxuD94FUHPXPNbGo/t0WljqGiSaT4cv1i03UL27uhqOqPdteRXdukE0PP3F2hsY6ZzQFzL8E/slLf6hqtvY6lpfjJrjR5LnSZtImcg3K3Ece10YBgRuPDAAg56VyvhT4QWdl+0Ro/hXVLyy1W3a8hgvRZyMEVj9+MPgcjkErkZHFbvhH9q7Tfg3rN1ffD/AMNTeG7q402Wy+1SXpuJ2eSVHLsSMYCrtAA6GubvfjZZT/HKw8bW+jxWTRTxXl3YwHbDNOP9YV/uqxycds0CujufG/wy8J/Ev/hJLXwj4dvtC8QeH7+OzSAXxuoNQSSTy1PzKCrBvcg+1YOt/sca5ai3h03WtB1y+W8XT9Qt7WdhJpkzZ4kLADAwcsuRwau67+1NpmjXM1x4J8Nvol1f6pHqt7cXdz9okmZG3iMcAKma07n9sTTtH1Q6h4f8Ix6fqOpaiNS1eSa7My3eAwMSDHyodze/NAzDH7Ht/qXiKxtNJ8UeGtatblplubu1lfbZvCN0gdCoc7Qc/Kp3ds1xPxT+FMvw08ZLpceo2OvfaIlkgnsNxWUMAduxgHVx0KkAg12i/HjwXpXi6zvtL8CzWNupme4k/tWT7aHkGAYpVxs2fw8dzmsX47/Hz/hbfjrTdYsLB9HfSrKG0imM3mXUzRjHnSSADLt3PXigDK+DHw+j8YfFbT9D1i1mt4rgnzElzC6/KSOoyOneux8K/sv2eo6+jXPiXTF0e8guJbW4hV5MvFndGRtzuH5Vzfwa8aY+L9nrGv62Y/LVy13ftJcE5UqASMt3r1jwnq3g/QtJ0q1k8daLMuny3JcCyuBvWbqAccYr6PKcLQrUl7azfm0v1PnswxGIhUfsnK3km/0OJuf2YrXVdM8NvpfizTp7rWYbi4lLxyJHGkWckHbnoOnrWLbfs4X+p6lZra6tpE2lXltJdDUFLmEJG21wVxvLBuMAc16lo/jfwT4Rl0NP7estWi0mC+gPkLLCTFIpYBtw6ljjIqPTrz4f3K6LDH4x07T9L021kVLZPtQuklkbe0glUdQTjHTFdssrwknZJf8AgR5yzfExdmpeV4/8A8J8QeBR4X1C7jbVtOuJIAn2dYWYm6Dg8qMcYwMhsEZ6V2T+BND0uKRbi1nZtL0pZL1lcjfeS/6tPbG4cd9prvvEmm/DXxD47XWLzxdpLNG1uEK20+50jHzeZ8oDM5AJP1rB8aR+GbzwTepD8RNNuL66v31C4AsJlNwwGI4wewHPX1rhnlkIXa5X5cy/zO2nmVStZSuu/uv/ACOXn/Zu1CDSbiRda0e41Kzgjnn02N3NxGJMbQeMZ5GeasL+y5rb3FrCt5p/2iSZbe4jO9fsTMNw3krgjA6rmuy0r4k+F7Xw9eahJd2NprusQQQNOl082xkI+ZotuV6c8muh1Hxp4Lvdfs9U/wCFhL9uEgmuYpHu5LYttx8qEYHXPtXdHKMJa915e8jk/tHGKzs0uujPHtZ/Z/vNNl0/brWjXVlqUstv9riZhHC8Zw6tkZyO2Bz2q5dfAS80KbVIXks9QVdJOoW1wryRq4DopYAruyCSMMAP0r03wP4i8GeGbCxtZvHej3EUF1dTzbLW4R2Ewx8rYyrL2NT+Idc8C6nD5Np4602G3XR30oC4iuZ5H3SrJvZiMn7uMe9VTyeg1zTa3/mX+ZX9q4h6JS+cX/keVxfs6No/iPR7PVPEGkxi8mSC6VTI0lvvGQMbfm69VJAqM/AWPWPGerabYa9pcjWU5hg3CTdct2G0LkfVsDNeq6tq3gG50Ozs7XxvpcfkXcV2fPiuZhDs/giLDKqfTNXdD8TfDbRLu6kj8YWK77/+0IBCLmHDkYKuQPnXuAaKmUYeXuvlS78y8vMzjmmMUbtSvf8Ale33Hh8fwDv5NLWa+vtN0++kRza2VxKVluFQ/MVPQZxxkjNXviX8DD4I0NdYSRLHT2ghWBJnLPdSsMvs46A9+nNemazJ8OfFtkv9seL9FvryzEqWb/Z7lY1VySN6gfNtzxzT/E+t+D/HHhxdH1jx/o11ptrHEtmq2VwHtNoAYKcdGx0rL+ycMoSV1fp7y8/MtZni3OLaduvuv/I8e+GXwXuvilYSSWupWNtcNJ5MNvKHaSaT+78qkL9WwK0tI+A11r+j6aWutN0sR2Nzc3FzNK7CUQzNGxKheDxwBnPt0r1z4X+I/h38OLW0hXxfp80Wm6kdRtVjW6i35AGyUgfOOOM+pqlB428FaKJBceItN1uFtNvrd4o4pYSxmn80Abh15xx6U6WS0/Z+9Jc3qXUzau5PljK3+F/5Hn2m/A630zw74iuLqa31JY9PS5029gZlhbMgUsQQDxyMEVnWn7PV3qDae1vrGlzR304t2kxIqwORu5JUZGB1XNeqTeJvBdjpctjp/jTQrOxNilnBbyWlxIyASB23tjnJ9K07r4heAlFu1v40sUmjulupDPHczKWCldqAj5V56Cj+yIRs7q9tfeVr6+foRHOK8m7xe/8AK9tPI8d1T9nDVIb/AE2PTdR0vWLfUnkjFzbuRHC0f3924A8D0FXrX9mqKwlvH1jxJp9law6VNfWkyQy7blkIB42ZGCSDkA+nFd14N8VeE/ClhY2qfEDRWjt7m5klK2lxG0kc33lVgMqR2I6U6/ufh3e+Jri4bx9bz2Nxps9gy3bXdxN+8KtuDMMLgr2oqZfheX3bc119pLTyLnmGJck/eS/wv/I8O8DfDSbx99uuV1CzsNL0tVNzf3RbyogxwvCgkkkHgCtrTvgDdXV5dLJrGj2tpG6w29y0xMV47DKqmATyMdcYzzXovgnTPh34X0/UdLm8caTeaHq8Ma3dusFwshlQkiRGx8vJPFaFhF8M4rKSxfxPov8AZ0Nyt3ZxRQ3KtbuABy2DuBwM1hSymlu3H/wJf5lVs4qyv7OMl/26/wDI8x0f9mvULq5W3vtW0nSbyW5e0hgunbdNIozgEAjBz1JxVLxT8C77w/Bp8lve6frMN9e/2ezWjEiC4B5jOQPzGRXqOsaj4b13xNp+pXXxE0PfY3z3pVLG4AcMANvTsAKveH7/AMBWeiTWd34+0qRkv5dRtXSznHlyuu1cjHQZPSuj+y8PKFlZO38y3+8n+1MSnd3tf+V7fceaar8D4dT1W+ngvdP0XS9PnXTluryVmWe52jKDAJHfnoKoaN+zzqGoBVn1TRrG6u7iS2sbeSYs1+6HB8sgEYz3JANejeFNJ8A2PhSbRdc8d6Pq9i14L+MJb3MLrLjBy2DlWGAa1vDl98ONHjsZJvFehNdaHcyXGleVBcrHAHYsEcEfMFbkflWccpo7vl/8CW+nmV/alVveW/8AK/8AL7zzHSP2Y77U4YVk1zQ7PUJ4pJlsriRll2xkh8nG3jBPXmo7f9nK4vbpnh8QaG+lrZm9OoBn8naDtIxt3ZB9q9Cn1PwrPrllqEnxD0Hzre1nglxYXA81pSxLdO2elL4f8TeDfCfhNdKuPEWm69bLpctq32dZbdnLOCPvDr/hVxyui+y/7eX+ZLzWuls//AX/AJHmp+AF1DdXEk2saTDosECT/wBql2Nu6vwuABuyT2xVuy/ZpvgL+S/1zRdLtbGSKPz5ndkmEoyjJtByDx9M816adU8AXSS6XceLtH/4R2azit0shb3AnhZOQ2/HJ5OareLda8H+INI1DT28d6Hawz3NtLbBbK4Y28cIwFzjkn1raWV4W11b/wACX+ZnHN8U780ZLt7r/wAjzrSv2X9cv9S1C3urqx09rO5NnEZd7rdy4yFQqDwRg5OBzS2/7MWqSaZbyS6to9vf3UM08NhJK3nSCJiH7Y7HvzXsF38QfBes/wBppefEK3jhuLo3lqLP7VamNigUq5X7ynAPqKxYdc8JW2q6Ld/8LD0MnR7We2+ayuWaTzcnJbGTjPfrWUsrw9teV/8Aby/zKjm2KcvtJf4H/kcPrP7OMLReHbfS9es7mbVLJr27aRJFW0Vep+7830GTXn/jvwg3grWvsbXlpfDYHWW3PysD7HBB9iM179a33gG5h0Rbzxzpss2lWj25lt4bmBiCchlIHBH615b+014g0jxD42t59I1Kw1O3W2WLzbeJ1dsd5CwG5veuTMcto06blTcV6NP9TswGPxE6kYVbtW1urfoec0UZxTXOK+bPoh1FNy1GWoAdRTQWo3E9qAHUUUUAFFFFABRRuo3UAFFFFABRRRQAUUUUAFFG6m7f9qgB2aKjPBp4egBaKAc0E4FABRtb0/Wm76N9ADtren60bW9P1pu+jfQA7aw//XRTd9LuFAC0Um4UbhQAuKMH0pNwpD+H5UAOwfQ0YPoab+P6UfiPyoAlgkYDBXbUpjyud6/iahH+sP0pX+7QApSTtz9KaEmLfdanp96h/vUAKLeTHSgI/wDd/Smt9w1Wb/WUAWzbSH+GlNnIB939KjT7tKelBEtxrwSHgrTTa7RVW860d1oEXFbAqaKUEf8A1qz+1TRfcoNCw3I4/lUZbHXH5VHL9ymwUASFkJqT7V5a4XGO9OTrUj9KOVPcpMqGT5mJ3HcPwpkUCj7qjgY4q1N9yoZfuCtIwSMVeTB4w3LAn6mm+Zxt+6AOKsWX3DTJPv8A41nUiaxh2Ejj8zny1bnI9qlG7n93jd70fw0rfcNbRV4WY+XXVkDCRG/xpyS5+8y0p602Tp+Nc7buD0JGkUjhqaX461COjUR1pFNq5XMyQn/aowD93dTG6U6L7y1JG7F2tn70n5UFW9X/ACqamy/crHmd7D9nbUhjgAbOC2Rk7qcVVxzHToOpoHWrTfcOZjjbxMMbcH60C0C//rqQffp09bWVirvchKbelMO7P3Wx9alPWnD7v4UvZoLtkJuPl45/GnRzMvQj/P4Uj/epB1qnTRGg6SRiP4fyqIyNn/61WH+9TF6ms+TUrmIX3etCsyj736VJPUdHLYdxfOkz97mm+c7t8xz+FSJ92mp96pYAEyerflSqmw/eJqYdKkqgb0Krnav3m/Dg03a0g+brnrVi4/1VU4v9dTRnvqSfZ2agWzVN/wAs6jfpQ9wG/Z2o8hqKKQB5DUeSwoooAXaRSZqSigCPNGN1SUUAR/Z2pBan+9/Onx06gCP7N7/oaPL8v3/A0UUAGf8AZ/SjP+z+lFFABn/Z/Sl2Fh92kpydKADyG/u/rR5Df3P1qYdakPSgCr5OP4f1oCbR0FTVFL/WgBQp/uijb/sio6KAHmP/AGRSbW/urTaKAHbW/urRtb+6tNooAdtb+6Kdtf8Au1HRQBJtf+7Rtf8Au1HRQBIVcfw03DH+Gm0UAP2N6D8qCrD+EUyigD//2Q==)"
      ],
      "metadata": {
        "id": "bU0AKi9jMXnY"
      }
    },
    {
      "cell_type": "code",
      "source": [
        "!mkdir /content/files2 -p\n",
        "!wget https://github.com/ShreehariVaasishta/genaistack-aip/releases/bankruptcy_events.pdf -o /content/files2/bankruptcy_events.pdf\n",
        "!wget https://github.com/ShreehariVaasishta/genaistack-aip/releases/broadcast_technicians.pdf -o /content/files2/broadcast_technicians.pdf"
      ],
      "metadata": {
        "id": "Fl7nzcx6MbIW"
      },
      "execution_count": null,
      "outputs": []
    },
    {
      "cell_type": "code",
      "source": [
        "OPENAI_API_KEY=\"sk-IA4Q2r03gRDdHybqXGXBT3BlbkFJdXjDkgQRQl0kcn8Ibi\"\n",
        "TARGET_FILES_DIR=\"/content/files2/\"\n",
        "#load_dotenv()\n",
        "#OPENAI_API_KEY=os.getenv(\"OPENAI_API_KEY\")temporarily"
      ],
      "metadata": {
        "id": "lm3BY79mOmBr"
      },
      "execution_count": null,
      "outputs": []
    },
    {
      "cell_type": "code",
      "source": [
        "!pip install sentence_transformers\n",
        "!pip install langchain==0.0.174 -i https://pypi.doubanio.com/simple/ --trusted-host pypi.doubanio.com"
      ],
      "metadata": {
        "colab": {
          "base_uri": "https://localhost:8080/"
        },
        "id": "AfhRhF1cYpe5",
        "outputId": "280ed762-ce67-4295-e37d-93ace918f713"
      },
      "execution_count": null,
      "outputs": [
        {
          "output_type": "stream",
          "name": "stdout",
          "text": [
            "Requirement already satisfied: sentence_transformers in /usr/local/lib/python3.10/dist-packages (2.2.2)\n",
            "Requirement already satisfied: transformers<5.0.0,>=4.6.0 in /usr/local/lib/python3.10/dist-packages (from sentence_transformers) (4.34.1)\n",
            "Requirement already satisfied: tqdm in /usr/local/lib/python3.10/dist-packages (from sentence_transformers) (4.66.1)\n",
            "Requirement already satisfied: torch>=1.6.0 in /usr/local/lib/python3.10/dist-packages (from sentence_transformers) (2.1.0+cu118)\n",
            "Requirement already satisfied: torchvision in /usr/local/lib/python3.10/dist-packages (from sentence_transformers) (0.16.0+cu118)\n",
            "Requirement already satisfied: numpy in /usr/local/lib/python3.10/dist-packages (from sentence_transformers) (1.23.5)\n",
            "Requirement already satisfied: scikit-learn in /usr/local/lib/python3.10/dist-packages (from sentence_transformers) (1.2.2)\n",
            "Requirement already satisfied: scipy in /usr/local/lib/python3.10/dist-packages (from sentence_transformers) (1.11.3)\n",
            "Requirement already satisfied: nltk in /usr/local/lib/python3.10/dist-packages (from sentence_transformers) (3.8.1)\n",
            "Requirement already satisfied: sentencepiece in /usr/local/lib/python3.10/dist-packages (from sentence_transformers) (0.1.99)\n",
            "Requirement already satisfied: huggingface-hub>=0.4.0 in /usr/local/lib/python3.10/dist-packages (from sentence_transformers) (0.17.3)\n",
            "Requirement already satisfied: filelock in /usr/local/lib/python3.10/dist-packages (from huggingface-hub>=0.4.0->sentence_transformers) (3.12.4)\n",
            "Requirement already satisfied: fsspec in /usr/local/lib/python3.10/dist-packages (from huggingface-hub>=0.4.0->sentence_transformers) (2023.6.0)\n",
            "Requirement already satisfied: requests in /usr/local/lib/python3.10/dist-packages (from huggingface-hub>=0.4.0->sentence_transformers) (2.31.0)\n",
            "Requirement already satisfied: pyyaml>=5.1 in /usr/local/lib/python3.10/dist-packages (from huggingface-hub>=0.4.0->sentence_transformers) (6.0.1)\n",
            "Requirement already satisfied: typing-extensions>=3.7.4.3 in /usr/local/lib/python3.10/dist-packages (from huggingface-hub>=0.4.0->sentence_transformers) (4.5.0)\n",
            "Requirement already satisfied: packaging>=20.9 in /usr/local/lib/python3.10/dist-packages (from huggingface-hub>=0.4.0->sentence_transformers) (23.2)\n",
            "Requirement already satisfied: sympy in /usr/local/lib/python3.10/dist-packages (from torch>=1.6.0->sentence_transformers) (1.12)\n",
            "Requirement already satisfied: networkx in /usr/local/lib/python3.10/dist-packages (from torch>=1.6.0->sentence_transformers) (3.2)\n",
            "Requirement already satisfied: jinja2 in /usr/local/lib/python3.10/dist-packages (from torch>=1.6.0->sentence_transformers) (3.1.2)\n",
            "Requirement already satisfied: triton==2.1.0 in /usr/local/lib/python3.10/dist-packages (from torch>=1.6.0->sentence_transformers) (2.1.0)\n",
            "Requirement already satisfied: regex!=2019.12.17 in /usr/local/lib/python3.10/dist-packages (from transformers<5.0.0,>=4.6.0->sentence_transformers) (2023.6.3)\n",
            "Requirement already satisfied: tokenizers<0.15,>=0.14 in /usr/local/lib/python3.10/dist-packages (from transformers<5.0.0,>=4.6.0->sentence_transformers) (0.14.1)\n",
            "Requirement already satisfied: safetensors>=0.3.1 in /usr/local/lib/python3.10/dist-packages (from transformers<5.0.0,>=4.6.0->sentence_transformers) (0.4.0)\n",
            "Requirement already satisfied: click in /usr/local/lib/python3.10/dist-packages (from nltk->sentence_transformers) (8.1.7)\n",
            "Requirement already satisfied: joblib in /usr/local/lib/python3.10/dist-packages (from nltk->sentence_transformers) (1.3.2)\n",
            "Requirement already satisfied: threadpoolctl>=2.0.0 in /usr/local/lib/python3.10/dist-packages (from scikit-learn->sentence_transformers) (3.2.0)\n",
            "Requirement already satisfied: pillow!=8.3.*,>=5.3.0 in /usr/local/lib/python3.10/dist-packages (from torchvision->sentence_transformers) (9.4.0)\n",
            "Requirement already satisfied: MarkupSafe>=2.0 in /usr/local/lib/python3.10/dist-packages (from jinja2->torch>=1.6.0->sentence_transformers) (2.1.3)\n",
            "Requirement already satisfied: charset-normalizer<4,>=2 in /usr/local/lib/python3.10/dist-packages (from requests->huggingface-hub>=0.4.0->sentence_transformers) (3.3.1)\n",
            "Requirement already satisfied: idna<4,>=2.5 in /usr/local/lib/python3.10/dist-packages (from requests->huggingface-hub>=0.4.0->sentence_transformers) (3.4)\n",
            "Requirement already satisfied: urllib3<3,>=1.21.1 in /usr/local/lib/python3.10/dist-packages (from requests->huggingface-hub>=0.4.0->sentence_transformers) (1.26.18)\n",
            "Requirement already satisfied: certifi>=2017.4.17 in /usr/local/lib/python3.10/dist-packages (from requests->huggingface-hub>=0.4.0->sentence_transformers) (2023.7.22)\n",
            "Requirement already satisfied: mpmath>=0.19 in /usr/local/lib/python3.10/dist-packages (from sympy->torch>=1.6.0->sentence_transformers) (1.3.0)\n",
            "Looking in indexes: https://pypi.doubanio.com/simple/\n",
            "Requirement already satisfied: langchain==0.0.174 in /usr/local/lib/python3.10/dist-packages (0.0.174)\n",
            "Requirement already satisfied: PyYAML>=5.4.1 in /usr/local/lib/python3.10/dist-packages (from langchain==0.0.174) (6.0.1)\n",
            "Requirement already satisfied: SQLAlchemy<3,>=1.4 in /usr/local/lib/python3.10/dist-packages (from langchain==0.0.174) (2.0.22)\n",
            "Requirement already satisfied: aiohttp<4.0.0,>=3.8.3 in /usr/local/lib/python3.10/dist-packages (from langchain==0.0.174) (3.8.6)\n",
            "Requirement already satisfied: async-timeout<5.0.0,>=4.0.0 in /usr/local/lib/python3.10/dist-packages (from langchain==0.0.174) (4.0.3)\n",
            "Requirement already satisfied: dataclasses-json<0.6.0,>=0.5.7 in /usr/local/lib/python3.10/dist-packages (from langchain==0.0.174) (0.5.14)\n",
            "Requirement already satisfied: numexpr<3.0.0,>=2.8.4 in /usr/local/lib/python3.10/dist-packages (from langchain==0.0.174) (2.8.7)\n",
            "Requirement already satisfied: numpy<2,>=1 in /usr/local/lib/python3.10/dist-packages (from langchain==0.0.174) (1.23.5)\n",
            "Requirement already satisfied: openapi-schema-pydantic<2.0,>=1.2 in /usr/local/lib/python3.10/dist-packages (from langchain==0.0.174) (1.2.4)\n",
            "Requirement already satisfied: pydantic<2,>=1 in /usr/local/lib/python3.10/dist-packages (from langchain==0.0.174) (1.10.13)\n",
            "Requirement already satisfied: requests<3,>=2 in /usr/local/lib/python3.10/dist-packages (from langchain==0.0.174) (2.31.0)\n",
            "Requirement already satisfied: tenacity<9.0.0,>=8.1.0 in /usr/local/lib/python3.10/dist-packages (from langchain==0.0.174) (8.2.3)\n",
            "Requirement already satisfied: attrs>=17.3.0 in /usr/local/lib/python3.10/dist-packages (from aiohttp<4.0.0,>=3.8.3->langchain==0.0.174) (23.1.0)\n",
            "Requirement already satisfied: charset-normalizer<4.0,>=2.0 in /usr/local/lib/python3.10/dist-packages (from aiohttp<4.0.0,>=3.8.3->langchain==0.0.174) (3.3.1)\n",
            "Requirement already satisfied: multidict<7.0,>=4.5 in /usr/local/lib/python3.10/dist-packages (from aiohttp<4.0.0,>=3.8.3->langchain==0.0.174) (6.0.4)\n",
            "Requirement already satisfied: yarl<2.0,>=1.0 in /usr/local/lib/python3.10/dist-packages (from aiohttp<4.0.0,>=3.8.3->langchain==0.0.174) (1.9.2)\n",
            "Requirement already satisfied: frozenlist>=1.1.1 in /usr/local/lib/python3.10/dist-packages (from aiohttp<4.0.0,>=3.8.3->langchain==0.0.174) (1.4.0)\n",
            "Requirement already satisfied: aiosignal>=1.1.2 in /usr/local/lib/python3.10/dist-packages (from aiohttp<4.0.0,>=3.8.3->langchain==0.0.174) (1.3.1)\n",
            "Requirement already satisfied: marshmallow<4.0.0,>=3.18.0 in /usr/local/lib/python3.10/dist-packages (from dataclasses-json<0.6.0,>=0.5.7->langchain==0.0.174) (3.20.1)\n",
            "Requirement already satisfied: typing-inspect<1,>=0.4.0 in /usr/local/lib/python3.10/dist-packages (from dataclasses-json<0.6.0,>=0.5.7->langchain==0.0.174) (0.9.0)\n",
            "Requirement already satisfied: typing-extensions>=4.2.0 in /usr/local/lib/python3.10/dist-packages (from pydantic<2,>=1->langchain==0.0.174) (4.5.0)\n",
            "Requirement already satisfied: idna<4,>=2.5 in /usr/local/lib/python3.10/dist-packages (from requests<3,>=2->langchain==0.0.174) (3.4)\n",
            "Requirement already satisfied: urllib3<3,>=1.21.1 in /usr/local/lib/python3.10/dist-packages (from requests<3,>=2->langchain==0.0.174) (1.26.18)\n",
            "Requirement already satisfied: certifi>=2017.4.17 in /usr/local/lib/python3.10/dist-packages (from requests<3,>=2->langchain==0.0.174) (2023.7.22)\n",
            "Requirement already satisfied: greenlet!=0.4.17 in /usr/local/lib/python3.10/dist-packages (from SQLAlchemy<3,>=1.4->langchain==0.0.174) (3.0.0)\n",
            "Requirement already satisfied: packaging>=17.0 in /usr/local/lib/python3.10/dist-packages (from marshmallow<4.0.0,>=3.18.0->dataclasses-json<0.6.0,>=0.5.7->langchain==0.0.174) (23.2)\n",
            "Requirement already satisfied: mypy-extensions>=0.3.0 in /usr/local/lib/python3.10/dist-packages (from typing-inspect<1,>=0.4.0->dataclasses-json<0.6.0,>=0.5.7->langchain==0.0.174) (1.0.0)\n"
          ]
        }
      ]
    },
    {
      "cell_type": "code",
      "source": [
        "from backcall.backcall import Parameter\n",
        "from pydantic import fields\n",
        "\n",
        "config = {\n",
        "    \"model_name\": \"sentence-transformers/all-mpnet-base-v2\",\n",
        "    \"model_kwargs\": {\"device\": \"cpu\"},\n",
        "    \"encode_kwargs\": {\"normalize_embeddings\": False},\n",
        "}\n",
        "embedding = LCEmbedding.from_kwargs(name=\"HuggingFaceEmbeddings\", fields=config)\n",
        "'''\n",
        "embedding=LCEmbedding.from_kwargs(\n",
        "    name=\"HuggingFaceEmbeddings\",\n",
        "    fields={\n",
        "        \"model_name\":\"sentence-transformers/all-mpnet-base-v2\",\n",
        "        \"model_kwargs\":{\"device\":\"cpu\"},\n",
        "        \"encode_kwaigs\":{\"normalize_embeddings\":False},\n",
        "    },\n",
        ")\n",
        "'''\n",
        "print(\">>> Embedding Configured\")\n",
        "\n",
        "chromadb=ChromaDB.from_kwargs()\n",
        "print(\">>> VectorDB Configured\")\n",
        "\n",
        "'''\n",
        "etl = LCETL.from_kwargs(name=\"PyPDFLoader\", fields={\"file_path\": TARGET_FILES_DIR})\n",
        "'''\n",
        "\n",
        "etl=LCETL.from_kwargs(\n",
        "    name=\"DirectoryLoader\",\n",
        "    fields={\n",
        "        \"path\":TARGET_FILES_DIR,\n",
        "        \"glob\":\"**/*.pdf\",\n",
        "        \"use_multithreading\":True,\n",
        "        \"show_progress\":True,\n",
        "    },\n",
        ")\n",
        "\n",
        "print(\">>> ETL Configured\")\n",
        "llm=OpenAIGpt35Model.from_kwargs(\n",
        "    parameters={\n",
        "        \"openai_api_key\":OPENAI_API_KEY,\n",
        "    }\n",
        ")\n",
        "print(\">>> LLM Configured\")\n",
        "prompt_engine=PromptEngine.from_kwargs(should_validate=False)\n",
        "print(\">>> Prompt engine ETL Configured\")\n",
        "retriever=LangChainRetriever.from_kwargs()\n",
        "print(\">>> Retriever Configured\")\n",
        "\n",
        "memory=ConversationBufferMemory.from_kwargs()\n",
        "print(\">>> Memory Configured\")\n",
        "\n",
        "\n"
      ],
      "metadata": {
        "colab": {
          "base_uri": "https://localhost:8080/"
        },
        "id": "AmRp07cSPoIi",
        "outputId": "4d48424e-6142-4448-8d61-856b96b7d6ac"
      },
      "execution_count": null,
      "outputs": [
        {
          "output_type": "stream",
          "name": "stdout",
          "text": [
            ">>> Embedding Configured\n",
            ">>> VectorDB Configured\n",
            ">>> ETL Configured\n",
            ">>> LLM Configured\n",
            ">>> Prompt engine ETL Configured\n",
            ">>> Retriever Configured\n",
            ">>> Memory Configured\n"
          ]
        }
      ]
    },
    {
      "cell_type": "code",
      "source": [
        "os.listdir(TARGET_FILES_DIR)"
      ],
      "metadata": {
        "colab": {
          "base_uri": "https://localhost:8080/"
        },
        "id": "ECoDnuRZWNkj",
        "outputId": "2b47ab75-d02c-42b0-bcde-bde9c717e681"
      },
      "execution_count": null,
      "outputs": [
        {
          "output_type": "execute_result",
          "data": {
            "text/plain": [
              "['broadcast_technicians.pdf', 'bankruptcy_events.pdf']"
            ]
          },
          "metadata": {},
          "execution_count": 47
        }
      ]
    },
    {
      "cell_type": "code",
      "source": [
        "Stack(\n",
        "    etl=etl,\n",
        "    embedding=embedding,\n",
        "    vectordb=chromadb,\n",
        "    model=llm,\n",
        "    prompt_engine=prompt_engine,\n",
        "    retriever=retriever,\n",
        "    memory=memory,\n",
        ")"
      ],
      "metadata": {
        "colab": {
          "base_uri": "https://localhost:8080/"
        },
        "id": "Wl8Hb9gAWba3",
        "outputId": "80932714-65f7-4a3d-cf2c-3069551fa750"
      },
      "execution_count": null,
      "outputs": [
        {
          "output_type": "stream",
          "name": "stderr",
          "text": [
            "100%|██████████| 2/2 [00:00<00:00, 84.84it/s]\n"
          ]
        },
        {
          "output_type": "execute_result",
          "data": {
            "text/plain": [
              "<genai_stack.stack.stack.Stack at 0x783cf3db2590>"
            ]
          },
          "metadata": {},
          "execution_count": 51
        }
      ]
    },
    {
      "cell_type": "code",
      "source": [
        "while True:\n",
        "  question=input(\"Enter your query:\")\n",
        "\n",
        "  if question.strip()==\"quit\":\n",
        "    print(\"Stopping...\")\n",
        "    break\n",
        "\n",
        "  response=retriever.retrieve(question)\n",
        "  print(\"Response: \",response.get(\"Output\"), end=\"\\n\\n\")\n"
      ],
      "metadata": {
        "colab": {
          "base_uri": "https://localhost:8080/"
        },
        "id": "GMnWjQ-Yd6iR",
        "outputId": "148c7b04-9bbc-4e08-fc1a-4e0617ec1f8c"
      },
      "execution_count": null,
      "outputs": [
        {
          "output_type": "stream",
          "name": "stdout",
          "text": [
            "Enter your query:Tasks of a Brodcast\n",
            "Response:  None\n",
            "\n",
            "Enter your query:quit\n",
            "Stopping...\n"
          ]
        }
      ]
    }
  ]
}