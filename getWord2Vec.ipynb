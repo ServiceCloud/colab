{
  "nbformat": 4,
  "nbformat_minor": 0,
  "metadata": {
    "colab": {
      "provenance": [],
      "authorship_tag": "ABX9TyOSOIq+U1wrMYyZEokyeEna",
      "include_colab_link": true
    },
    "kernelspec": {
      "name": "python3",
      "display_name": "Python 3"
    },
    "language_info": {
      "name": "python"
    }
  },
  "cells": [
    {
      "cell_type": "markdown",
      "metadata": {
        "id": "view-in-github",
        "colab_type": "text"
      },
      "source": [
        "<a href=\"https://colab.research.google.com/github/ServiceCloud/colab/blob/main/getWord2Vec.ipynb\" target=\"_parent\"><img src=\"https://colab.research.google.com/assets/colab-badge.svg\" alt=\"Open In Colab\"/></a>"
      ]
    },
    {
      "cell_type": "markdown",
      "source": [
        "如果您想使用Google的Word2Vec模型來獲取詞向量，您首先需要下載該模型。Google已公開了其訓練的Word2Vec模型，該模型基於Google News數據集的大約1000億個詞訓練而成。\n",
        "\n",
        "以下是一個基本的步驟來使用Word2Vec模型查詢詞向量：\n",
        "\n",
        "1.下載預訓練的Word2Vec模型:\n",
        "您可以從多個網站下載Google的預訓練Word2Vec模型。模型的大小通常在1.5GB左右。\n",
        "\n",
        "2.使用Gensim載入模型:\n",
        "Gensim是一個在Python中處理大型文本資料的工具。它有一個方便的API，可以讓您載入和使用Word2Vec模型。"
      ],
      "metadata": {
        "id": "yH5tDzIcw5aO"
      }
    },
    {
      "cell_type": "code",
      "source": [
        "from gensim.models import KeyedVectors\n",
        "# 載入模型\n",
        "model = KeyedVectors.load_word2vec_format('path_to/GoogleNews-vectors-negative300.bin', binary=True)\n"
      ],
      "metadata": {
        "id": "8DbvZSsXxNRs"
      },
      "execution_count": null,
      "outputs": []
    }
  ]
}